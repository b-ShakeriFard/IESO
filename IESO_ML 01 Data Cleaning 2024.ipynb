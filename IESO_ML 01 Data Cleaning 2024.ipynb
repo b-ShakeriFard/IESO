{
 "cells": [
  {
   "cell_type": "markdown",
   "id": "ca247877-271a-450b-9b38-08679d4370f0",
   "metadata": {},
   "source": [
    "# <center> Machine Learning Techniques Applied to Power Data </center>\n",
    "\n",
    "\n",
    "<center> Ontario's Electricity Market Data </center>\n",
    "<center> . </center>\n",
    "<center> All data used for this project is publicly available and can be </center>\n",
    "<center> accessed through Ontario's Independent Electricity System Operator's website </center>\n",
    "\n",
    "<center> . </center>\n",
    "<center> For more information please click on > <a href='https://www.ieso.ca/power-data'> ieso.ca </a> </center>\n",
    "\n",
    "notebook by: Behrouz ShakeriFard\n",
    "\n",
    "contact: bshakeri@torontomu.ca\n",
    "\n",
    "Jan 2024"
   ]
  },
  {
   "cell_type": "markdown",
   "id": "309c4882-5c9c-4b6d-9f49-aff111739a50",
   "metadata": {},
   "source": [
    "<hr>"
   ]
  },
  {
   "cell_type": "markdown",
   "id": "c62940f6-fb8e-4fef-a6c1-f53fe0039206",
   "metadata": {},
   "source": [
    "## A Few Words About the Project\n",
    "\n",
    "\n",
    "This project is a simple approach to utilizing basic Machine Learning algorithms (Logistic Regression, Decision Trees, Random Forests, and XGBoost) in order to predict price spikes in the electricity market.\n",
    "\n",
    "There are commercial uses for a project like this. For example, any building (residential or commercial) equipped with a WiFi-capable Microcontroller Unit (MCU) and a sufficiently large energy storage unit (such as lithium-ion batteries) can use this model to *automatically* connect or disconnect from the grid, and thus, avoid electricity consumption from the grid as prices spike. This can reduce electricity cost for the consumer. Think of it as a smart electricity management system that reads data from the local system operator, makes a prediction, and follows that with a decision.\n",
    "\n",
    "Technical questions regarding the best practices for setting up the network connections for this kind of Internet of Things (IoT) devices (which, in this case, are also using Artificial Intelligence) are worth investigating. However, that would be beyond the scope of this notebook. \n",
    "\n",
    "#### Who is this notebook for?\n",
    "Throughout this notebook, I will try to use casual language. The purpose is to make this project easy to understand and easy to follow. There is a trade-off, however. Some of the things that will be explained here, might seem too obvious for more advanced users. This, will inevitably make the notebook a bit longer. So, feel free to skip over large boxes of words if you are an experienced Machine Learning professional, and follow along with graphs.\n",
    "\n",
    "#### Your level of experience and theoretical knowledge\n",
    "\n",
    "I will move forward with the assumption that you have some familiarity with basic Machine Learning algorithms. The purpose of this notebook is to show:\n",
    "\n",
    "1. how we can explore a clean data set, and make sense of it;\n",
    "\n",
    "2. to present a simple but useful application for a few Machine Learning algorithms that are relatively easy-to-understand and readily available for use, with the right data set.\n",
    "\n",
    "This project has been broken down into several notebooks (EDA, Feature Engineering, Modelling), and it is best suited for:\n",
    "\n",
    "1. those who have earned an undergrad degree in the fields of Mathematics, Statistics, or Economics;\n",
    "2. those enrolled in (or graduated from) Computer Science programme;\n",
    "3. those enrolled in (or graduated from) a graduate level quantitative field (such as economics);\n",
    "4. and PhD level students with understanding of scientific methods, with emphasis on empirical work which envolves data, regression analysis, cause and effect investigation, causal inference, etc. "
   ]
  },
  {
   "cell_type": "markdown",
   "id": "2d238981-ee61-4f06-9a6f-b482d0c30daf",
   "metadata": {},
   "source": [
    "<hr>"
   ]
  },
  {
   "cell_type": "markdown",
   "id": "a423285d-3707-49b0-b4c9-92bdc4b64d8b",
   "metadata": {},
   "source": [
    "## Introduction:\n",
    "Ontario's Independent Electricity Systems Operator (IESO) records key variables of Ontario's electricity system, and this data is available in CSV format for anyone who is interested. These variables include hourly prices, hourly demand, hourly output, capacity for generation, and more. \n",
    "\n",
    "For the first step (which would be data cleaning, a must-do before Exploratory Data Analysis or EDA) we will import one year worth of data. And everything that we need, can be found in three files:\n",
    "\n",
    "- Ontario and Market Demand\n",
    "- Hourly Ontario's Electricity Price (HOEP)\n",
    "- Generator Output and Capacity (GOC)\n",
    "\n",
    "These files can be found here: <a> https://www.ieso.ca/en/Power-Data/Data-Directory </a>\n",
    "\n",
    "\n",
    "Before getting started with the data we need to import a few useful python packages."
   ]
  },
  {
   "cell_type": "code",
   "execution_count": 92,
   "id": "3b825880-b8f6-4c84-9185-ea63eafb3f25",
   "metadata": {},
   "outputs": [],
   "source": [
    "import numpy as np\n",
    "import pandas as pd"
   ]
  },
  {
   "cell_type": "markdown",
   "id": "712271e1-8af9-4cc2-bab1-f1f8fb713007",
   "metadata": {},
   "source": [
    "# <center> Demand </center>\n",
    "\n",
    "<center> After downloading the CSV file from IESO website, we will use Pandas library to load the data. </center>\n"
   ]
  },
  {
   "cell_type": "code",
   "execution_count": 93,
   "id": "2fa72e04-23fd-4153-8c22-9bfecf73f983",
   "metadata": {},
   "outputs": [],
   "source": [
    "# load the data and store it in memory, in form of a dataframe\n",
    "d_2021 = pd.read_csv('PUB_Demand_2021_v396.csv')"
   ]
  },
  {
   "cell_type": "code",
   "execution_count": 94,
   "id": "e8636b51-1ef7-4fe6-8c1a-fab5f8530976",
   "metadata": {},
   "outputs": [
    {
     "data": {
      "text/html": [
       "<div>\n",
       "<style scoped>\n",
       "    .dataframe tbody tr th:only-of-type {\n",
       "        vertical-align: middle;\n",
       "    }\n",
       "\n",
       "    .dataframe tbody tr th {\n",
       "        vertical-align: top;\n",
       "    }\n",
       "\n",
       "    .dataframe thead th {\n",
       "        text-align: right;\n",
       "    }\n",
       "</style>\n",
       "<table border=\"1\" class=\"dataframe\">\n",
       "  <thead>\n",
       "    <tr style=\"text-align: right;\">\n",
       "      <th></th>\n",
       "      <th>\\\\Hourly Demand Report</th>\n",
       "      <th>Unnamed: 1</th>\n",
       "      <th>Unnamed: 2</th>\n",
       "      <th>Unnamed: 3</th>\n",
       "    </tr>\n",
       "  </thead>\n",
       "  <tbody>\n",
       "    <tr>\n",
       "      <th>0</th>\n",
       "      <td>\\\\Created at 2022-01-31 07:30:06</td>\n",
       "      <td>NaN</td>\n",
       "      <td>NaN</td>\n",
       "      <td>NaN</td>\n",
       "    </tr>\n",
       "    <tr>\n",
       "      <th>1</th>\n",
       "      <td>\\\\For 2021</td>\n",
       "      <td>NaN</td>\n",
       "      <td>NaN</td>\n",
       "      <td>NaN</td>\n",
       "    </tr>\n",
       "    <tr>\n",
       "      <th>2</th>\n",
       "      <td>Date</td>\n",
       "      <td>Hour</td>\n",
       "      <td>Market Demand</td>\n",
       "      <td>Ontario Demand</td>\n",
       "    </tr>\n",
       "    <tr>\n",
       "      <th>3</th>\n",
       "      <td>2021-01-01</td>\n",
       "      <td>1</td>\n",
       "      <td>16057</td>\n",
       "      <td>14112</td>\n",
       "    </tr>\n",
       "    <tr>\n",
       "      <th>4</th>\n",
       "      <td>2021-01-01</td>\n",
       "      <td>2</td>\n",
       "      <td>15516</td>\n",
       "      <td>13504</td>\n",
       "    </tr>\n",
       "  </tbody>\n",
       "</table>\n",
       "</div>"
      ],
      "text/plain": [
       "             \\\\Hourly Demand Report Unnamed: 1     Unnamed: 2      Unnamed: 3\n",
       "0  \\\\Created at 2022-01-31 07:30:06        NaN            NaN             NaN\n",
       "1                        \\\\For 2021        NaN            NaN             NaN\n",
       "2                              Date       Hour  Market Demand  Ontario Demand\n",
       "3                        2021-01-01          1          16057           14112\n",
       "4                        2021-01-01          2          15516           13504"
      ]
     },
     "execution_count": 94,
     "metadata": {},
     "output_type": "execute_result"
    }
   ],
   "source": [
    "# sanity check for the dataframe\n",
    "d_2021.head()"
   ]
  },
  {
   "cell_type": "code",
   "execution_count": 95,
   "id": "56a4a515-3cdd-4942-8c18-05f8eb6e2d5e",
   "metadata": {},
   "outputs": [
    {
     "data": {
      "text/plain": [
       "(8763, 4)"
      ]
     },
     "execution_count": 95,
     "metadata": {},
     "output_type": "execute_result"
    }
   ],
   "source": [
    "# Let's check out the shape of our dataframe\n",
    "d_2021.shape"
   ]
  },
  {
   "cell_type": "code",
   "execution_count": 96,
   "id": "65aa552e-3f90-4e53-825a-fb1972295f66",
   "metadata": {},
   "outputs": [
    {
     "data": {
      "text/html": [
       "<div>\n",
       "<style scoped>\n",
       "    .dataframe tbody tr th:only-of-type {\n",
       "        vertical-align: middle;\n",
       "    }\n",
       "\n",
       "    .dataframe tbody tr th {\n",
       "        vertical-align: top;\n",
       "    }\n",
       "\n",
       "    .dataframe thead th {\n",
       "        text-align: right;\n",
       "    }\n",
       "</style>\n",
       "<table border=\"1\" class=\"dataframe\">\n",
       "  <thead>\n",
       "    <tr style=\"text-align: right;\">\n",
       "      <th></th>\n",
       "      <th>\\\\Hourly Demand Report</th>\n",
       "      <th>Unnamed: 1</th>\n",
       "      <th>Unnamed: 2</th>\n",
       "      <th>Unnamed: 3</th>\n",
       "    </tr>\n",
       "  </thead>\n",
       "  <tbody>\n",
       "    <tr>\n",
       "      <th>8758</th>\n",
       "      <td>2021-12-31</td>\n",
       "      <td>20</td>\n",
       "      <td>17315</td>\n",
       "      <td>16046</td>\n",
       "    </tr>\n",
       "    <tr>\n",
       "      <th>8759</th>\n",
       "      <td>2021-12-31</td>\n",
       "      <td>21</td>\n",
       "      <td>16629</td>\n",
       "      <td>15529</td>\n",
       "    </tr>\n",
       "    <tr>\n",
       "      <th>8760</th>\n",
       "      <td>2021-12-31</td>\n",
       "      <td>22</td>\n",
       "      <td>16010</td>\n",
       "      <td>15112</td>\n",
       "    </tr>\n",
       "    <tr>\n",
       "      <th>8761</th>\n",
       "      <td>2021-12-31</td>\n",
       "      <td>23</td>\n",
       "      <td>15362</td>\n",
       "      <td>14596</td>\n",
       "    </tr>\n",
       "    <tr>\n",
       "      <th>8762</th>\n",
       "      <td>2021-12-31</td>\n",
       "      <td>24</td>\n",
       "      <td>15227</td>\n",
       "      <td>14070</td>\n",
       "    </tr>\n",
       "  </tbody>\n",
       "</table>\n",
       "</div>"
      ],
      "text/plain": [
       "     \\\\Hourly Demand Report Unnamed: 1 Unnamed: 2 Unnamed: 3\n",
       "8758             2021-12-31         20      17315      16046\n",
       "8759             2021-12-31         21      16629      15529\n",
       "8760             2021-12-31         22      16010      15112\n",
       "8761             2021-12-31         23      15362      14596\n",
       "8762             2021-12-31         24      15227      14070"
      ]
     },
     "execution_count": 96,
     "metadata": {},
     "output_type": "execute_result"
    }
   ],
   "source": [
    "# seeing the very end of the dataframe\n",
    "d_2021.tail()"
   ]
  },
  {
   "cell_type": "markdown",
   "id": "30ae52a7-4789-4db7-823c-dbe08124190c",
   "metadata": {},
   "source": [
    "Cool. Looks like we have 8760 data points, representing the 24 hours in each of the 365 days, in a full year. Let's double check:"
   ]
  },
  {
   "cell_type": "code",
   "execution_count": 97,
   "id": "8cc63932-124b-42a6-80ef-b469abba40a0",
   "metadata": {},
   "outputs": [
    {
     "data": {
      "text/plain": [
       "8760"
      ]
     },
     "execution_count": 97,
     "metadata": {},
     "output_type": "execute_result"
    }
   ],
   "source": [
    "365* 24"
   ]
  },
  {
   "cell_type": "markdown",
   "id": "9521f487-4c24-4480-bce8-f45433a70e43",
   "metadata": {},
   "source": [
    "Sweet! Now let's do a little clean up!"
   ]
  },
  {
   "cell_type": "markdown",
   "id": "fbec7975-9f40-48f4-9b0b-55439724fce4",
   "metadata": {},
   "source": [
    "<hr>"
   ]
  },
  {
   "cell_type": "markdown",
   "id": "8a4db0e8-e8e0-4664-a661-273896f31302",
   "metadata": {},
   "source": [
    "#### [Task]:\n",
    "By removing the top three rows and renaming the columns, we can make our dataframe look more clean and tidy; and crucially, more usable!"
   ]
  },
  {
   "cell_type": "code",
   "execution_count": 98,
   "id": "a73be133-3085-49f5-80ee-91078700dd42",
   "metadata": {},
   "outputs": [],
   "source": [
    "# dropping top three rows \n",
    "d_2021.drop([0,1,2], inplace = True)"
   ]
  },
  {
   "cell_type": "code",
   "execution_count": 99,
   "id": "ff01f4d4-cfc2-438e-9578-d4895f7ce59a",
   "metadata": {},
   "outputs": [],
   "source": [
    "# renaming columns\n",
    "d_2021.columns=['Date', 'Hour','Market Demand','Ontario Demand']"
   ]
  },
  {
   "cell_type": "code",
   "execution_count": 100,
   "id": "786b6ce7-8fe0-4ab5-848a-6e8bf9462676",
   "metadata": {},
   "outputs": [
    {
     "data": {
      "text/html": [
       "<div>\n",
       "<style scoped>\n",
       "    .dataframe tbody tr th:only-of-type {\n",
       "        vertical-align: middle;\n",
       "    }\n",
       "\n",
       "    .dataframe tbody tr th {\n",
       "        vertical-align: top;\n",
       "    }\n",
       "\n",
       "    .dataframe thead th {\n",
       "        text-align: right;\n",
       "    }\n",
       "</style>\n",
       "<table border=\"1\" class=\"dataframe\">\n",
       "  <thead>\n",
       "    <tr style=\"text-align: right;\">\n",
       "      <th></th>\n",
       "      <th>Date</th>\n",
       "      <th>Hour</th>\n",
       "      <th>Market Demand</th>\n",
       "      <th>Ontario Demand</th>\n",
       "    </tr>\n",
       "  </thead>\n",
       "  <tbody>\n",
       "    <tr>\n",
       "      <th>3</th>\n",
       "      <td>2021-01-01</td>\n",
       "      <td>1</td>\n",
       "      <td>16057</td>\n",
       "      <td>14112</td>\n",
       "    </tr>\n",
       "    <tr>\n",
       "      <th>4</th>\n",
       "      <td>2021-01-01</td>\n",
       "      <td>2</td>\n",
       "      <td>15516</td>\n",
       "      <td>13504</td>\n",
       "    </tr>\n",
       "    <tr>\n",
       "      <th>5</th>\n",
       "      <td>2021-01-01</td>\n",
       "      <td>3</td>\n",
       "      <td>15185</td>\n",
       "      <td>13155</td>\n",
       "    </tr>\n",
       "    <tr>\n",
       "      <th>6</th>\n",
       "      <td>2021-01-01</td>\n",
       "      <td>4</td>\n",
       "      <td>14940</td>\n",
       "      <td>12892</td>\n",
       "    </tr>\n",
       "    <tr>\n",
       "      <th>7</th>\n",
       "      <td>2021-01-01</td>\n",
       "      <td>5</td>\n",
       "      <td>14802</td>\n",
       "      <td>12798</td>\n",
       "    </tr>\n",
       "  </tbody>\n",
       "</table>\n",
       "</div>"
      ],
      "text/plain": [
       "         Date Hour Market Demand Ontario Demand\n",
       "3  2021-01-01    1         16057          14112\n",
       "4  2021-01-01    2         15516          13504\n",
       "5  2021-01-01    3         15185          13155\n",
       "6  2021-01-01    4         14940          12892\n",
       "7  2021-01-01    5         14802          12798"
      ]
     },
     "execution_count": 100,
     "metadata": {},
     "output_type": "execute_result"
    }
   ],
   "source": [
    "# sanity check\n",
    "d_2021.head()"
   ]
  },
  {
   "cell_type": "code",
   "execution_count": 101,
   "id": "e9e83986-90ad-4e50-b13f-8b06302ba56f",
   "metadata": {},
   "outputs": [
    {
     "data": {
      "text/html": [
       "<div>\n",
       "<style scoped>\n",
       "    .dataframe tbody tr th:only-of-type {\n",
       "        vertical-align: middle;\n",
       "    }\n",
       "\n",
       "    .dataframe tbody tr th {\n",
       "        vertical-align: top;\n",
       "    }\n",
       "\n",
       "    .dataframe thead th {\n",
       "        text-align: right;\n",
       "    }\n",
       "</style>\n",
       "<table border=\"1\" class=\"dataframe\">\n",
       "  <thead>\n",
       "    <tr style=\"text-align: right;\">\n",
       "      <th></th>\n",
       "      <th>Date</th>\n",
       "      <th>Hour</th>\n",
       "      <th>Market Demand</th>\n",
       "      <th>Ontario Demand</th>\n",
       "    </tr>\n",
       "  </thead>\n",
       "  <tbody>\n",
       "    <tr>\n",
       "      <th>8758</th>\n",
       "      <td>2021-12-31</td>\n",
       "      <td>20</td>\n",
       "      <td>17315</td>\n",
       "      <td>16046</td>\n",
       "    </tr>\n",
       "    <tr>\n",
       "      <th>8759</th>\n",
       "      <td>2021-12-31</td>\n",
       "      <td>21</td>\n",
       "      <td>16629</td>\n",
       "      <td>15529</td>\n",
       "    </tr>\n",
       "    <tr>\n",
       "      <th>8760</th>\n",
       "      <td>2021-12-31</td>\n",
       "      <td>22</td>\n",
       "      <td>16010</td>\n",
       "      <td>15112</td>\n",
       "    </tr>\n",
       "    <tr>\n",
       "      <th>8761</th>\n",
       "      <td>2021-12-31</td>\n",
       "      <td>23</td>\n",
       "      <td>15362</td>\n",
       "      <td>14596</td>\n",
       "    </tr>\n",
       "    <tr>\n",
       "      <th>8762</th>\n",
       "      <td>2021-12-31</td>\n",
       "      <td>24</td>\n",
       "      <td>15227</td>\n",
       "      <td>14070</td>\n",
       "    </tr>\n",
       "  </tbody>\n",
       "</table>\n",
       "</div>"
      ],
      "text/plain": [
       "            Date Hour Market Demand Ontario Demand\n",
       "8758  2021-12-31   20         17315          16046\n",
       "8759  2021-12-31   21         16629          15529\n",
       "8760  2021-12-31   22         16010          15112\n",
       "8761  2021-12-31   23         15362          14596\n",
       "8762  2021-12-31   24         15227          14070"
      ]
     },
     "execution_count": 101,
     "metadata": {},
     "output_type": "execute_result"
    }
   ],
   "source": [
    "# sanity check\n",
    "d_2021.tail()"
   ]
  },
  {
   "cell_type": "markdown",
   "id": "f1e9e7ea-0b76-42ce-b7dd-d4f7861550c3",
   "metadata": {},
   "source": [
    "All is well!"
   ]
  },
  {
   "cell_type": "markdown",
   "id": "07e0704c-cd3e-41ce-87a3-2c025194a20e",
   "metadata": {},
   "source": [
    "<hr>"
   ]
  },
  {
   "cell_type": "markdown",
   "id": "4a675d0c-da26-4a8b-88ea-16a598476c3b",
   "metadata": {},
   "source": [
    "## Data Types"
   ]
  },
  {
   "cell_type": "markdown",
   "id": "ed7a762f-72fb-49d3-9e44-2b0d715dbca3",
   "metadata": {},
   "source": [
    "It is important to check out the data types before we actually engage in any serious operation."
   ]
  },
  {
   "cell_type": "code",
   "execution_count": 102,
   "id": "8c04143d-b508-403a-9d53-75468908af65",
   "metadata": {},
   "outputs": [
    {
     "data": {
      "text/plain": [
       "Date              object\n",
       "Hour              object\n",
       "Market Demand     object\n",
       "Ontario Demand    object\n",
       "dtype: object"
      ]
     },
     "execution_count": 102,
     "metadata": {},
     "output_type": "execute_result"
    }
   ],
   "source": [
    "d_2021.dtypes"
   ]
  },
  {
   "cell_type": "markdown",
   "id": "0a7603f8-97b3-490d-8487-b30c3723a8c9",
   "metadata": {},
   "source": [
    "The data types are all wrong. We need to:\n",
    "1. convert the Market Demand and Ontario Demand into numeric data;\n",
    "2. combine the 'Date' and 'Hour' columns into one column, with 'datetime' format, and set it as index."
   ]
  },
  {
   "cell_type": "code",
   "execution_count": 103,
   "id": "090dfa55-16a7-469b-b609-c6325df2c6bb",
   "metadata": {},
   "outputs": [],
   "source": [
    "# converting the two 'Market Demand' and ' Ontario Demand' columns to numeric data type\n",
    "d_2021['Market Demand'] = d_2021['Market Demand'].apply(pd.to_numeric)\n",
    "d_2021['Ontario Demand'] = d_2021['Ontario Demand'].apply(pd.to_numeric)"
   ]
  },
  {
   "cell_type": "code",
   "execution_count": 104,
   "id": "c968ad38-b467-413d-96b1-851bc6ffbd8e",
   "metadata": {},
   "outputs": [
    {
     "data": {
      "text/plain": [
       "Date              object\n",
       "Hour              object\n",
       "Market Demand      int64\n",
       "Ontario Demand     int64\n",
       "dtype: object"
      ]
     },
     "execution_count": 104,
     "metadata": {},
     "output_type": "execute_result"
    }
   ],
   "source": [
    "d_2021.dtypes"
   ]
  },
  {
   "cell_type": "markdown",
   "id": "0e5fa400-a47d-408b-a809-2ff2b0bd7ebb",
   "metadata": {},
   "source": [
    "Cool! Now we can move on to the next step."
   ]
  },
  {
   "cell_type": "markdown",
   "id": "4c432c18-3ed3-4d74-8fa5-7cdc018a646a",
   "metadata": {},
   "source": [
    "<hr>"
   ]
  },
  {
   "cell_type": "markdown",
   "id": "08a77b5d-f3d5-42e7-827f-4704804527ef",
   "metadata": {},
   "source": [
    "#### [Plan]:\n",
    "We can make things look even more tidy and clean by combining the 'Date' and 'Hour' columns, and creating a date-time column, then setting it to be the index.\n",
    "\n",
    "<ol>\n",
    "<li> Regarding the 'Hour' column, we can convert this format to time-stamp format; </li>\n",
    "<li> Then, we can combine the time-stamp column and date column, into a single date-time column; </li>\n",
    "<li> Next, we can change the data-type to 'datetime' and set the new date-time column as the index. </li>\n",
    "</ol>\n",
    "\n",
    "This should make our dataframe much easier to handle by the computer (less memory intensive).\n",
    "Let's begin with converting 'Hour' column to a more usable data type."
   ]
  },
  {
   "cell_type": "markdown",
   "id": "8cd1cb22-bdb6-4008-ad9f-6de95684a011",
   "metadata": {},
   "source": [
    "<hr>"
   ]
  },
  {
   "cell_type": "markdown",
   "id": "a3d4d66f-28f6-4362-af06-683d7f4865cb",
   "metadata": {},
   "source": [
    "#### [Task]:\n",
    "\n",
    "There is a small problem: our HOUR data, needs to be in double digit format in a consistent way. Meaning, we need a LEADING ZERO for single digit values."
   ]
  },
  {
   "cell_type": "code",
   "execution_count": 105,
   "id": "34549ba0-4d61-4a72-8569-bb09b05c963d",
   "metadata": {},
   "outputs": [],
   "source": [
    "# addng the LEADING Zero to the single digit values\n",
    "d_2021['Hour'] = d_2021['Hour'].astype(str).str.zfill(2)"
   ]
  },
  {
   "cell_type": "code",
   "execution_count": 155,
   "id": "d98a6f49-365a-4dbc-802e-0bf544c63bda",
   "metadata": {},
   "outputs": [
    {
     "data": {
      "text/html": [
       "<div>\n",
       "<style scoped>\n",
       "    .dataframe tbody tr th:only-of-type {\n",
       "        vertical-align: middle;\n",
       "    }\n",
       "\n",
       "    .dataframe tbody tr th {\n",
       "        vertical-align: top;\n",
       "    }\n",
       "\n",
       "    .dataframe thead th {\n",
       "        text-align: right;\n",
       "    }\n",
       "</style>\n",
       "<table border=\"1\" class=\"dataframe\">\n",
       "  <thead>\n",
       "    <tr style=\"text-align: right;\">\n",
       "      <th></th>\n",
       "      <th>Market Demand</th>\n",
       "      <th>Ontario Demand</th>\n",
       "    </tr>\n",
       "    <tr>\n",
       "      <th>datetime_data</th>\n",
       "      <th></th>\n",
       "      <th></th>\n",
       "    </tr>\n",
       "  </thead>\n",
       "  <tbody>\n",
       "    <tr>\n",
       "      <th>2021-02-22 12:00:00</th>\n",
       "      <td>19554</td>\n",
       "      <td>18073</td>\n",
       "    </tr>\n",
       "    <tr>\n",
       "      <th>2021-10-21 05:00:00</th>\n",
       "      <td>14417</td>\n",
       "      <td>12117</td>\n",
       "    </tr>\n",
       "    <tr>\n",
       "      <th>2021-12-16 06:00:00</th>\n",
       "      <td>15899</td>\n",
       "      <td>13211</td>\n",
       "    </tr>\n",
       "    <tr>\n",
       "      <th>2021-07-23 05:00:00</th>\n",
       "      <td>14574</td>\n",
       "      <td>12388</td>\n",
       "    </tr>\n",
       "    <tr>\n",
       "      <th>2021-11-19 02:00:00</th>\n",
       "      <td>15656</td>\n",
       "      <td>13077</td>\n",
       "    </tr>\n",
       "    <tr>\n",
       "      <th>2021-09-18 14:00:00</th>\n",
       "      <td>16347</td>\n",
       "      <td>15213</td>\n",
       "    </tr>\n",
       "    <tr>\n",
       "      <th>2021-02-04 11:00:00</th>\n",
       "      <td>18828</td>\n",
       "      <td>16460</td>\n",
       "    </tr>\n",
       "  </tbody>\n",
       "</table>\n",
       "</div>"
      ],
      "text/plain": [
       "                     Market Demand  Ontario Demand\n",
       "datetime_data                                     \n",
       "2021-02-22 12:00:00          19554           18073\n",
       "2021-10-21 05:00:00          14417           12117\n",
       "2021-12-16 06:00:00          15899           13211\n",
       "2021-07-23 05:00:00          14574           12388\n",
       "2021-11-19 02:00:00          15656           13077\n",
       "2021-09-18 14:00:00          16347           15213\n",
       "2021-02-04 11:00:00          18828           16460"
      ]
     },
     "execution_count": 155,
     "metadata": {},
     "output_type": "execute_result"
    }
   ],
   "source": [
    "# Let's see whether it has worked, or not.\n",
    "# use either 21 or 87\n",
    "d_2021.sample(7, random_state=87)"
   ]
  },
  {
   "cell_type": "markdown",
   "id": "c983489c-bbf5-473d-928b-3614a8120e7e",
   "metadata": {},
   "source": [
    "Cool. But now we have a new problem! There is no '24' in the accepted integers which can represent HOUR of the day! So, we need to fix this issue."
   ]
  },
  {
   "cell_type": "markdown",
   "id": "4360a165-a19d-4269-a9ed-e1dbd4a3e5b2",
   "metadata": {},
   "source": [
    "<hr>"
   ]
  },
  {
   "cell_type": "markdown",
   "id": "b5b3e4b8-6689-4184-ab8d-e0c514cf83d2",
   "metadata": {},
   "source": [
    "#### [Task]:\n",
    "\n",
    "Before we convert the 'Hour' column into a datetime format, we need to replace all '24' values with '00'. \n",
    "\n",
    "Otherwise, the datetime format will have trouble dealing with 24:00:00 and will through an error, and refuse to complete the process!"
   ]
  },
  {
   "cell_type": "code",
   "execution_count": 107,
   "id": "01578ee1-7081-451b-b69a-859541adbf99",
   "metadata": {},
   "outputs": [],
   "source": [
    "replacement_number = '00'\n",
    "d_2021['Hour'] = d_2021['Hour'].replace('24', replacement_number)"
   ]
  },
  {
   "cell_type": "code",
   "execution_count": 108,
   "id": "da24569f-bca5-44c2-ac60-2435a605405f",
   "metadata": {},
   "outputs": [
    {
     "data": {
      "text/html": [
       "<div>\n",
       "<style scoped>\n",
       "    .dataframe tbody tr th:only-of-type {\n",
       "        vertical-align: middle;\n",
       "    }\n",
       "\n",
       "    .dataframe tbody tr th {\n",
       "        vertical-align: top;\n",
       "    }\n",
       "\n",
       "    .dataframe thead th {\n",
       "        text-align: right;\n",
       "    }\n",
       "</style>\n",
       "<table border=\"1\" class=\"dataframe\">\n",
       "  <thead>\n",
       "    <tr style=\"text-align: right;\">\n",
       "      <th></th>\n",
       "      <th>Date</th>\n",
       "      <th>Hour</th>\n",
       "      <th>Market Demand</th>\n",
       "      <th>Ontario Demand</th>\n",
       "    </tr>\n",
       "  </thead>\n",
       "  <tbody>\n",
       "    <tr>\n",
       "      <th>6334</th>\n",
       "      <td>2021-09-21</td>\n",
       "      <td>20</td>\n",
       "      <td>18703</td>\n",
       "      <td>17572</td>\n",
       "    </tr>\n",
       "    <tr>\n",
       "      <th>5602</th>\n",
       "      <td>2021-08-22</td>\n",
       "      <td>08</td>\n",
       "      <td>17154</td>\n",
       "      <td>15248</td>\n",
       "    </tr>\n",
       "    <tr>\n",
       "      <th>911</th>\n",
       "      <td>2021-02-07</td>\n",
       "      <td>21</td>\n",
       "      <td>20195</td>\n",
       "      <td>18224</td>\n",
       "    </tr>\n",
       "    <tr>\n",
       "      <th>1250</th>\n",
       "      <td>2021-02-21</td>\n",
       "      <td>00</td>\n",
       "      <td>17389</td>\n",
       "      <td>15024</td>\n",
       "    </tr>\n",
       "    <tr>\n",
       "      <th>7492</th>\n",
       "      <td>2021-11-09</td>\n",
       "      <td>02</td>\n",
       "      <td>14348</td>\n",
       "      <td>12379</td>\n",
       "    </tr>\n",
       "    <tr>\n",
       "      <th>2986</th>\n",
       "      <td>2021-05-05</td>\n",
       "      <td>08</td>\n",
       "      <td>16427</td>\n",
       "      <td>14617</td>\n",
       "    </tr>\n",
       "    <tr>\n",
       "      <th>6330</th>\n",
       "      <td>2021-09-21</td>\n",
       "      <td>16</td>\n",
       "      <td>19402</td>\n",
       "      <td>17678</td>\n",
       "    </tr>\n",
       "  </tbody>\n",
       "</table>\n",
       "</div>"
      ],
      "text/plain": [
       "            Date Hour  Market Demand  Ontario Demand\n",
       "6334  2021-09-21   20          18703           17572\n",
       "5602  2021-08-22   08          17154           15248\n",
       "911   2021-02-07   21          20195           18224\n",
       "1250  2021-02-21   00          17389           15024\n",
       "7492  2021-11-09   02          14348           12379\n",
       "2986  2021-05-05   08          16427           14617\n",
       "6330  2021-09-21   16          19402           17678"
      ]
     },
     "execution_count": 108,
     "metadata": {},
     "output_type": "execute_result"
    }
   ],
   "source": [
    "# sanity check\n",
    "d_2021.sample(7, random_state=32)"
   ]
  },
  {
   "cell_type": "markdown",
   "id": "d9f31922-a859-489b-b6c2-b221eb949d80",
   "metadata": {},
   "source": [
    "Cool! We have fixed the issue.\n",
    "\n",
    "Now, Let's change the format into something that represents time of the day."
   ]
  },
  {
   "cell_type": "markdown",
   "id": "413260c8-7e44-4b48-ab64-210582faacd5",
   "metadata": {},
   "source": [
    "<hr>"
   ]
  },
  {
   "cell_type": "markdown",
   "id": "6b00f7af-0b46-4fd5-be18-aa62cb599371",
   "metadata": {},
   "source": [
    "#### [Task]:\n",
    "\n",
    "Changing the 'Hour' column's format to \"HH:MM:SS\"."
   ]
  },
  {
   "cell_type": "code",
   "execution_count": 109,
   "id": "758cf92e-b810-44fc-ba48-9d5ebf12f97b",
   "metadata": {},
   "outputs": [],
   "source": [
    "# adding the minute and second pace holder\n",
    "d_2021['Hour'] = d_2021['Hour'] + ':00:00'"
   ]
  },
  {
   "cell_type": "code",
   "execution_count": 110,
   "id": "2e4d4f29-77c0-4906-b625-2a2737acf3d3",
   "metadata": {},
   "outputs": [
    {
     "data": {
      "text/html": [
       "<div>\n",
       "<style scoped>\n",
       "    .dataframe tbody tr th:only-of-type {\n",
       "        vertical-align: middle;\n",
       "    }\n",
       "\n",
       "    .dataframe tbody tr th {\n",
       "        vertical-align: top;\n",
       "    }\n",
       "\n",
       "    .dataframe thead th {\n",
       "        text-align: right;\n",
       "    }\n",
       "</style>\n",
       "<table border=\"1\" class=\"dataframe\">\n",
       "  <thead>\n",
       "    <tr style=\"text-align: right;\">\n",
       "      <th></th>\n",
       "      <th>Date</th>\n",
       "      <th>Hour</th>\n",
       "      <th>Market Demand</th>\n",
       "      <th>Ontario Demand</th>\n",
       "    </tr>\n",
       "  </thead>\n",
       "  <tbody>\n",
       "    <tr>\n",
       "      <th>7046</th>\n",
       "      <td>2021-10-21</td>\n",
       "      <td>12:00:00</td>\n",
       "      <td>17585</td>\n",
       "      <td>15422</td>\n",
       "    </tr>\n",
       "    <tr>\n",
       "      <th>6002</th>\n",
       "      <td>2021-09-07</td>\n",
       "      <td>00:00:00</td>\n",
       "      <td>15602</td>\n",
       "      <td>13500</td>\n",
       "    </tr>\n",
       "    <tr>\n",
       "      <th>2279</th>\n",
       "      <td>2021-04-05</td>\n",
       "      <td>21:00:00</td>\n",
       "      <td>16205</td>\n",
       "      <td>14968</td>\n",
       "    </tr>\n",
       "    <tr>\n",
       "      <th>964</th>\n",
       "      <td>2021-02-10</td>\n",
       "      <td>02:00:00</td>\n",
       "      <td>17539</td>\n",
       "      <td>15395</td>\n",
       "    </tr>\n",
       "    <tr>\n",
       "      <th>7551</th>\n",
       "      <td>2021-11-11</td>\n",
       "      <td>13:00:00</td>\n",
       "      <td>17024</td>\n",
       "      <td>15153</td>\n",
       "    </tr>\n",
       "    <tr>\n",
       "      <th>2107</th>\n",
       "      <td>2021-03-29</td>\n",
       "      <td>17:00:00</td>\n",
       "      <td>16115</td>\n",
       "      <td>15110</td>\n",
       "    </tr>\n",
       "    <tr>\n",
       "      <th>6383</th>\n",
       "      <td>2021-09-23</td>\n",
       "      <td>21:00:00</td>\n",
       "      <td>16453</td>\n",
       "      <td>14804</td>\n",
       "    </tr>\n",
       "    <tr>\n",
       "      <th>7612</th>\n",
       "      <td>2021-11-14</td>\n",
       "      <td>02:00:00</td>\n",
       "      <td>14968</td>\n",
       "      <td>12608</td>\n",
       "    </tr>\n",
       "    <tr>\n",
       "      <th>5276</th>\n",
       "      <td>2021-08-08</td>\n",
       "      <td>18:00:00</td>\n",
       "      <td>21396</td>\n",
       "      <td>19571</td>\n",
       "    </tr>\n",
       "    <tr>\n",
       "      <th>1786</th>\n",
       "      <td>2021-03-16</td>\n",
       "      <td>08:00:00</td>\n",
       "      <td>20093</td>\n",
       "      <td>17592</td>\n",
       "    </tr>\n",
       "    <tr>\n",
       "      <th>5690</th>\n",
       "      <td>2021-08-25</td>\n",
       "      <td>00:00:00</td>\n",
       "      <td>19120</td>\n",
       "      <td>17327</td>\n",
       "    </tr>\n",
       "    <tr>\n",
       "      <th>7312</th>\n",
       "      <td>2021-11-01</td>\n",
       "      <td>14:00:00</td>\n",
       "      <td>16847</td>\n",
       "      <td>14796</td>\n",
       "    </tr>\n",
       "    <tr>\n",
       "      <th>2647</th>\n",
       "      <td>2021-04-21</td>\n",
       "      <td>05:00:00</td>\n",
       "      <td>15453</td>\n",
       "      <td>13554</td>\n",
       "    </tr>\n",
       "  </tbody>\n",
       "</table>\n",
       "</div>"
      ],
      "text/plain": [
       "            Date      Hour  Market Demand  Ontario Demand\n",
       "7046  2021-10-21  12:00:00          17585           15422\n",
       "6002  2021-09-07  00:00:00          15602           13500\n",
       "2279  2021-04-05  21:00:00          16205           14968\n",
       "964   2021-02-10  02:00:00          17539           15395\n",
       "7551  2021-11-11  13:00:00          17024           15153\n",
       "2107  2021-03-29  17:00:00          16115           15110\n",
       "6383  2021-09-23  21:00:00          16453           14804\n",
       "7612  2021-11-14  02:00:00          14968           12608\n",
       "5276  2021-08-08  18:00:00          21396           19571\n",
       "1786  2021-03-16  08:00:00          20093           17592\n",
       "5690  2021-08-25  00:00:00          19120           17327\n",
       "7312  2021-11-01  14:00:00          16847           14796\n",
       "2647  2021-04-21  05:00:00          15453           13554"
      ]
     },
     "execution_count": 110,
     "metadata": {},
     "output_type": "execute_result"
    }
   ],
   "source": [
    "# sanity check\n",
    "d_2021.sample(13, random_state=13)"
   ]
  },
  {
   "cell_type": "markdown",
   "id": "9344a81e-bbaa-412f-a059-96651386355a",
   "metadata": {},
   "source": [
    "This is so much better!"
   ]
  },
  {
   "cell_type": "markdown",
   "id": "0255c592-b997-4afa-978c-93b65b646fce",
   "metadata": {},
   "source": [
    "Now we can add our 'Date' column to our 'Hour' column, and save the result in a new column."
   ]
  },
  {
   "cell_type": "code",
   "execution_count": 111,
   "id": "81b8f29f-2a95-41af-8e56-7ca556c26e76",
   "metadata": {},
   "outputs": [],
   "source": [
    "# Combine 'Date' and 'Hour' into a single datetime column\n",
    "d_2021['new datetime'] = d_2021['Date'].astype(str) + ' ' + d_2021['Hour'].astype(str)"
   ]
  },
  {
   "cell_type": "code",
   "execution_count": 112,
   "id": "3ba30650-c004-48f0-883a-8bece9dfc69e",
   "metadata": {},
   "outputs": [
    {
     "data": {
      "text/html": [
       "<div>\n",
       "<style scoped>\n",
       "    .dataframe tbody tr th:only-of-type {\n",
       "        vertical-align: middle;\n",
       "    }\n",
       "\n",
       "    .dataframe tbody tr th {\n",
       "        vertical-align: top;\n",
       "    }\n",
       "\n",
       "    .dataframe thead th {\n",
       "        text-align: right;\n",
       "    }\n",
       "</style>\n",
       "<table border=\"1\" class=\"dataframe\">\n",
       "  <thead>\n",
       "    <tr style=\"text-align: right;\">\n",
       "      <th></th>\n",
       "      <th>Date</th>\n",
       "      <th>Hour</th>\n",
       "      <th>Market Demand</th>\n",
       "      <th>Ontario Demand</th>\n",
       "      <th>new datetime</th>\n",
       "    </tr>\n",
       "  </thead>\n",
       "  <tbody>\n",
       "    <tr>\n",
       "      <th>886</th>\n",
       "      <td>2021-02-06</td>\n",
       "      <td>20:00:00</td>\n",
       "      <td>19989</td>\n",
       "      <td>18409</td>\n",
       "      <td>2021-02-06 20:00:00</td>\n",
       "    </tr>\n",
       "    <tr>\n",
       "      <th>4086</th>\n",
       "      <td>2021-06-20</td>\n",
       "      <td>04:00:00</td>\n",
       "      <td>13573</td>\n",
       "      <td>11496</td>\n",
       "      <td>2021-06-20 04:00:00</td>\n",
       "    </tr>\n",
       "    <tr>\n",
       "      <th>8544</th>\n",
       "      <td>2021-12-22</td>\n",
       "      <td>22:00:00</td>\n",
       "      <td>20466</td>\n",
       "      <td>18274</td>\n",
       "      <td>2021-12-22 22:00:00</td>\n",
       "    </tr>\n",
       "    <tr>\n",
       "      <th>3272</th>\n",
       "      <td>2021-05-17</td>\n",
       "      <td>06:00:00</td>\n",
       "      <td>14172</td>\n",
       "      <td>12571</td>\n",
       "      <td>2021-05-17 06:00:00</td>\n",
       "    </tr>\n",
       "    <tr>\n",
       "      <th>7274</th>\n",
       "      <td>2021-10-30</td>\n",
       "      <td>00:00:00</td>\n",
       "      <td>13879</td>\n",
       "      <td>12306</td>\n",
       "      <td>2021-10-30 00:00:00</td>\n",
       "    </tr>\n",
       "  </tbody>\n",
       "</table>\n",
       "</div>"
      ],
      "text/plain": [
       "            Date      Hour  Market Demand  Ontario Demand         new datetime\n",
       "886   2021-02-06  20:00:00          19989           18409  2021-02-06 20:00:00\n",
       "4086  2021-06-20  04:00:00          13573           11496  2021-06-20 04:00:00\n",
       "8544  2021-12-22  22:00:00          20466           18274  2021-12-22 22:00:00\n",
       "3272  2021-05-17  06:00:00          14172           12571  2021-05-17 06:00:00\n",
       "7274  2021-10-30  00:00:00          13879           12306  2021-10-30 00:00:00"
      ]
     },
     "execution_count": 112,
     "metadata": {},
     "output_type": "execute_result"
    }
   ],
   "source": [
    "# sanity check\n",
    "d_2021.sample(5)"
   ]
  },
  {
   "cell_type": "code",
   "execution_count": 113,
   "id": "b7fd2fee-2f0e-4a4b-beb8-0803713f575b",
   "metadata": {},
   "outputs": [],
   "source": [
    "# changing the data type of our new column\n",
    "d_2021['datetime_data'] = pd.to_datetime(d_2021['new datetime'], format='%Y-%m-%d %H:%M:%S')"
   ]
  },
  {
   "cell_type": "code",
   "execution_count": 114,
   "id": "908ebc91-4048-49c0-8e13-6a2fe23b21c2",
   "metadata": {},
   "outputs": [],
   "source": [
    "# Set the new datetime column as the index\n",
    "d_2021.set_index('datetime_data', inplace=True)\n",
    "\n",
    "# Drop the original 'Date' and 'Hour' columns if needed\n",
    "d_2021 = d_2021.drop(['Date', 'Hour', 'new datetime'], axis=1)"
   ]
  },
  {
   "cell_type": "code",
   "execution_count": 115,
   "id": "2e4ab652-1e4c-4c8e-b0dc-7d536759325d",
   "metadata": {},
   "outputs": [
    {
     "data": {
      "text/plain": [
       "Market Demand     int64\n",
       "Ontario Demand    int64\n",
       "dtype: object"
      ]
     },
     "execution_count": 115,
     "metadata": {},
     "output_type": "execute_result"
    }
   ],
   "source": [
    "# sanity check \n",
    "d_2021.dtypes"
   ]
  },
  {
   "cell_type": "markdown",
   "id": "067e43ab-e69b-4be3-ab24-a3136b235f79",
   "metadata": {},
   "source": [
    "Cool! We have accomplished our goal. Our dataframe looks pretty good!"
   ]
  },
  {
   "cell_type": "code",
   "execution_count": 116,
   "id": "9a9b732b-db98-4e66-bd37-ffec063e93da",
   "metadata": {},
   "outputs": [
    {
     "data": {
      "text/plain": [
       "(8760, 2)"
      ]
     },
     "execution_count": 116,
     "metadata": {},
     "output_type": "execute_result"
    }
   ],
   "source": [
    "d_2021.shape"
   ]
  },
  {
   "cell_type": "markdown",
   "id": "4d44448a-6aee-4b65-8f80-8cc7d31bfc67",
   "metadata": {},
   "source": [
    "Not only we have simplified and cleaned our dataset, we have also significantly reduced the space that our dataframe was occupying on our computer's memory!\n",
    "\n",
    "Let's check out how much reduction (memory space required) we have managed to accomplish."
   ]
  },
  {
   "cell_type": "markdown",
   "id": "2e0cf488-20bd-4f32-a2fe-6d366b26a07c",
   "metadata": {},
   "source": [
    "<hr>"
   ]
  },
  {
   "cell_type": "markdown",
   "id": "dc1de19a-3f32-41dd-915b-5affde4d4121",
   "metadata": {},
   "source": [
    "#### [Task]:\n",
    "\n",
    "Showing the space required on our computer's memory for holding this dataframe."
   ]
  },
  {
   "cell_type": "code",
   "execution_count": 117,
   "id": "3dc04ee5-e72c-4c35-b901-12c240795067",
   "metadata": {
    "scrolled": true
   },
   "outputs": [
    {
     "name": "stdout",
     "output_type": "stream",
     "text": [
      "\n",
      "Total memory usage of the DataFrame: 210240 bytes\n"
     ]
    }
   ],
   "source": [
    "# Display the total memory usage of the DataFrame\n",
    "total_memory_usage = d_2021.memory_usage(deep=True).sum()\n",
    "print(\"\\nTotal memory usage of the DataFrame:\", total_memory_usage, \"bytes\")"
   ]
  },
  {
   "cell_type": "markdown",
   "id": "280ed205-2c5e-449d-b609-119c11fa1cd6",
   "metadata": {},
   "source": [
    "<hr>"
   ]
  },
  {
   "cell_type": "markdown",
   "id": "32437b5d-4eab-4a43-8624-f564f350f8c0",
   "metadata": {},
   "source": [
    "Very cool.\n",
    "\n",
    "Let's check out the original size of the imported data, and make a comparison."
   ]
  },
  {
   "cell_type": "code",
   "execution_count": 118,
   "id": "52d53e30-c42c-4871-aa43-bdcd1e0dfa92",
   "metadata": {},
   "outputs": [
    {
     "name": "stdout",
     "output_type": "stream",
     "text": [
      "\n",
      "Total memory usage of the DataFrame: 2187454 bytes\n"
     ]
    }
   ],
   "source": [
    "raw_data = pd.read_csv('PUB_Demand_2021_v396.csv')\n",
    "\n",
    "# Display the total memory usage of the raw DataFrame\n",
    "total_memory_usage = raw_data.memory_usage(deep=True).sum()\n",
    "print(\"\\nTotal memory usage of the DataFrame:\", total_memory_usage, \"bytes\")"
   ]
  },
  {
   "cell_type": "markdown",
   "id": "48effeca-c955-4685-9afa-e09c5a3bb98b",
   "metadata": {},
   "source": [
    "### [Accomplishment]:\n",
    "\n",
    "Not only our dataframe looks much more clean, tidy, and neat; but also, we are now ONE TENTH of the space which was previously required, while working with this dataframe!"
   ]
  },
  {
   "cell_type": "markdown",
   "id": "ee16a474-62dc-4118-b585-bfa453b6bbb9",
   "metadata": {},
   "source": [
    "<hr>"
   ]
  },
  {
   "cell_type": "markdown",
   "id": "8d51f310-4e51-4f58-a74f-27bb91d2938f",
   "metadata": {},
   "source": [
    "## More About Our Cleaned Dataframe"
   ]
  },
  {
   "cell_type": "code",
   "execution_count": 119,
   "id": "a3bdd583-bb32-4296-91f0-a7d327e3d053",
   "metadata": {},
   "outputs": [
    {
     "data": {
      "text/plain": [
       "(8760, 2)"
      ]
     },
     "execution_count": 119,
     "metadata": {},
     "output_type": "execute_result"
    }
   ],
   "source": [
    "d_2021.shape"
   ]
  },
  {
   "cell_type": "markdown",
   "id": "9b5cdc03-b342-4b9a-b3e7-fafeffccd932",
   "metadata": {},
   "source": [
    "We have TWO columns and 8760 rows.\n",
    "\n",
    "Our index is providing us with date and hour. \n",
    "\n",
    "The next column, 'Market Demand' represents the total energy that was supplied from the IESO-administered market. The IESO calculates total market demand by summing all output from generators registered in the market plus all scheduled imports to the province.\n",
    "\n",
    "The last column, 'Ontario Demand' represents the  sum of all loads within Ontario which is supplied from the market, plus all line losses incurred on the IESO-controlled grid."
   ]
  },
  {
   "cell_type": "markdown",
   "id": "7a007f24-4222-4a0c-8ce1-92a48e629da2",
   "metadata": {},
   "source": [
    "### Missing Values "
   ]
  },
  {
   "cell_type": "markdown",
   "id": "73fcb179-3d34-4e05-804f-7ba858c2b1ee",
   "metadata": {},
   "source": [
    "Next, we will check for NAN, missing values or any other possible problems."
   ]
  },
  {
   "cell_type": "code",
   "execution_count": 120,
   "id": "eb6cdd8c-4ef3-401e-aa83-db251ca2ba3b",
   "metadata": {},
   "outputs": [
    {
     "data": {
      "text/plain": [
       "Market Demand     0\n",
       "Ontario Demand    0\n",
       "dtype: int64"
      ]
     },
     "execution_count": 120,
     "metadata": {},
     "output_type": "execute_result"
    }
   ],
   "source": [
    "# checking for NAN or null values\n",
    "d_2021.isnull().sum()"
   ]
  },
  {
   "cell_type": "code",
   "execution_count": 121,
   "id": "2b8bc8a0-8b70-4751-8121-ad99623b1750",
   "metadata": {},
   "outputs": [
    {
     "data": {
      "text/plain": [
       "1"
      ]
     },
     "execution_count": 121,
     "metadata": {},
     "output_type": "execute_result"
    }
   ],
   "source": [
    "# checking for duplicate values\n",
    "d_2021.duplicated().sum()"
   ]
  },
  {
   "cell_type": "markdown",
   "id": "2c7227cb-4181-4592-b674-7f7a721c121a",
   "metadata": {},
   "source": [
    "This is a very clean dataframe."
   ]
  },
  {
   "cell_type": "markdown",
   "id": "7b8acd90-86aa-447f-89c0-ca8ecb66fb51",
   "metadata": {},
   "source": [
    "<hr>"
   ]
  },
  {
   "cell_type": "markdown",
   "id": "b3011a1a-b47a-470d-a828-4e6ba491c5bb",
   "metadata": {},
   "source": [
    "Before moving on, let's take a quick look at our data!"
   ]
  },
  {
   "cell_type": "code",
   "execution_count": 145,
   "id": "43fc24d3-7a5b-481c-862e-ded0806bdda0",
   "metadata": {},
   "outputs": [
    {
     "data": {
      "text/html": [
       "<div>\n",
       "<style scoped>\n",
       "    .dataframe tbody tr th:only-of-type {\n",
       "        vertical-align: middle;\n",
       "    }\n",
       "\n",
       "    .dataframe tbody tr th {\n",
       "        vertical-align: top;\n",
       "    }\n",
       "\n",
       "    .dataframe thead th {\n",
       "        text-align: right;\n",
       "    }\n",
       "</style>\n",
       "<table border=\"1\" class=\"dataframe\">\n",
       "  <thead>\n",
       "    <tr style=\"text-align: right;\">\n",
       "      <th></th>\n",
       "      <th>Market Demand</th>\n",
       "      <th>Ontario Demand</th>\n",
       "    </tr>\n",
       "  </thead>\n",
       "  <tbody>\n",
       "    <tr>\n",
       "      <th>count</th>\n",
       "      <td>8760.000000</td>\n",
       "      <td>8760.000000</td>\n",
       "    </tr>\n",
       "    <tr>\n",
       "      <th>mean</th>\n",
       "      <td>17192.678082</td>\n",
       "      <td>15279.019406</td>\n",
       "    </tr>\n",
       "    <tr>\n",
       "      <th>std</th>\n",
       "      <td>2200.862573</td>\n",
       "      <td>2303.635847</td>\n",
       "    </tr>\n",
       "    <tr>\n",
       "      <th>min</th>\n",
       "      <td>12569.000000</td>\n",
       "      <td>10426.000000</td>\n",
       "    </tr>\n",
       "    <tr>\n",
       "      <th>25%</th>\n",
       "      <td>15542.000000</td>\n",
       "      <td>13592.750000</td>\n",
       "    </tr>\n",
       "    <tr>\n",
       "      <th>50%</th>\n",
       "      <td>16936.000000</td>\n",
       "      <td>15116.000000</td>\n",
       "    </tr>\n",
       "    <tr>\n",
       "      <th>75%</th>\n",
       "      <td>18657.500000</td>\n",
       "      <td>16780.250000</td>\n",
       "    </tr>\n",
       "    <tr>\n",
       "      <th>max</th>\n",
       "      <td>24609.000000</td>\n",
       "      <td>22986.000000</td>\n",
       "    </tr>\n",
       "  </tbody>\n",
       "</table>\n",
       "</div>"
      ],
      "text/plain": [
       "       Market Demand  Ontario Demand\n",
       "count    8760.000000     8760.000000\n",
       "mean    17192.678082    15279.019406\n",
       "std      2200.862573     2303.635847\n",
       "min     12569.000000    10426.000000\n",
       "25%     15542.000000    13592.750000\n",
       "50%     16936.000000    15116.000000\n",
       "75%     18657.500000    16780.250000\n",
       "max     24609.000000    22986.000000"
      ]
     },
     "execution_count": 145,
     "metadata": {},
     "output_type": "execute_result"
    }
   ],
   "source": [
    "d_2021.describe()"
   ]
  },
  {
   "cell_type": "markdown",
   "id": "ff4a7f27-2bbc-4499-b771-31250cc65324",
   "metadata": {},
   "source": [
    "And one quick graph for the sake of visualization!"
   ]
  },
  {
   "cell_type": "code",
   "execution_count": 147,
   "id": "043e824a-f430-4fc0-8042-261d1b57258c",
   "metadata": {},
   "outputs": [],
   "source": [
    "# implementing the pivot\n",
    "pivot_demand = d_2021.pivot_table(index=d_2021.index.date,columns=d_2021.index.time,values=\"Ontario Demand\")"
   ]
  },
  {
   "cell_type": "code",
   "execution_count": 157,
   "id": "7215f683-0e92-4df2-b83a-8643f8c5491e",
   "metadata": {},
   "outputs": [
    {
     "data": {
      "text/plain": [
       "Text(0.5, 1.0, 'Annual Average Demand - expressed in a 24-hr cycle')"
      ]
     },
     "execution_count": 157,
     "metadata": {},
     "output_type": "execute_result"
    },
    {
     "data": {
      "image/png": "[encoded data removed]",
      "text/plain": [
       "<Figure size 640x480 with 1 Axes>"
      ]
     },
     "metadata": {},
     "output_type": "display_data"
    }
   ],
   "source": [
    "# this graph shows the average price of electricity during the 24-hour cycle, using \n",
    "# the 8760 data points, reflecting 365 days of the year.\n",
    "pivot_demand.mean().plot()\n",
    "\n",
    "# We can give it a title\n",
    "plt.title('Annual Average Demand - expressed in a 24-hr cycle')"
   ]
  },
  {
   "cell_type": "markdown",
   "id": "e607f51b-e442-4c36-b0b5-50ec0408805e",
   "metadata": {},
   "source": [
    "## Siginificant Deviations from the Mean"
   ]
  },
  {
   "cell_type": "code",
   "execution_count": 150,
   "id": "c4d73b5c-9980-4878-893d-4e2c6bef43bd",
   "metadata": {},
   "outputs": [],
   "source": [
    "demand_deviations = pivot_demand - pivot_demand.mean()"
   ]
  },
  {
   "cell_type": "code",
   "execution_count": 158,
   "id": "15377b9a-cabf-47ed-9eab-d8db6107e9d0",
   "metadata": {},
   "outputs": [
    {
     "data": {
      "text/plain": [
       "<Axes: title={'center': 'Heatmap showing deviations from the mean - demand spikes red'}>"
      ]
     },
     "execution_count": 158,
     "metadata": {},
     "output_type": "execute_result"
    },
    {
     "data": {
      "image/png": "[encoded data removed]",
      "text/plain": [
       "<Figure size 1800x1200 with 2 Axes>"
      ]
     },
     "metadata": {},
     "output_type": "display_data"
    }
   ],
   "source": [
    "# Set the size of the graph\n",
    "plt.figure(figsize=(18,12))\n",
    "\n",
    "# color gradient\n",
    "cmap = sns.diverging_palette(255, 2, s=100, l=65, sep=40, center=\"dark\", as_cmap=True)\n",
    "\n",
    "# title of the graph\n",
    "plt.title('Heatmap showing deviations from the mean - demand spikes red')\n",
    "\n",
    "# Produce the Seaborn Heat Map\n",
    "sns.heatmap(demand_deviations, cmap = cmap)"
   ]
  },
  {
   "cell_type": "markdown",
   "id": "b359d183-6aaa-4aeb-b905-afdbe3550b32",
   "metadata": {},
   "source": [
    "Very cool! Let's move on to our next piece of data!"
   ]
  },
  {
   "cell_type": "markdown",
   "id": "ac7d665c-6624-4e62-bdb1-e84a6e6e5a70",
   "metadata": {},
   "source": [
    "<hr>"
   ]
  },
  {
   "cell_type": "markdown",
   "id": "790c7d18-9eb2-4706-8c5f-451ff366d1e0",
   "metadata": {},
   "source": [
    "# <center> Price </center>"
   ]
  },
  {
   "cell_type": "markdown",
   "id": "f632159a-86a0-4890-b85b-b25539347ca6",
   "metadata": {},
   "source": [
    "Hourly Ontario Energy Price (HOEP) is set by the system operator, in this case, Ontario's Independent System Operator, or IESO.\n",
    "\n",
    "Price is a numeric variable that reflects the market fluctuations. As demand fluctuates, energy producers (generators) chase market demand. IESO ensures that generators have sufficient incentive to enter the market when demand is high, by increasing the price, and thus, bringing sufficient incentive to the market for producers (generators) to start producing electricity.\n",
    "\n",
    "The exact mechanism through which IESO sets the price is not discussed in this notebook, and is of no interest. Because the objective is to predict price without any knowledge of that mechanism. In other words, the aim of this project is to predict price, an hour from now, in the absence of any knowledge regarding how IESO sets the price.\n",
    "\n",
    "Now let's start looking at some data.\n"
   ]
  },
  {
   "cell_type": "code",
   "execution_count": 122,
   "id": "f7c3e0c7-899f-4098-b776-0d3ef143c49a",
   "metadata": {},
   "outputs": [],
   "source": [
    "# importing the file that was downloaded from IESO website\n",
    "pr_2021 = pd.read_csv('PUB_PriceHOEPPredispOR_2021.csv')"
   ]
  },
  {
   "cell_type": "code",
   "execution_count": 123,
   "id": "f2a15bd1-f616-48d7-9541-2ea24849def0",
   "metadata": {},
   "outputs": [
    {
     "data": {
      "text/html": [
       "<div>\n",
       "<style scoped>\n",
       "    .dataframe tbody tr th:only-of-type {\n",
       "        vertical-align: middle;\n",
       "    }\n",
       "\n",
       "    .dataframe tbody tr th {\n",
       "        vertical-align: top;\n",
       "    }\n",
       "\n",
       "    .dataframe thead th {\n",
       "        text-align: right;\n",
       "    }\n",
       "</style>\n",
       "<table border=\"1\" class=\"dataframe\">\n",
       "  <thead>\n",
       "    <tr style=\"text-align: right;\">\n",
       "      <th></th>\n",
       "      <th>\\\\Yearly HOEP OR Predispatch Report</th>\n",
       "      <th>Unnamed: 1</th>\n",
       "      <th>Unnamed: 2</th>\n",
       "      <th>Unnamed: 3</th>\n",
       "      <th>Unnamed: 4</th>\n",
       "      <th>Unnamed: 5</th>\n",
       "      <th>Unnamed: 6</th>\n",
       "      <th>Unnamed: 7</th>\n",
       "      <th>Unnamed: 8</th>\n",
       "    </tr>\n",
       "  </thead>\n",
       "  <tbody>\n",
       "    <tr>\n",
       "      <th>0</th>\n",
       "      <td>\\\\Created at 2022-01-31 08:02:12</td>\n",
       "      <td>NaN</td>\n",
       "      <td>NaN</td>\n",
       "      <td>NaN</td>\n",
       "      <td>NaN</td>\n",
       "      <td>NaN</td>\n",
       "      <td>NaN</td>\n",
       "      <td>NaN</td>\n",
       "      <td>NaN</td>\n",
       "    </tr>\n",
       "    <tr>\n",
       "      <th>1</th>\n",
       "      <td>\\\\For 2021</td>\n",
       "      <td>NaN</td>\n",
       "      <td>NaN</td>\n",
       "      <td>NaN</td>\n",
       "      <td>NaN</td>\n",
       "      <td>NaN</td>\n",
       "      <td>NaN</td>\n",
       "      <td>NaN</td>\n",
       "      <td>NaN</td>\n",
       "    </tr>\n",
       "    <tr>\n",
       "      <th>2</th>\n",
       "      <td>Date</td>\n",
       "      <td>Hour</td>\n",
       "      <td>HOEP</td>\n",
       "      <td>Hour 1 Predispatch</td>\n",
       "      <td>Hour 2 Predispatch</td>\n",
       "      <td>Hour 3 Predispatch</td>\n",
       "      <td>OR 10 Min Sync</td>\n",
       "      <td>OR 10 Min non-sync</td>\n",
       "      <td>OR 30 Min</td>\n",
       "    </tr>\n",
       "    <tr>\n",
       "      <th>3</th>\n",
       "      <td>2021-01-01</td>\n",
       "      <td>1</td>\n",
       "      <td>31.74</td>\n",
       "      <td>20.69</td>\n",
       "      <td>20.33</td>\n",
       "      <td>14.89</td>\n",
       "      <td>1.36</td>\n",
       "      <td>0.23</td>\n",
       "      <td>0.23</td>\n",
       "    </tr>\n",
       "    <tr>\n",
       "      <th>4</th>\n",
       "      <td>2021-01-01</td>\n",
       "      <td>2</td>\n",
       "      <td>17.61</td>\n",
       "      <td>20.45</td>\n",
       "      <td>19.03</td>\n",
       "      <td>14.36</td>\n",
       "      <td>1.28</td>\n",
       "      <td>0.20</td>\n",
       "      <td>0.20</td>\n",
       "    </tr>\n",
       "  </tbody>\n",
       "</table>\n",
       "</div>"
      ],
      "text/plain": [
       "  \\\\Yearly HOEP OR Predispatch Report Unnamed: 1 Unnamed: 2  \\\n",
       "0    \\\\Created at 2022-01-31 08:02:12        NaN        NaN   \n",
       "1                          \\\\For 2021        NaN        NaN   \n",
       "2                                Date       Hour       HOEP   \n",
       "3                          2021-01-01          1      31.74   \n",
       "4                          2021-01-01          2      17.61   \n",
       "\n",
       "           Unnamed: 3          Unnamed: 4          Unnamed: 5      Unnamed: 6  \\\n",
       "0                 NaN                 NaN                 NaN             NaN   \n",
       "1                 NaN                 NaN                 NaN             NaN   \n",
       "2  Hour 1 Predispatch  Hour 2 Predispatch  Hour 3 Predispatch  OR 10 Min Sync   \n",
       "3               20.69               20.33               14.89            1.36   \n",
       "4               20.45               19.03               14.36            1.28   \n",
       "\n",
       "           Unnamed: 7 Unnamed: 8  \n",
       "0                 NaN        NaN  \n",
       "1                 NaN        NaN  \n",
       "2  OR 10 Min non-sync  OR 30 Min  \n",
       "3                0.23       0.23  \n",
       "4                0.20       0.20  "
      ]
     },
     "execution_count": 123,
     "metadata": {},
     "output_type": "execute_result"
    }
   ],
   "source": [
    "# sanity check\n",
    "pr_2021.head()"
   ]
  },
  {
   "cell_type": "markdown",
   "id": "560fc2a2-cac2-45c7-bf23-7db08986f5b0",
   "metadata": {},
   "source": [
    "Looks good!\n",
    "\n",
    "We can remove the first two rows because they contain no useful information."
   ]
  },
  {
   "cell_type": "code",
   "execution_count": 124,
   "id": "d112b19e-37e9-4e59-bd16-caa469c6f0aa",
   "metadata": {},
   "outputs": [],
   "source": [
    "# dropping top two rows \n",
    "pr_2021.drop([0,1], inplace = True)"
   ]
  },
  {
   "cell_type": "markdown",
   "id": "dfb65e3a-0ce8-4ee8-a5e4-7e191ea72272",
   "metadata": {},
   "source": [
    "### A few words about the market\n",
    "Demand and supply rarely meet in the electricity systems. This is why operating reserves (stand-by resource that is available to be dispatched in short notice, in order to meet demand, should an unanticipated event take place in the real-time energy market) are important. More information about Operating Reserves may be accessed here: <a> https://www.ieso.ca/en/Sector-Participants/Market-Operations/Markets-and-Related-Programs/Operating-Reserve-Markets </a>"
   ]
  },
  {
   "cell_type": "markdown",
   "id": "26e9b469-28ab-4194-8b01-1c345f90b211",
   "metadata": {},
   "source": [
    "For this analysis, we are interested in HOEP. However, it is worth bearing in mind that the operating reserve (10 min Synched) might be a good forward indicator of possible price spikes in the electricity market. We might use this column in the future. For now, however, we will only keep Date, Hour, and HOEP (Hourly Electricity Price), for the sake of simplicity."
   ]
  },
  {
   "cell_type": "code",
   "execution_count": 125,
   "id": "6d6c89cb-f101-49db-8d70-572362e1bbda",
   "metadata": {},
   "outputs": [],
   "source": [
    "# let's remove the unnecessary columns\n",
    "pr_2021 = pr_2021.drop(pr_2021.columns[[3,4,5,6,7,8]], axis=1) "
   ]
  },
  {
   "cell_type": "code",
   "execution_count": 126,
   "id": "cd3bf1d9-628d-4059-8f81-fd39f6767356",
   "metadata": {},
   "outputs": [
    {
     "data": {
      "text/html": [
       "<div>\n",
       "<style scoped>\n",
       "    .dataframe tbody tr th:only-of-type {\n",
       "        vertical-align: middle;\n",
       "    }\n",
       "\n",
       "    .dataframe tbody tr th {\n",
       "        vertical-align: top;\n",
       "    }\n",
       "\n",
       "    .dataframe thead th {\n",
       "        text-align: right;\n",
       "    }\n",
       "</style>\n",
       "<table border=\"1\" class=\"dataframe\">\n",
       "  <thead>\n",
       "    <tr style=\"text-align: right;\">\n",
       "      <th></th>\n",
       "      <th>\\\\Yearly HOEP OR Predispatch Report</th>\n",
       "      <th>Unnamed: 1</th>\n",
       "      <th>Unnamed: 2</th>\n",
       "    </tr>\n",
       "  </thead>\n",
       "  <tbody>\n",
       "    <tr>\n",
       "      <th>2</th>\n",
       "      <td>Date</td>\n",
       "      <td>Hour</td>\n",
       "      <td>HOEP</td>\n",
       "    </tr>\n",
       "    <tr>\n",
       "      <th>3</th>\n",
       "      <td>2021-01-01</td>\n",
       "      <td>1</td>\n",
       "      <td>31.74</td>\n",
       "    </tr>\n",
       "    <tr>\n",
       "      <th>4</th>\n",
       "      <td>2021-01-01</td>\n",
       "      <td>2</td>\n",
       "      <td>17.61</td>\n",
       "    </tr>\n",
       "  </tbody>\n",
       "</table>\n",
       "</div>"
      ],
      "text/plain": [
       "  \\\\Yearly HOEP OR Predispatch Report Unnamed: 1 Unnamed: 2\n",
       "2                                Date       Hour       HOEP\n",
       "3                          2021-01-01          1      31.74\n",
       "4                          2021-01-01          2      17.61"
      ]
     },
     "execution_count": 126,
     "metadata": {},
     "output_type": "execute_result"
    }
   ],
   "source": [
    "# sanity check\n",
    "pr_2021.head(3)"
   ]
  },
  {
   "cell_type": "markdown",
   "id": "bda9d2dd-f28f-47d7-a1cc-4c1c42c1391f",
   "metadata": {},
   "source": [
    "Cool. Now we can remove the top row and rename our columns!"
   ]
  },
  {
   "cell_type": "code",
   "execution_count": 127,
   "id": "f9441f83-a8df-4cb0-8f46-ac9ca93746c5",
   "metadata": {},
   "outputs": [],
   "source": [
    "# renaming columns\n",
    "pr_2021.columns=['Date','Hour','HOEP']"
   ]
  },
  {
   "cell_type": "code",
   "execution_count": 128,
   "id": "ff8bc09a-7ab1-4927-a0ca-92f792bfd8b8",
   "metadata": {},
   "outputs": [],
   "source": [
    "# dropping the top row\n",
    "pr_2021.drop([2], inplace = True)"
   ]
  },
  {
   "cell_type": "code",
   "execution_count": 129,
   "id": "9b6f67e8-ce7b-4ab7-89b4-ecb8c5b9df13",
   "metadata": {},
   "outputs": [
    {
     "data": {
      "text/html": [
       "<div>\n",
       "<style scoped>\n",
       "    .dataframe tbody tr th:only-of-type {\n",
       "        vertical-align: middle;\n",
       "    }\n",
       "\n",
       "    .dataframe tbody tr th {\n",
       "        vertical-align: top;\n",
       "    }\n",
       "\n",
       "    .dataframe thead th {\n",
       "        text-align: right;\n",
       "    }\n",
       "</style>\n",
       "<table border=\"1\" class=\"dataframe\">\n",
       "  <thead>\n",
       "    <tr style=\"text-align: right;\">\n",
       "      <th></th>\n",
       "      <th>Date</th>\n",
       "      <th>Hour</th>\n",
       "      <th>HOEP</th>\n",
       "    </tr>\n",
       "  </thead>\n",
       "  <tbody>\n",
       "    <tr>\n",
       "      <th>3</th>\n",
       "      <td>2021-01-01</td>\n",
       "      <td>1</td>\n",
       "      <td>31.74</td>\n",
       "    </tr>\n",
       "    <tr>\n",
       "      <th>4</th>\n",
       "      <td>2021-01-01</td>\n",
       "      <td>2</td>\n",
       "      <td>17.61</td>\n",
       "    </tr>\n",
       "    <tr>\n",
       "      <th>5</th>\n",
       "      <td>2021-01-01</td>\n",
       "      <td>3</td>\n",
       "      <td>14.36</td>\n",
       "    </tr>\n",
       "  </tbody>\n",
       "</table>\n",
       "</div>"
      ],
      "text/plain": [
       "         Date Hour   HOEP\n",
       "3  2021-01-01    1  31.74\n",
       "4  2021-01-01    2  17.61\n",
       "5  2021-01-01    3  14.36"
      ]
     },
     "execution_count": 129,
     "metadata": {},
     "output_type": "execute_result"
    }
   ],
   "source": [
    "#sanity check\n",
    "pr_2021.head(3)"
   ]
  },
  {
   "cell_type": "markdown",
   "id": "bbc6feb8-d5b0-4895-9891-3fc3c05b5885",
   "metadata": {},
   "source": [
    "#### [Task]:\n",
    "\n",
    "<ol>\n",
    "    <li> Change the 'Hour' column to double digit format, with leading zero;</li>\n",
    "    <li> Change the format from 'dd' to 'hh:mm:ss' format;</li>\n",
    "    <li> Concatenate the 'Date' column and 'Hour' column, and create a new column; </li>\n",
    "    <li> Change the data-type of the new column, from string (object) to datetime type;</li>\n",
    "    <li> Set it as index;</li>\n",
    "    <li> Change the 'HOEP' data type to numeric.</li>\n",
    "</ol>"
   ]
  },
  {
   "cell_type": "code",
   "execution_count": 130,
   "id": "db1d61e5-c4c7-4265-95e5-f4a2e8063837",
   "metadata": {},
   "outputs": [],
   "source": [
    "# addng the LEADING Zero to the single digit values\n",
    "pr_2021['Hour'] = pr_2021['Hour'].astype(str).str.zfill(2)"
   ]
  },
  {
   "cell_type": "code",
   "execution_count": 131,
   "id": "6f51e074-c0c3-4ae3-b993-ad337b3588b4",
   "metadata": {},
   "outputs": [],
   "source": [
    "replacement_number = '00'\n",
    "pr_2021['Hour'] = pr_2021['Hour'].replace('24', replacement_number)"
   ]
  },
  {
   "cell_type": "code",
   "execution_count": 132,
   "id": "ef4d03b2-4a53-446a-9a76-d8e1d95c67c5",
   "metadata": {},
   "outputs": [],
   "source": [
    "# adding the minute and second pace holder\n",
    "pr_2021['Hour'] = pr_2021['Hour'] + ':00:00'"
   ]
  },
  {
   "cell_type": "code",
   "execution_count": 133,
   "id": "c411a67e-ba55-4a37-9c76-7225c97d9ead",
   "metadata": {},
   "outputs": [],
   "source": [
    "# Combine 'Date' and 'Hour' into a single datetime column\n",
    "pr_2021['new datetime'] = pr_2021['Date'].astype(str) + ' ' + pr_2021['Hour'].astype(str)"
   ]
  },
  {
   "cell_type": "code",
   "execution_count": 134,
   "id": "54d51692-0922-4a07-9176-7fea9b83c26c",
   "metadata": {},
   "outputs": [],
   "source": [
    "# changing the data type of our new column\n",
    "pr_2021['datetime_data'] = pd.to_datetime(pr_2021['new datetime'], format='%Y-%m-%d %H:%M:%S')"
   ]
  },
  {
   "cell_type": "code",
   "execution_count": 135,
   "id": "fd0a2241-2b49-451a-83c8-55e8d364038f",
   "metadata": {},
   "outputs": [],
   "source": [
    "# Set the new datetime column as the index\n",
    "pr_2021.set_index('datetime_data', inplace=True)"
   ]
  },
  {
   "cell_type": "code",
   "execution_count": 136,
   "id": "0d34fd2e-d128-40d2-bbaa-c29fe0258e7d",
   "metadata": {},
   "outputs": [],
   "source": [
    "# Drop the original 'Date' and 'Hour' columns if needed\n",
    "pr_2021 = pr_2021.drop(['Date', 'Hour', 'new datetime'], axis=1)"
   ]
  },
  {
   "cell_type": "code",
   "execution_count": 137,
   "id": "27bdda16-1fb2-4496-b146-8e43a99bda76",
   "metadata": {},
   "outputs": [
    {
     "data": {
      "text/html": [
       "<div>\n",
       "<style scoped>\n",
       "    .dataframe tbody tr th:only-of-type {\n",
       "        vertical-align: middle;\n",
       "    }\n",
       "\n",
       "    .dataframe tbody tr th {\n",
       "        vertical-align: top;\n",
       "    }\n",
       "\n",
       "    .dataframe thead th {\n",
       "        text-align: right;\n",
       "    }\n",
       "</style>\n",
       "<table border=\"1\" class=\"dataframe\">\n",
       "  <thead>\n",
       "    <tr style=\"text-align: right;\">\n",
       "      <th></th>\n",
       "      <th>HOEP</th>\n",
       "    </tr>\n",
       "    <tr>\n",
       "      <th>datetime_data</th>\n",
       "      <th></th>\n",
       "    </tr>\n",
       "  </thead>\n",
       "  <tbody>\n",
       "    <tr>\n",
       "      <th>2021-01-01 01:00:00</th>\n",
       "      <td>31.74</td>\n",
       "    </tr>\n",
       "    <tr>\n",
       "      <th>2021-01-01 02:00:00</th>\n",
       "      <td>17.61</td>\n",
       "    </tr>\n",
       "    <tr>\n",
       "      <th>2021-01-01 03:00:00</th>\n",
       "      <td>14.36</td>\n",
       "    </tr>\n",
       "    <tr>\n",
       "      <th>2021-01-01 04:00:00</th>\n",
       "      <td>10.26</td>\n",
       "    </tr>\n",
       "    <tr>\n",
       "      <th>2021-01-01 05:00:00</th>\n",
       "      <td>6.03</td>\n",
       "    </tr>\n",
       "  </tbody>\n",
       "</table>\n",
       "</div>"
      ],
      "text/plain": [
       "                      HOEP\n",
       "datetime_data             \n",
       "2021-01-01 01:00:00  31.74\n",
       "2021-01-01 02:00:00  17.61\n",
       "2021-01-01 03:00:00  14.36\n",
       "2021-01-01 04:00:00  10.26\n",
       "2021-01-01 05:00:00   6.03"
      ]
     },
     "execution_count": 137,
     "metadata": {},
     "output_type": "execute_result"
    }
   ],
   "source": [
    "pr_2021.head()"
   ]
  },
  {
   "cell_type": "code",
   "execution_count": 138,
   "id": "99047133-a395-4e5d-a569-67a398f62d9c",
   "metadata": {},
   "outputs": [
    {
     "data": {
      "text/plain": [
       "(8760, 1)"
      ]
     },
     "execution_count": 138,
     "metadata": {},
     "output_type": "execute_result"
    }
   ],
   "source": [
    "# shape of our dataframe\n",
    "pr_2021.shape"
   ]
  },
  {
   "cell_type": "code",
   "execution_count": 139,
   "id": "a2859013-3fa0-42bf-b4e7-b1eaf5398d88",
   "metadata": {},
   "outputs": [],
   "source": [
    "# converting our hourly price column to numeric\n",
    "pr_2021['HOEP'] = pr_2021['HOEP'].apply(pd.to_numeric)"
   ]
  },
  {
   "cell_type": "code",
   "execution_count": 140,
   "id": "87c3be4d-6dd0-41af-a507-5e6cdf02329d",
   "metadata": {},
   "outputs": [
    {
     "data": {
      "text/plain": [
       "HOEP    float64\n",
       "dtype: object"
      ]
     },
     "execution_count": 140,
     "metadata": {},
     "output_type": "execute_result"
    }
   ],
   "source": [
    "# data types\n",
    "pr_2021.dtypes"
   ]
  },
  {
   "cell_type": "markdown",
   "id": "52b79036-76ef-420f-a4f2-159f8e4ebc79",
   "metadata": {},
   "source": [
    "Very Cool. \n",
    "\n",
    "In only seven steps, we have achieved quite a lot! Let's check the size of our dataframe."
   ]
  },
  {
   "cell_type": "code",
   "execution_count": 141,
   "id": "89f664be-7c68-4c10-80d7-f83ad5412a40",
   "metadata": {},
   "outputs": [
    {
     "name": "stdout",
     "output_type": "stream",
     "text": [
      "\n",
      "Total memory usage of the DataFrame: 140160 bytes\n"
     ]
    }
   ],
   "source": [
    "# Display the total memory usage of the DataFrame\n",
    "total_memory_usage = pr_2021.memory_usage(deep=True).sum()\n",
    "print(\"\\nTotal memory usage of the DataFrame:\", total_memory_usage, \"bytes\")"
   ]
  },
  {
   "cell_type": "code",
   "execution_count": 142,
   "id": "9c868e68-7a31-4869-85f2-12766eba0369",
   "metadata": {},
   "outputs": [
    {
     "name": "stdout",
     "output_type": "stream",
     "text": [
      "\n",
      "Total memory usage of the DataFrame: 4871962 bytes\n"
     ]
    }
   ],
   "source": [
    "raw_data = pd.read_csv('PUB_PriceHOEPPredispOR_2021.csv')\n",
    "\n",
    "# Display the total memory usage of the raw DataFrame\n",
    "total_memory_usage = raw_data.memory_usage(deep=True).sum()\n",
    "print(\"\\nTotal memory usage of the DataFrame:\", total_memory_usage, \"bytes\")"
   ]
  },
  {
   "cell_type": "markdown",
   "id": "af70c6be-76ae-4ff0-8985-f2f15431808b",
   "metadata": {},
   "source": [
    "We have reduced the size of our dataframe from more than 4.5 MB to 140 KB. Albeit, we have discarded a significant chunk of our data! We suspect the discarded data was of little value!"
   ]
  },
  {
   "cell_type": "markdown",
   "id": "5fcaa69c-cf9a-4678-a536-ee03a0753758",
   "metadata": {},
   "source": [
    "<hr>"
   ]
  },
  {
   "cell_type": "markdown",
   "id": "1f1a7bd2-7400-4592-84b3-a929cfe5c4f8",
   "metadata": {},
   "source": [
    "## More Cleaning!"
   ]
  },
  {
   "cell_type": "markdown",
   "id": "ecaf7f14-b83d-4b35-a8b4-5fa4a66685ba",
   "metadata": {},
   "source": [
    "#### Missing Values"
   ]
  },
  {
   "cell_type": "code",
   "execution_count": 86,
   "id": "9ea5706f-e862-4ae1-9ecb-22b441beef6c",
   "metadata": {},
   "outputs": [
    {
     "data": {
      "text/plain": [
       "HOEP    0\n",
       "dtype: int64"
      ]
     },
     "execution_count": 86,
     "metadata": {},
     "output_type": "execute_result"
    }
   ],
   "source": [
    "# checking for NAN or null values\n",
    "pr_2021.isnull().sum()"
   ]
  },
  {
   "cell_type": "markdown",
   "id": "c89ff8bf-41d6-426f-b602-ebe50e56caec",
   "metadata": {},
   "source": [
    "We don't have missing values. That's good!"
   ]
  },
  {
   "cell_type": "markdown",
   "id": "1b190832-e70c-42b0-af35-1a6867e0e96b",
   "metadata": {},
   "source": [
    "<hr>"
   ]
  },
  {
   "cell_type": "markdown",
   "id": "96c0fb96-9945-4dc4-9d92-6a1053cbe624",
   "metadata": {},
   "source": [
    "Before we move on to the next piece of data, let's take a quick look at our price distribution."
   ]
  },
  {
   "cell_type": "code",
   "execution_count": 89,
   "id": "74fdda53-25bd-4984-bbe3-867baefbce42",
   "metadata": {},
   "outputs": [
    {
     "data": {
      "text/html": [
       "<div>\n",
       "<style scoped>\n",
       "    .dataframe tbody tr th:only-of-type {\n",
       "        vertical-align: middle;\n",
       "    }\n",
       "\n",
       "    .dataframe tbody tr th {\n",
       "        vertical-align: top;\n",
       "    }\n",
       "\n",
       "    .dataframe thead th {\n",
       "        text-align: right;\n",
       "    }\n",
       "</style>\n",
       "<table border=\"1\" class=\"dataframe\">\n",
       "  <thead>\n",
       "    <tr style=\"text-align: right;\">\n",
       "      <th></th>\n",
       "      <th>HOEP</th>\n",
       "    </tr>\n",
       "  </thead>\n",
       "  <tbody>\n",
       "    <tr>\n",
       "      <th>count</th>\n",
       "      <td>8760.000000</td>\n",
       "    </tr>\n",
       "    <tr>\n",
       "      <th>mean</th>\n",
       "      <td>26.747627</td>\n",
       "    </tr>\n",
       "    <tr>\n",
       "      <th>std</th>\n",
       "      <td>31.228770</td>\n",
       "    </tr>\n",
       "    <tr>\n",
       "      <th>min</th>\n",
       "      <td>-3.940000</td>\n",
       "    </tr>\n",
       "    <tr>\n",
       "      <th>25%</th>\n",
       "      <td>10.950000</td>\n",
       "    </tr>\n",
       "    <tr>\n",
       "      <th>50%</th>\n",
       "      <td>24.050000</td>\n",
       "    </tr>\n",
       "    <tr>\n",
       "      <th>75%</th>\n",
       "      <td>38.670000</td>\n",
       "    </tr>\n",
       "    <tr>\n",
       "      <th>max</th>\n",
       "      <td>1660.800000</td>\n",
       "    </tr>\n",
       "  </tbody>\n",
       "</table>\n",
       "</div>"
      ],
      "text/plain": [
       "              HOEP\n",
       "count  8760.000000\n",
       "mean     26.747627\n",
       "std      31.228770\n",
       "min      -3.940000\n",
       "25%      10.950000\n",
       "50%      24.050000\n",
       "75%      38.670000\n",
       "max    1660.800000"
      ]
     },
     "execution_count": 89,
     "metadata": {},
     "output_type": "execute_result"
    }
   ],
   "source": [
    "pr_2021.describe()"
   ]
  },
  {
   "cell_type": "code",
   "execution_count": 144,
   "id": "6b3b1b21-5221-483d-8cc8-36a4e7001470",
   "metadata": {},
   "outputs": [
    {
     "data": {
      "image/png": "[encoded data removed]",
      "text/plain": [
       "<Figure size 1500x700 with 1 Axes>"
      ]
     },
     "metadata": {},
     "output_type": "display_data"
    }
   ],
   "source": [
    "# First let's filter all price values above 250\n",
    "filtered_prices = pr_2021[pr_2021['HOEP'] <=250 ]\n",
    "\n",
    "# initiate the plot and setting the size\n",
    "plt.figure(figsize=(15,7))\n",
    "\n",
    "# specifying the data column and plot details\n",
    "filtered_prices['HOEP'].plot(kind='hist', bins=100)\n",
    "\n",
    "# let's get the mean and median values\n",
    "mean_value = pr_2021['HOEP'].mean()\n",
    "median_value = pr_2021['HOEP'].median()\n",
    "\n",
    "# Add vertical lines for mean and median\n",
    "plt.axvline(mean_value, color='red', linestyle='--', label='Mean')\n",
    "plt.axvline(median_value, color='red', linestyle=':', label='Median')\n",
    "\n",
    "# x-axis title\n",
    "plt.xlabel('Dollars in MWh')\n",
    "\n",
    "#title for the plot\n",
    "plt.title('Price distribution')\n",
    "\n",
    "# add a legend\n",
    "plt.legend(loc='upper center')\n",
    "\n",
    "# show the plot\n",
    "plt.show()"
   ]
  },
  {
   "cell_type": "markdown",
   "id": "48ebd81a-02d3-4c13-8e28-2504ef256072",
   "metadata": {},
   "source": [
    "Very Cool! \n",
    "\n",
    "Let's move on to our next piece of data!"
   ]
  },
  {
   "cell_type": "markdown",
   "id": "1eef71c0-bb25-4e67-b794-d6ef1657083a",
   "metadata": {},
   "source": [
    "<hr>\n"
   ]
  },
  {
   "cell_type": "markdown",
   "id": "70fd7f09-789f-4ca1-84d8-198904fc73ca",
   "metadata": {},
   "source": [
    "# <center> Generator Output and Capacity </center>\n",
    "\n",
    "We have looked at demand and price. Next, we will look at supply of electricity to the market.\n",
    "\n",
    "Generator Output and Capacity data provides close-to-real-time output levels for Ontario’s generators\n",
    "registered as a market participant, and their capacity to produce. It is published\n",
    "hourly, as soon as the data is available, containing data from generators with\n",
    "capacities 20 MW or greater, registered with the IESO. For this analysis we are using the same year data (2018), available as excel sheets. \n",
    "\n",
    "More information is available here: http://reports.ieso.ca/docrefs/helpfile/GenOutputCapability_h4.pdf\n",
    "\n"
   ]
  },
  {
   "cell_type": "code",
   "execution_count": 204,
   "id": "f5197d48-51d7-4831-ab67-72346cf2c65d",
   "metadata": {},
   "outputs": [
    {
     "name": "stdout",
     "output_type": "stream",
     "text": [
      "\u001b[H\u001b[2J"
     ]
    }
   ],
   "source": [
    "clear"
   ]
  },
  {
   "cell_type": "code",
   "execution_count": 205,
   "id": "06a76bb8-78c1-4172-9f51-eef7ce330ede",
   "metadata": {},
   "outputs": [
    {
     "name": "stdout",
     "output_type": "stream",
     "text": [
      "\u001b[H\u001b[2J"
     ]
    }
   ],
   "source": [
    "clear"
   ]
  },
  {
   "cell_type": "code",
   "execution_count": 206,
   "id": "941289b3-9447-47df-88b6-f1ea7bc5b733",
   "metadata": {},
   "outputs": [
    {
     "name": "stdout",
     "output_type": "stream",
     "text": [
      "\u001b[H\u001b[2J"
     ]
    }
   ],
   "source": [
    "clear"
   ]
  },
  {
   "cell_type": "code",
   "execution_count": 179,
   "id": "b25f3abc-5f49-498b-b3f0-0f7faf36b2d4",
   "metadata": {},
   "outputs": [
    {
     "name": "stdout",
     "output_type": "stream",
     "text": [
      "\u001b[0m\u001b[01;32m'2023_06_03 Game of Life.ipynb'\u001b[0m*\n",
      "\u001b[01;32m'2023_07_05 Game_practive_01.ipynb'\u001b[0m*\n",
      "'2024_01 IESO ML model - notebook one EDA - d_2021.ipynb'\n",
      "\u001b[01;32m'Capstone Revisited 2023 notebook experimental 2023_06_19 features.ipynb'\u001b[0m*\n",
      "\u001b[01;32m'Capstone Revisited 2023 notebook one IESO EDA.ipynb'\u001b[0m*\n",
      "\u001b[01;32m'Capstone revisited 2023 notebookTwo 2023_06_18.ipynb'\u001b[0m*\n",
      " Data_Cleaning_Guide.txt\n",
      "\u001b[01;32m'Elec Market model 0.1c - April03.ipynb'\u001b[0m*\n",
      "\u001b[01;32m'Elec Market model 0.2 Regression - April_11.ipynb'\u001b[0m*\n",
      "\u001b[01;32m'Energy Storage Optimization v1.1.ipynb'\u001b[0m*\n",
      "\u001b[01;32m'Energy Storage Optimization v1.2.ipynb'\u001b[0m*\n",
      " \u001b[01;32mGOC-2018.xlsx\u001b[0m*\n",
      " \u001b[01;34mIESO-ML\u001b[0m/\n",
      "'IESO_ML 01 Data Cleaning 2024.ipynb'\n",
      " \u001b[01;32mPUB_Demand_2017_v1.csv\u001b[0m*\n",
      " \u001b[01;32mPUB_Demand_2018_v1.csv\u001b[0m*\n",
      " PUB_Demand_2020_v396.csv\n",
      " PUB_Demand_2021_v396.csv\n",
      " PUB_Demand_2022_v397.csv\n",
      " PUB_GenOutputCapabilityMonth_202101.csv\n",
      " PUB_GenOutputCapabilityMonth_202102.csv\n",
      " PUB_GenOutputCapabilityMonth_202103.csv\n",
      " \u001b[01;32mPUB_PriceHOEPPredispOR_2017.csv\u001b[0m*\n",
      " \u001b[01;32mPUB_PriceHOEPPredispOR_2018.csv\u001b[0m*\n",
      " \u001b[01;32mPUB_PriceHOEPPredispOR_2019.csv\u001b[0m*\n",
      " \u001b[01;32mPUB_PriceHOEPPredispOR_2020.csv\u001b[0m*\n",
      " PUB_PriceHOEPPredispOR_2021.csv\n",
      " PUB_PriceHOEPPredispOR_2022.csv\n"
     ]
    }
   ],
   "source": [
    "ls"
   ]
  },
  {
   "cell_type": "markdown",
   "id": "1a65585c-3cf0-449b-a5cb-c0035581dcdb",
   "metadata": {},
   "source": [
    "<hr>"
   ]
  },
  {
   "cell_type": "markdown",
   "id": "27920bb5-873c-49fe-8269-45e394c45d08",
   "metadata": {},
   "source": [
    "## Loading the Data\n",
    "\n",
    "The source of our data (Independent Electricity System Operator) offers one CSV file for each month. This CSV file contains hourly data, for each of the generators commissioned in Ontario (most populous province in Canada), for each day in the month.\n",
    "\n",
    "If you wish to download and look at the data yourself, you can find them here: <a href=\"http://reports.ieso.ca/public/GenOutputCapabilityMonth/\"> http://reports.ieso.ca/public/GenOutputCapabilityMonth/ </a>\n",
    "\n",
    "So, there are 12 CSV files for the year 2021. Let's take a quick look at the structure of our data."
   ]
  },
  {
   "cell_type": "code",
   "execution_count": 239,
   "id": "b203d519-876a-4b17-9538-eed12a86b3e6",
   "metadata": {},
   "outputs": [],
   "source": [
    "# Loading the data\n",
    "GOC_2021_01 = pd.read_csv('PUB_GenOutputCapabilityMonth_202101.csv', skiprows=3)"
   ]
  },
  {
   "cell_type": "code",
   "execution_count": 240,
   "id": "07ec77cd-d2d0-45f9-9995-f19ea1f4a62f",
   "metadata": {},
   "outputs": [
    {
     "data": {
      "text/plain": [
       "(12896, 28)"
      ]
     },
     "execution_count": 240,
     "metadata": {},
     "output_type": "execute_result"
    }
   ],
   "source": [
    "# Getting the shape of our dataframe\n",
    "GOC_2021_01.shape"
   ]
  },
  {
   "cell_type": "code",
   "execution_count": 241,
   "id": "481e02d8-a47f-4843-8a0c-c5dbb8bf4542",
   "metadata": {},
   "outputs": [
    {
     "data": {
      "text/plain": [
       "Index(['Generator', 'Fuel Type', 'Measurement', 'Hour 1', 'Hour 2', 'Hour 3',\n",
       "       'Hour 4', 'Hour 5', 'Hour 6', 'Hour 7', 'Hour 8', 'Hour 9', 'Hour 10',\n",
       "       'Hour 11', 'Hour 12', 'Hour 13', 'Hour 14', 'Hour 15', 'Hour 16',\n",
       "       'Hour 17', 'Hour 18', 'Hour 19', 'Hour 20', 'Hour 21', 'Hour 22',\n",
       "       'Hour 23', 'Hour 24', 'Unnamed: 27'],\n",
       "      dtype='object')"
      ]
     },
     "execution_count": 241,
     "metadata": {},
     "output_type": "execute_result"
    }
   ],
   "source": [
    "# Checking out our columns\n",
    "GOC_2021_01.columns"
   ]
  },
  {
   "cell_type": "markdown",
   "id": "134103b4-7433-46e5-9cbf-e9daf0be981d",
   "metadata": {},
   "source": [
    "Very cool!\n",
    "\n",
    "We have DATES, NAME of the Generator, FUEL TYPE, and HOURLY figures. Now, Let's check out the rows."
   ]
  },
  {
   "cell_type": "code",
   "execution_count": 236,
   "id": "94486933-8f47-491b-8e7e-8a06c730f160",
   "metadata": {},
   "outputs": [
    {
     "data": {
      "text/plain": [
       "Index(['2021-01-01', '2021-01-01', '2021-01-01', '2021-01-01', '2021-01-01',\n",
       "       '2021-01-01', '2021-01-01', '2021-01-01', '2021-01-01', '2021-01-01',\n",
       "       ...\n",
       "       '2021-01-31', '2021-01-31', '2021-01-31', '2021-01-31', '2021-01-31',\n",
       "       '2021-01-31', '2021-01-31', '2021-01-31', '2021-01-31', '2021-01-31'],\n",
       "      dtype='object', length=12896)"
      ]
     },
     "execution_count": 236,
     "metadata": {},
     "output_type": "execute_result"
    }
   ],
   "source": [
    "# Checking out rows\n",
    "GOC_2021_01.index"
   ]
  },
  {
   "cell_type": "markdown",
   "id": "a49f60d7-1920-4ceb-bfbd-c8d56b808fab",
   "metadata": {},
   "source": [
    "very cool!\n",
    "\n",
    "As expected, we have dates expressed in this format YYYY-mm-dd. Let's find out the number of generators!"
   ]
  },
  {
   "cell_type": "code",
   "execution_count": 356,
   "id": "4c50e2f0-ce85-45b7-a43a-33ea3bf12a7d",
   "metadata": {},
   "outputs": [
    {
     "data": {
      "text/plain": [
       "416.0"
      ]
     },
     "execution_count": 356,
     "metadata": {},
     "output_type": "execute_result"
    }
   ],
   "source": [
    "# we will divide the number of rows by 31 - which is the number of days in each month\n",
    "12896 / 31"
   ]
  },
  {
   "cell_type": "markdown",
   "id": "ae61dc2b-0454-48f4-8b25-2c15be7a2d31",
   "metadata": {},
   "source": [
    "## Note:\n",
    "\n",
    "It is difficult to believe that there are 416 power generators in Ontario! Let's do a quick 'GroupBy' and double check."
   ]
  },
  {
   "cell_type": "code",
   "execution_count": 242,
   "id": "567f9801-30a0-4076-b2b3-0fe56c203434",
   "metadata": {},
   "outputs": [
    {
     "data": {
      "text/html": [
       "<div>\n",
       "<style scoped>\n",
       "    .dataframe tbody tr th:only-of-type {\n",
       "        vertical-align: middle;\n",
       "    }\n",
       "\n",
       "    .dataframe tbody tr th {\n",
       "        vertical-align: top;\n",
       "    }\n",
       "\n",
       "    .dataframe thead th {\n",
       "        text-align: right;\n",
       "    }\n",
       "</style>\n",
       "<table border=\"1\" class=\"dataframe\">\n",
       "  <thead>\n",
       "    <tr style=\"text-align: right;\">\n",
       "      <th></th>\n",
       "      <th>Generator</th>\n",
       "      <th>Fuel Type</th>\n",
       "      <th>Measurement</th>\n",
       "      <th>Hour 1</th>\n",
       "      <th>Hour 2</th>\n",
       "      <th>Hour 3</th>\n",
       "      <th>Hour 4</th>\n",
       "      <th>Hour 5</th>\n",
       "      <th>Hour 6</th>\n",
       "      <th>Hour 7</th>\n",
       "      <th>...</th>\n",
       "      <th>Hour 16</th>\n",
       "      <th>Hour 17</th>\n",
       "      <th>Hour 18</th>\n",
       "      <th>Hour 19</th>\n",
       "      <th>Hour 20</th>\n",
       "      <th>Hour 21</th>\n",
       "      <th>Hour 22</th>\n",
       "      <th>Hour 23</th>\n",
       "      <th>Hour 24</th>\n",
       "      <th>Unnamed: 27</th>\n",
       "    </tr>\n",
       "  </thead>\n",
       "  <tbody>\n",
       "    <tr>\n",
       "      <th>2021-01-01</th>\n",
       "      <td>416</td>\n",
       "      <td>416</td>\n",
       "      <td>416</td>\n",
       "      <td>416</td>\n",
       "      <td>416</td>\n",
       "      <td>416</td>\n",
       "      <td>416</td>\n",
       "      <td>416</td>\n",
       "      <td>416</td>\n",
       "      <td>416</td>\n",
       "      <td>...</td>\n",
       "      <td>416</td>\n",
       "      <td>416</td>\n",
       "      <td>416</td>\n",
       "      <td>416</td>\n",
       "      <td>416</td>\n",
       "      <td>416</td>\n",
       "      <td>416</td>\n",
       "      <td>416</td>\n",
       "      <td>416</td>\n",
       "      <td>0</td>\n",
       "    </tr>\n",
       "    <tr>\n",
       "      <th>2021-01-02</th>\n",
       "      <td>416</td>\n",
       "      <td>416</td>\n",
       "      <td>416</td>\n",
       "      <td>416</td>\n",
       "      <td>416</td>\n",
       "      <td>416</td>\n",
       "      <td>416</td>\n",
       "      <td>416</td>\n",
       "      <td>416</td>\n",
       "      <td>416</td>\n",
       "      <td>...</td>\n",
       "      <td>416</td>\n",
       "      <td>416</td>\n",
       "      <td>416</td>\n",
       "      <td>416</td>\n",
       "      <td>416</td>\n",
       "      <td>416</td>\n",
       "      <td>416</td>\n",
       "      <td>416</td>\n",
       "      <td>416</td>\n",
       "      <td>0</td>\n",
       "    </tr>\n",
       "    <tr>\n",
       "      <th>2021-01-03</th>\n",
       "      <td>416</td>\n",
       "      <td>416</td>\n",
       "      <td>416</td>\n",
       "      <td>416</td>\n",
       "      <td>416</td>\n",
       "      <td>416</td>\n",
       "      <td>416</td>\n",
       "      <td>416</td>\n",
       "      <td>416</td>\n",
       "      <td>416</td>\n",
       "      <td>...</td>\n",
       "      <td>416</td>\n",
       "      <td>416</td>\n",
       "      <td>416</td>\n",
       "      <td>416</td>\n",
       "      <td>416</td>\n",
       "      <td>416</td>\n",
       "      <td>416</td>\n",
       "      <td>416</td>\n",
       "      <td>416</td>\n",
       "      <td>0</td>\n",
       "    </tr>\n",
       "    <tr>\n",
       "      <th>2021-01-04</th>\n",
       "      <td>416</td>\n",
       "      <td>416</td>\n",
       "      <td>416</td>\n",
       "      <td>416</td>\n",
       "      <td>416</td>\n",
       "      <td>416</td>\n",
       "      <td>416</td>\n",
       "      <td>416</td>\n",
       "      <td>416</td>\n",
       "      <td>416</td>\n",
       "      <td>...</td>\n",
       "      <td>416</td>\n",
       "      <td>416</td>\n",
       "      <td>416</td>\n",
       "      <td>416</td>\n",
       "      <td>416</td>\n",
       "      <td>416</td>\n",
       "      <td>416</td>\n",
       "      <td>416</td>\n",
       "      <td>416</td>\n",
       "      <td>0</td>\n",
       "    </tr>\n",
       "    <tr>\n",
       "      <th>2021-01-05</th>\n",
       "      <td>416</td>\n",
       "      <td>416</td>\n",
       "      <td>416</td>\n",
       "      <td>416</td>\n",
       "      <td>416</td>\n",
       "      <td>416</td>\n",
       "      <td>416</td>\n",
       "      <td>416</td>\n",
       "      <td>416</td>\n",
       "      <td>416</td>\n",
       "      <td>...</td>\n",
       "      <td>416</td>\n",
       "      <td>416</td>\n",
       "      <td>416</td>\n",
       "      <td>416</td>\n",
       "      <td>416</td>\n",
       "      <td>416</td>\n",
       "      <td>416</td>\n",
       "      <td>416</td>\n",
       "      <td>416</td>\n",
       "      <td>0</td>\n",
       "    </tr>\n",
       "    <tr>\n",
       "      <th>2021-01-06</th>\n",
       "      <td>416</td>\n",
       "      <td>416</td>\n",
       "      <td>416</td>\n",
       "      <td>416</td>\n",
       "      <td>416</td>\n",
       "      <td>416</td>\n",
       "      <td>416</td>\n",
       "      <td>416</td>\n",
       "      <td>416</td>\n",
       "      <td>416</td>\n",
       "      <td>...</td>\n",
       "      <td>416</td>\n",
       "      <td>416</td>\n",
       "      <td>416</td>\n",
       "      <td>416</td>\n",
       "      <td>416</td>\n",
       "      <td>416</td>\n",
       "      <td>416</td>\n",
       "      <td>416</td>\n",
       "      <td>416</td>\n",
       "      <td>0</td>\n",
       "    </tr>\n",
       "    <tr>\n",
       "      <th>2021-01-07</th>\n",
       "      <td>416</td>\n",
       "      <td>416</td>\n",
       "      <td>416</td>\n",
       "      <td>416</td>\n",
       "      <td>416</td>\n",
       "      <td>416</td>\n",
       "      <td>416</td>\n",
       "      <td>416</td>\n",
       "      <td>416</td>\n",
       "      <td>416</td>\n",
       "      <td>...</td>\n",
       "      <td>416</td>\n",
       "      <td>416</td>\n",
       "      <td>416</td>\n",
       "      <td>416</td>\n",
       "      <td>416</td>\n",
       "      <td>416</td>\n",
       "      <td>416</td>\n",
       "      <td>416</td>\n",
       "      <td>416</td>\n",
       "      <td>0</td>\n",
       "    </tr>\n",
       "    <tr>\n",
       "      <th>2021-01-08</th>\n",
       "      <td>416</td>\n",
       "      <td>416</td>\n",
       "      <td>416</td>\n",
       "      <td>416</td>\n",
       "      <td>416</td>\n",
       "      <td>416</td>\n",
       "      <td>416</td>\n",
       "      <td>416</td>\n",
       "      <td>416</td>\n",
       "      <td>416</td>\n",
       "      <td>...</td>\n",
       "      <td>416</td>\n",
       "      <td>416</td>\n",
       "      <td>416</td>\n",
       "      <td>416</td>\n",
       "      <td>416</td>\n",
       "      <td>416</td>\n",
       "      <td>416</td>\n",
       "      <td>416</td>\n",
       "      <td>416</td>\n",
       "      <td>0</td>\n",
       "    </tr>\n",
       "    <tr>\n",
       "      <th>2021-01-09</th>\n",
       "      <td>416</td>\n",
       "      <td>416</td>\n",
       "      <td>416</td>\n",
       "      <td>416</td>\n",
       "      <td>416</td>\n",
       "      <td>416</td>\n",
       "      <td>416</td>\n",
       "      <td>416</td>\n",
       "      <td>416</td>\n",
       "      <td>416</td>\n",
       "      <td>...</td>\n",
       "      <td>416</td>\n",
       "      <td>416</td>\n",
       "      <td>416</td>\n",
       "      <td>416</td>\n",
       "      <td>416</td>\n",
       "      <td>416</td>\n",
       "      <td>416</td>\n",
       "      <td>416</td>\n",
       "      <td>416</td>\n",
       "      <td>0</td>\n",
       "    </tr>\n",
       "    <tr>\n",
       "      <th>2021-01-10</th>\n",
       "      <td>416</td>\n",
       "      <td>416</td>\n",
       "      <td>416</td>\n",
       "      <td>416</td>\n",
       "      <td>416</td>\n",
       "      <td>416</td>\n",
       "      <td>416</td>\n",
       "      <td>416</td>\n",
       "      <td>416</td>\n",
       "      <td>416</td>\n",
       "      <td>...</td>\n",
       "      <td>416</td>\n",
       "      <td>416</td>\n",
       "      <td>416</td>\n",
       "      <td>416</td>\n",
       "      <td>416</td>\n",
       "      <td>416</td>\n",
       "      <td>416</td>\n",
       "      <td>416</td>\n",
       "      <td>416</td>\n",
       "      <td>0</td>\n",
       "    </tr>\n",
       "    <tr>\n",
       "      <th>2021-01-11</th>\n",
       "      <td>416</td>\n",
       "      <td>416</td>\n",
       "      <td>416</td>\n",
       "      <td>416</td>\n",
       "      <td>416</td>\n",
       "      <td>416</td>\n",
       "      <td>416</td>\n",
       "      <td>416</td>\n",
       "      <td>416</td>\n",
       "      <td>416</td>\n",
       "      <td>...</td>\n",
       "      <td>416</td>\n",
       "      <td>416</td>\n",
       "      <td>416</td>\n",
       "      <td>416</td>\n",
       "      <td>416</td>\n",
       "      <td>416</td>\n",
       "      <td>416</td>\n",
       "      <td>416</td>\n",
       "      <td>416</td>\n",
       "      <td>0</td>\n",
       "    </tr>\n",
       "    <tr>\n",
       "      <th>2021-01-12</th>\n",
       "      <td>416</td>\n",
       "      <td>416</td>\n",
       "      <td>416</td>\n",
       "      <td>416</td>\n",
       "      <td>416</td>\n",
       "      <td>416</td>\n",
       "      <td>416</td>\n",
       "      <td>416</td>\n",
       "      <td>416</td>\n",
       "      <td>416</td>\n",
       "      <td>...</td>\n",
       "      <td>416</td>\n",
       "      <td>416</td>\n",
       "      <td>416</td>\n",
       "      <td>416</td>\n",
       "      <td>416</td>\n",
       "      <td>416</td>\n",
       "      <td>416</td>\n",
       "      <td>416</td>\n",
       "      <td>416</td>\n",
       "      <td>0</td>\n",
       "    </tr>\n",
       "    <tr>\n",
       "      <th>2021-01-13</th>\n",
       "      <td>416</td>\n",
       "      <td>416</td>\n",
       "      <td>416</td>\n",
       "      <td>416</td>\n",
       "      <td>416</td>\n",
       "      <td>416</td>\n",
       "      <td>416</td>\n",
       "      <td>416</td>\n",
       "      <td>416</td>\n",
       "      <td>416</td>\n",
       "      <td>...</td>\n",
       "      <td>416</td>\n",
       "      <td>416</td>\n",
       "      <td>416</td>\n",
       "      <td>416</td>\n",
       "      <td>416</td>\n",
       "      <td>416</td>\n",
       "      <td>416</td>\n",
       "      <td>416</td>\n",
       "      <td>416</td>\n",
       "      <td>0</td>\n",
       "    </tr>\n",
       "    <tr>\n",
       "      <th>2021-01-14</th>\n",
       "      <td>416</td>\n",
       "      <td>416</td>\n",
       "      <td>416</td>\n",
       "      <td>416</td>\n",
       "      <td>416</td>\n",
       "      <td>416</td>\n",
       "      <td>416</td>\n",
       "      <td>416</td>\n",
       "      <td>416</td>\n",
       "      <td>416</td>\n",
       "      <td>...</td>\n",
       "      <td>416</td>\n",
       "      <td>416</td>\n",
       "      <td>416</td>\n",
       "      <td>416</td>\n",
       "      <td>416</td>\n",
       "      <td>416</td>\n",
       "      <td>416</td>\n",
       "      <td>416</td>\n",
       "      <td>416</td>\n",
       "      <td>0</td>\n",
       "    </tr>\n",
       "    <tr>\n",
       "      <th>2021-01-15</th>\n",
       "      <td>416</td>\n",
       "      <td>416</td>\n",
       "      <td>416</td>\n",
       "      <td>416</td>\n",
       "      <td>416</td>\n",
       "      <td>416</td>\n",
       "      <td>416</td>\n",
       "      <td>416</td>\n",
       "      <td>416</td>\n",
       "      <td>416</td>\n",
       "      <td>...</td>\n",
       "      <td>416</td>\n",
       "      <td>416</td>\n",
       "      <td>416</td>\n",
       "      <td>416</td>\n",
       "      <td>416</td>\n",
       "      <td>416</td>\n",
       "      <td>416</td>\n",
       "      <td>416</td>\n",
       "      <td>416</td>\n",
       "      <td>0</td>\n",
       "    </tr>\n",
       "    <tr>\n",
       "      <th>2021-01-16</th>\n",
       "      <td>416</td>\n",
       "      <td>416</td>\n",
       "      <td>416</td>\n",
       "      <td>416</td>\n",
       "      <td>416</td>\n",
       "      <td>416</td>\n",
       "      <td>416</td>\n",
       "      <td>416</td>\n",
       "      <td>416</td>\n",
       "      <td>416</td>\n",
       "      <td>...</td>\n",
       "      <td>416</td>\n",
       "      <td>416</td>\n",
       "      <td>416</td>\n",
       "      <td>416</td>\n",
       "      <td>416</td>\n",
       "      <td>416</td>\n",
       "      <td>416</td>\n",
       "      <td>416</td>\n",
       "      <td>416</td>\n",
       "      <td>0</td>\n",
       "    </tr>\n",
       "    <tr>\n",
       "      <th>2021-01-17</th>\n",
       "      <td>416</td>\n",
       "      <td>416</td>\n",
       "      <td>416</td>\n",
       "      <td>416</td>\n",
       "      <td>416</td>\n",
       "      <td>416</td>\n",
       "      <td>416</td>\n",
       "      <td>416</td>\n",
       "      <td>416</td>\n",
       "      <td>416</td>\n",
       "      <td>...</td>\n",
       "      <td>416</td>\n",
       "      <td>416</td>\n",
       "      <td>416</td>\n",
       "      <td>416</td>\n",
       "      <td>416</td>\n",
       "      <td>416</td>\n",
       "      <td>416</td>\n",
       "      <td>416</td>\n",
       "      <td>416</td>\n",
       "      <td>0</td>\n",
       "    </tr>\n",
       "    <tr>\n",
       "      <th>2021-01-18</th>\n",
       "      <td>416</td>\n",
       "      <td>416</td>\n",
       "      <td>416</td>\n",
       "      <td>416</td>\n",
       "      <td>416</td>\n",
       "      <td>416</td>\n",
       "      <td>416</td>\n",
       "      <td>416</td>\n",
       "      <td>416</td>\n",
       "      <td>416</td>\n",
       "      <td>...</td>\n",
       "      <td>416</td>\n",
       "      <td>416</td>\n",
       "      <td>416</td>\n",
       "      <td>416</td>\n",
       "      <td>416</td>\n",
       "      <td>416</td>\n",
       "      <td>416</td>\n",
       "      <td>416</td>\n",
       "      <td>416</td>\n",
       "      <td>0</td>\n",
       "    </tr>\n",
       "    <tr>\n",
       "      <th>2021-01-19</th>\n",
       "      <td>416</td>\n",
       "      <td>416</td>\n",
       "      <td>416</td>\n",
       "      <td>416</td>\n",
       "      <td>416</td>\n",
       "      <td>416</td>\n",
       "      <td>416</td>\n",
       "      <td>416</td>\n",
       "      <td>416</td>\n",
       "      <td>416</td>\n",
       "      <td>...</td>\n",
       "      <td>416</td>\n",
       "      <td>416</td>\n",
       "      <td>416</td>\n",
       "      <td>416</td>\n",
       "      <td>416</td>\n",
       "      <td>416</td>\n",
       "      <td>416</td>\n",
       "      <td>416</td>\n",
       "      <td>416</td>\n",
       "      <td>0</td>\n",
       "    </tr>\n",
       "    <tr>\n",
       "      <th>2021-01-20</th>\n",
       "      <td>416</td>\n",
       "      <td>416</td>\n",
       "      <td>416</td>\n",
       "      <td>416</td>\n",
       "      <td>416</td>\n",
       "      <td>416</td>\n",
       "      <td>416</td>\n",
       "      <td>416</td>\n",
       "      <td>416</td>\n",
       "      <td>416</td>\n",
       "      <td>...</td>\n",
       "      <td>416</td>\n",
       "      <td>416</td>\n",
       "      <td>416</td>\n",
       "      <td>416</td>\n",
       "      <td>416</td>\n",
       "      <td>416</td>\n",
       "      <td>416</td>\n",
       "      <td>416</td>\n",
       "      <td>416</td>\n",
       "      <td>0</td>\n",
       "    </tr>\n",
       "    <tr>\n",
       "      <th>2021-01-21</th>\n",
       "      <td>416</td>\n",
       "      <td>416</td>\n",
       "      <td>416</td>\n",
       "      <td>416</td>\n",
       "      <td>416</td>\n",
       "      <td>416</td>\n",
       "      <td>416</td>\n",
       "      <td>416</td>\n",
       "      <td>416</td>\n",
       "      <td>416</td>\n",
       "      <td>...</td>\n",
       "      <td>416</td>\n",
       "      <td>416</td>\n",
       "      <td>416</td>\n",
       "      <td>416</td>\n",
       "      <td>416</td>\n",
       "      <td>416</td>\n",
       "      <td>416</td>\n",
       "      <td>416</td>\n",
       "      <td>416</td>\n",
       "      <td>0</td>\n",
       "    </tr>\n",
       "    <tr>\n",
       "      <th>2021-01-22</th>\n",
       "      <td>416</td>\n",
       "      <td>416</td>\n",
       "      <td>416</td>\n",
       "      <td>416</td>\n",
       "      <td>416</td>\n",
       "      <td>416</td>\n",
       "      <td>416</td>\n",
       "      <td>416</td>\n",
       "      <td>416</td>\n",
       "      <td>416</td>\n",
       "      <td>...</td>\n",
       "      <td>416</td>\n",
       "      <td>416</td>\n",
       "      <td>416</td>\n",
       "      <td>416</td>\n",
       "      <td>416</td>\n",
       "      <td>416</td>\n",
       "      <td>416</td>\n",
       "      <td>416</td>\n",
       "      <td>416</td>\n",
       "      <td>0</td>\n",
       "    </tr>\n",
       "    <tr>\n",
       "      <th>2021-01-23</th>\n",
       "      <td>416</td>\n",
       "      <td>416</td>\n",
       "      <td>416</td>\n",
       "      <td>416</td>\n",
       "      <td>416</td>\n",
       "      <td>416</td>\n",
       "      <td>416</td>\n",
       "      <td>416</td>\n",
       "      <td>416</td>\n",
       "      <td>416</td>\n",
       "      <td>...</td>\n",
       "      <td>416</td>\n",
       "      <td>416</td>\n",
       "      <td>416</td>\n",
       "      <td>416</td>\n",
       "      <td>416</td>\n",
       "      <td>416</td>\n",
       "      <td>416</td>\n",
       "      <td>416</td>\n",
       "      <td>416</td>\n",
       "      <td>0</td>\n",
       "    </tr>\n",
       "    <tr>\n",
       "      <th>2021-01-24</th>\n",
       "      <td>416</td>\n",
       "      <td>416</td>\n",
       "      <td>416</td>\n",
       "      <td>416</td>\n",
       "      <td>416</td>\n",
       "      <td>416</td>\n",
       "      <td>416</td>\n",
       "      <td>416</td>\n",
       "      <td>416</td>\n",
       "      <td>416</td>\n",
       "      <td>...</td>\n",
       "      <td>416</td>\n",
       "      <td>416</td>\n",
       "      <td>416</td>\n",
       "      <td>416</td>\n",
       "      <td>416</td>\n",
       "      <td>416</td>\n",
       "      <td>416</td>\n",
       "      <td>416</td>\n",
       "      <td>416</td>\n",
       "      <td>0</td>\n",
       "    </tr>\n",
       "    <tr>\n",
       "      <th>2021-01-25</th>\n",
       "      <td>416</td>\n",
       "      <td>416</td>\n",
       "      <td>416</td>\n",
       "      <td>416</td>\n",
       "      <td>416</td>\n",
       "      <td>416</td>\n",
       "      <td>416</td>\n",
       "      <td>416</td>\n",
       "      <td>416</td>\n",
       "      <td>416</td>\n",
       "      <td>...</td>\n",
       "      <td>416</td>\n",
       "      <td>416</td>\n",
       "      <td>416</td>\n",
       "      <td>416</td>\n",
       "      <td>416</td>\n",
       "      <td>416</td>\n",
       "      <td>416</td>\n",
       "      <td>416</td>\n",
       "      <td>416</td>\n",
       "      <td>0</td>\n",
       "    </tr>\n",
       "    <tr>\n",
       "      <th>2021-01-26</th>\n",
       "      <td>416</td>\n",
       "      <td>416</td>\n",
       "      <td>416</td>\n",
       "      <td>416</td>\n",
       "      <td>416</td>\n",
       "      <td>416</td>\n",
       "      <td>416</td>\n",
       "      <td>416</td>\n",
       "      <td>416</td>\n",
       "      <td>416</td>\n",
       "      <td>...</td>\n",
       "      <td>416</td>\n",
       "      <td>416</td>\n",
       "      <td>416</td>\n",
       "      <td>416</td>\n",
       "      <td>416</td>\n",
       "      <td>416</td>\n",
       "      <td>416</td>\n",
       "      <td>416</td>\n",
       "      <td>416</td>\n",
       "      <td>0</td>\n",
       "    </tr>\n",
       "    <tr>\n",
       "      <th>2021-01-27</th>\n",
       "      <td>416</td>\n",
       "      <td>416</td>\n",
       "      <td>416</td>\n",
       "      <td>416</td>\n",
       "      <td>416</td>\n",
       "      <td>416</td>\n",
       "      <td>416</td>\n",
       "      <td>416</td>\n",
       "      <td>416</td>\n",
       "      <td>416</td>\n",
       "      <td>...</td>\n",
       "      <td>416</td>\n",
       "      <td>416</td>\n",
       "      <td>416</td>\n",
       "      <td>416</td>\n",
       "      <td>416</td>\n",
       "      <td>416</td>\n",
       "      <td>416</td>\n",
       "      <td>416</td>\n",
       "      <td>416</td>\n",
       "      <td>0</td>\n",
       "    </tr>\n",
       "    <tr>\n",
       "      <th>2021-01-28</th>\n",
       "      <td>416</td>\n",
       "      <td>416</td>\n",
       "      <td>416</td>\n",
       "      <td>416</td>\n",
       "      <td>416</td>\n",
       "      <td>416</td>\n",
       "      <td>416</td>\n",
       "      <td>416</td>\n",
       "      <td>416</td>\n",
       "      <td>416</td>\n",
       "      <td>...</td>\n",
       "      <td>416</td>\n",
       "      <td>416</td>\n",
       "      <td>416</td>\n",
       "      <td>416</td>\n",
       "      <td>416</td>\n",
       "      <td>416</td>\n",
       "      <td>416</td>\n",
       "      <td>416</td>\n",
       "      <td>416</td>\n",
       "      <td>0</td>\n",
       "    </tr>\n",
       "    <tr>\n",
       "      <th>2021-01-29</th>\n",
       "      <td>416</td>\n",
       "      <td>416</td>\n",
       "      <td>416</td>\n",
       "      <td>416</td>\n",
       "      <td>416</td>\n",
       "      <td>416</td>\n",
       "      <td>416</td>\n",
       "      <td>416</td>\n",
       "      <td>416</td>\n",
       "      <td>416</td>\n",
       "      <td>...</td>\n",
       "      <td>416</td>\n",
       "      <td>416</td>\n",
       "      <td>416</td>\n",
       "      <td>416</td>\n",
       "      <td>416</td>\n",
       "      <td>416</td>\n",
       "      <td>416</td>\n",
       "      <td>416</td>\n",
       "      <td>416</td>\n",
       "      <td>0</td>\n",
       "    </tr>\n",
       "    <tr>\n",
       "      <th>2021-01-30</th>\n",
       "      <td>416</td>\n",
       "      <td>416</td>\n",
       "      <td>416</td>\n",
       "      <td>416</td>\n",
       "      <td>416</td>\n",
       "      <td>416</td>\n",
       "      <td>416</td>\n",
       "      <td>416</td>\n",
       "      <td>416</td>\n",
       "      <td>416</td>\n",
       "      <td>...</td>\n",
       "      <td>416</td>\n",
       "      <td>416</td>\n",
       "      <td>416</td>\n",
       "      <td>416</td>\n",
       "      <td>416</td>\n",
       "      <td>416</td>\n",
       "      <td>416</td>\n",
       "      <td>416</td>\n",
       "      <td>416</td>\n",
       "      <td>0</td>\n",
       "    </tr>\n",
       "    <tr>\n",
       "      <th>2021-01-31</th>\n",
       "      <td>416</td>\n",
       "      <td>416</td>\n",
       "      <td>416</td>\n",
       "      <td>416</td>\n",
       "      <td>416</td>\n",
       "      <td>416</td>\n",
       "      <td>416</td>\n",
       "      <td>416</td>\n",
       "      <td>416</td>\n",
       "      <td>416</td>\n",
       "      <td>...</td>\n",
       "      <td>416</td>\n",
       "      <td>416</td>\n",
       "      <td>416</td>\n",
       "      <td>416</td>\n",
       "      <td>416</td>\n",
       "      <td>416</td>\n",
       "      <td>416</td>\n",
       "      <td>416</td>\n",
       "      <td>416</td>\n",
       "      <td>0</td>\n",
       "    </tr>\n",
       "  </tbody>\n",
       "</table>\n",
       "<p>31 rows × 28 columns</p>\n",
       "</div>"
      ],
      "text/plain": [
       "            Generator  Fuel Type  Measurement  Hour 1  Hour 2  Hour 3  Hour 4  \\\n",
       "2021-01-01        416        416          416     416     416     416     416   \n",
       "2021-01-02        416        416          416     416     416     416     416   \n",
       "2021-01-03        416        416          416     416     416     416     416   \n",
       "2021-01-04        416        416          416     416     416     416     416   \n",
       "2021-01-05        416        416          416     416     416     416     416   \n",
       "2021-01-06        416        416          416     416     416     416     416   \n",
       "2021-01-07        416        416          416     416     416     416     416   \n",
       "2021-01-08        416        416          416     416     416     416     416   \n",
       "2021-01-09        416        416          416     416     416     416     416   \n",
       "2021-01-10        416        416          416     416     416     416     416   \n",
       "2021-01-11        416        416          416     416     416     416     416   \n",
       "2021-01-12        416        416          416     416     416     416     416   \n",
       "2021-01-13        416        416          416     416     416     416     416   \n",
       "2021-01-14        416        416          416     416     416     416     416   \n",
       "2021-01-15        416        416          416     416     416     416     416   \n",
       "2021-01-16        416        416          416     416     416     416     416   \n",
       "2021-01-17        416        416          416     416     416     416     416   \n",
       "2021-01-18        416        416          416     416     416     416     416   \n",
       "2021-01-19        416        416          416     416     416     416     416   \n",
       "2021-01-20        416        416          416     416     416     416     416   \n",
       "2021-01-21        416        416          416     416     416     416     416   \n",
       "2021-01-22        416        416          416     416     416     416     416   \n",
       "2021-01-23        416        416          416     416     416     416     416   \n",
       "2021-01-24        416        416          416     416     416     416     416   \n",
       "2021-01-25        416        416          416     416     416     416     416   \n",
       "2021-01-26        416        416          416     416     416     416     416   \n",
       "2021-01-27        416        416          416     416     416     416     416   \n",
       "2021-01-28        416        416          416     416     416     416     416   \n",
       "2021-01-29        416        416          416     416     416     416     416   \n",
       "2021-01-30        416        416          416     416     416     416     416   \n",
       "2021-01-31        416        416          416     416     416     416     416   \n",
       "\n",
       "            Hour 5  Hour 6  Hour 7  ...  Hour 16  Hour 17  Hour 18  Hour 19  \\\n",
       "2021-01-01     416     416     416  ...      416      416      416      416   \n",
       "2021-01-02     416     416     416  ...      416      416      416      416   \n",
       "2021-01-03     416     416     416  ...      416      416      416      416   \n",
       "2021-01-04     416     416     416  ...      416      416      416      416   \n",
       "2021-01-05     416     416     416  ...      416      416      416      416   \n",
       "2021-01-06     416     416     416  ...      416      416      416      416   \n",
       "2021-01-07     416     416     416  ...      416      416      416      416   \n",
       "2021-01-08     416     416     416  ...      416      416      416      416   \n",
       "2021-01-09     416     416     416  ...      416      416      416      416   \n",
       "2021-01-10     416     416     416  ...      416      416      416      416   \n",
       "2021-01-11     416     416     416  ...      416      416      416      416   \n",
       "2021-01-12     416     416     416  ...      416      416      416      416   \n",
       "2021-01-13     416     416     416  ...      416      416      416      416   \n",
       "2021-01-14     416     416     416  ...      416      416      416      416   \n",
       "2021-01-15     416     416     416  ...      416      416      416      416   \n",
       "2021-01-16     416     416     416  ...      416      416      416      416   \n",
       "2021-01-17     416     416     416  ...      416      416      416      416   \n",
       "2021-01-18     416     416     416  ...      416      416      416      416   \n",
       "2021-01-19     416     416     416  ...      416      416      416      416   \n",
       "2021-01-20     416     416     416  ...      416      416      416      416   \n",
       "2021-01-21     416     416     416  ...      416      416      416      416   \n",
       "2021-01-22     416     416     416  ...      416      416      416      416   \n",
       "2021-01-23     416     416     416  ...      416      416      416      416   \n",
       "2021-01-24     416     416     416  ...      416      416      416      416   \n",
       "2021-01-25     416     416     416  ...      416      416      416      416   \n",
       "2021-01-26     416     416     416  ...      416      416      416      416   \n",
       "2021-01-27     416     416     416  ...      416      416      416      416   \n",
       "2021-01-28     416     416     416  ...      416      416      416      416   \n",
       "2021-01-29     416     416     416  ...      416      416      416      416   \n",
       "2021-01-30     416     416     416  ...      416      416      416      416   \n",
       "2021-01-31     416     416     416  ...      416      416      416      416   \n",
       "\n",
       "            Hour 20  Hour 21  Hour 22  Hour 23  Hour 24  Unnamed: 27  \n",
       "2021-01-01      416      416      416      416      416            0  \n",
       "2021-01-02      416      416      416      416      416            0  \n",
       "2021-01-03      416      416      416      416      416            0  \n",
       "2021-01-04      416      416      416      416      416            0  \n",
       "2021-01-05      416      416      416      416      416            0  \n",
       "2021-01-06      416      416      416      416      416            0  \n",
       "2021-01-07      416      416      416      416      416            0  \n",
       "2021-01-08      416      416      416      416      416            0  \n",
       "2021-01-09      416      416      416      416      416            0  \n",
       "2021-01-10      416      416      416      416      416            0  \n",
       "2021-01-11      416      416      416      416      416            0  \n",
       "2021-01-12      416      416      416      416      416            0  \n",
       "2021-01-13      416      416      416      416      416            0  \n",
       "2021-01-14      416      416      416      416      416            0  \n",
       "2021-01-15      416      416      416      416      416            0  \n",
       "2021-01-16      416      416      416      416      416            0  \n",
       "2021-01-17      416      416      416      416      416            0  \n",
       "2021-01-18      416      416      416      416      416            0  \n",
       "2021-01-19      416      416      416      416      416            0  \n",
       "2021-01-20      416      416      416      416      416            0  \n",
       "2021-01-21      416      416      416      416      416            0  \n",
       "2021-01-22      416      416      416      416      416            0  \n",
       "2021-01-23      416      416      416      416      416            0  \n",
       "2021-01-24      416      416      416      416      416            0  \n",
       "2021-01-25      416      416      416      416      416            0  \n",
       "2021-01-26      416      416      416      416      416            0  \n",
       "2021-01-27      416      416      416      416      416            0  \n",
       "2021-01-28      416      416      416      416      416            0  \n",
       "2021-01-29      416      416      416      416      416            0  \n",
       "2021-01-30      416      416      416      416      416            0  \n",
       "2021-01-31      416      416      416      416      416            0  \n",
       "\n",
       "[31 rows x 28 columns]"
      ]
     },
     "execution_count": 242,
     "metadata": {},
     "output_type": "execute_result"
    }
   ],
   "source": [
    "GOC_2021_01.groupby(GOC_2021_01.index).count()"
   ]
  },
  {
   "cell_type": "markdown",
   "id": "9dd83f65-0d50-406e-864d-27dfc69ec9bc",
   "metadata": {},
   "source": [
    "There are 416 entries for each day. However, these may not be unique generators. Let's investigate further, and find out how many UNIQUE generators are ACTIVE in Ontario."
   ]
  },
  {
   "cell_type": "markdown",
   "id": "f32f8851-eeb1-4046-a3ca-345f20f31789",
   "metadata": {},
   "source": [
    "## Generators"
   ]
  },
  {
   "cell_type": "code",
   "execution_count": 252,
   "id": "a3b766e7-060f-471a-ac08-31aa86f5091f",
   "metadata": {},
   "outputs": [
    {
     "data": {
      "text/plain": [
       "array(['ABKENORA', 'ADELAIDE', 'AGUASABON', 'ALEXANDER', 'AMARANTH',\n",
       "       'AMHERST ISLAND', 'APIROQUOIS', 'ARMOW', 'ARNPRIOR', 'ATIKOKAN-G1',\n",
       "       'AUBREYFALLS', 'BARRETT', 'BECK1', 'BECK2', 'BECK2 PGS',\n",
       "       'BELLE RIVER', 'BLAKE', 'BORNISH', 'BOW LAKE', 'BOW LAKE 2',\n",
       "       'BRIGHTON BEACH', 'BRUCEA-G1', 'BRUCEA-G2', 'BRUCEA-G3',\n",
       "       'BRUCEA-G4', 'BRUCEB-G5', 'BRUCEB-G6', 'BRUCEB-G7', 'BRUCEB-G8',\n",
       "       'CALSTOCKGS', 'CAMERONFALLS', 'CANYON', 'CARDINAL', 'CARIBOUFALLS',\n",
       "       'CARMICHAEL', 'CEDAR POINT 2', 'CHATSFALLS', 'CHENAUX', 'CLERGUE',\n",
       "       'COMBER', 'CRYSLER', 'DA WATSON', 'DARLINGTON-G1', 'DARLINGTON-G2',\n",
       "       'DARLINGTON-G3', 'DARLINGTON-G4', 'DECEWFALLS', 'DECEWND1',\n",
       "       'DESJOACHIMS', 'DESTEC', 'DILLON', 'DOWCHEMICAL', 'DPNTMTLND',\n",
       "       'EARFALLS', 'EAST LAKE', 'EAST WINDSOR-G1', 'EAST WINDSOR-G2',\n",
       "       'ERIEAU', 'FORTFRANCSWC', 'GARTSHORE', 'GOSFIELDWGS', 'GOSHEN',\n",
       "       'GOULAIS', 'GRAND VALLEY 3', 'GRANDSF', 'GRANDWF',\n",
       "       'GREENFIELD ENERGY CENTRE-G1', 'GREENFIELD ENERGY CENTRE-G2',\n",
       "       'GREENFIELD ENERGY CENTRE-G3', 'GREENFIELD ENERGY CENTRE-G4',\n",
       "       'GREENFIELD SOUTH-G1', 'GREENFIELD SOUTH-G2', 'GREENWICH',\n",
       "       'GTAA-G1', 'GTAA-G2', 'GTAA-G3', 'HALTONHILLS-LT.G1',\n",
       "       'HALTONHILLS-LT.G2', 'HALTONHILLS-LT.G3', 'HARMON', 'HARMON 2',\n",
       "       'HARRIS', 'HENVEY NORTH', 'HENVEY SOUTH', 'HOLDEN', 'HOLINGSWTH',\n",
       "       'JERICHO', 'K2WIND', 'KAKABEKA', 'KAPGS', 'KINGSBRIDGE',\n",
       "       'KINGSTONSF', 'KIPLING', 'KIPLING 2', 'LAKESUPERIOR', 'LANDON',\n",
       "       'LENNOX-G1', 'LENNOX-G2', 'LENNOX-G3', 'LENNOX-G4', 'LITTLELONG',\n",
       "       'LITTLELONG 2', 'LONGSAULTE', 'LOWER WHITE RIVER', 'LOWERNOTCH',\n",
       "       'MACKAYGS', 'MANITOUFALLS', 'MCLEANSMTNWF-LT.AG_T1', 'MISSION',\n",
       "       'MTNCHUTE', 'NAGAGAMI', 'NANTICOKE SOLAR', 'NAPANEE-G1',\n",
       "       'NAPANEE-G2', 'NAPANEE-G3', 'NIPIGONGS', 'NORTH KENT',\n",
       "       'NORTHBAYGS', 'NORTHLAND POWER SOLAR FACILITIES', 'NPCOCHRANE',\n",
       "       'NPIROQFALLS', 'NPKIRKLAND-G1-G5', 'NPKIRKLAND-G6', 'OTTERRAPIDS',\n",
       "       'PAROCHES', 'PETER SUTHERLAND SR', 'PICKERINGA-G1',\n",
       "       'PICKERINGA-G4', 'PICKERINGB-G5', 'PICKERINGB-G6', 'PICKERINGB-G7',\n",
       "       'PICKERINGB-G8', 'PINEPORTAGE', 'PORT BURWELL', 'PORTALMA-T1',\n",
       "       'PORTALMA-T3', 'PORTLANDS-G1', 'PORTLANDS-G2', 'PORTLANDS-G3',\n",
       "       'PRINCEFARM', 'RAILBEDWF-LT.AG_SR', 'RAYNER', 'REDROCK',\n",
       "       'RIPLEY SOUTH', 'ROMNEY', 'SANDUSK-LT.AG_T1', 'SAUNDERS',\n",
       "       'SHANNON', 'SILVERFALLS', 'SITHE GOREWAY-G11', 'SITHE GOREWAY-G12',\n",
       "       'SITHE GOREWAY-G13', 'SITHE GOREWAY-G15', 'SMOKY 2',\n",
       "       'SOUTHGATE SF', 'SPENCE', 'STCLAIRCGS', 'STEEPHILL', 'STEWARTVLE',\n",
       "       'STONE MILLS SF', 'SUMMERHAVEN', 'TADOUGLAS', 'TAOHSC', 'TASARNIA',\n",
       "       'TAWINDSOR', 'TBAYBOWATER CTS', 'THOROLDCGS', 'THUNDERBAY-G3',\n",
       "       'TUNISGS', 'UMBATAFALLS', 'UNDERWOOD', 'UPPER WHITE RIVER',\n",
       "       'WELLS', 'WEST LINCOLN NRWF', 'WESTWINDSOR', 'WHITBYCGS',\n",
       "       'WHITEDOG', 'WINDSOR AIRPORT SF', 'WOLFE ISLAND', 'YORKCGS-G1',\n",
       "       'YORKCGS-G2', 'ZURICH'], dtype=object)"
      ]
     },
     "execution_count": 252,
     "metadata": {},
     "output_type": "execute_result"
    }
   ],
   "source": [
    "# unique values in the 'generator' column\n",
    "GOC_2021_01['Generator'].unique()"
   ]
  },
  {
   "cell_type": "code",
   "execution_count": 253,
   "id": "6432b21e-6c8f-4873-bc90-d5ebcc5b18f7",
   "metadata": {},
   "outputs": [
    {
     "data": {
      "text/plain": [
       "182"
      ]
     },
     "execution_count": 253,
     "metadata": {},
     "output_type": "execute_result"
    }
   ],
   "source": [
    "# Let's check out the length of this array\n",
    "len(GOC_2021_01['Generator'].unique())"
   ]
  },
  {
   "cell_type": "markdown",
   "id": "17a4a661-24cf-4b70-ae5a-c5f009f4ed1e",
   "metadata": {},
   "source": [
    "Cool!\n",
    "\n",
    "We have 182 active generators in Ontario. Now, let's find out more about the structure of our data."
   ]
  },
  {
   "cell_type": "markdown",
   "id": "73fde8f2-466d-4411-8cbd-5c4a3d9777b5",
   "metadata": {},
   "source": [
    "## Measurements"
   ]
  },
  {
   "cell_type": "code",
   "execution_count": 256,
   "id": "0363bddb-87a9-4a31-9552-56e71644da90",
   "metadata": {},
   "outputs": [
    {
     "data": {
      "text/plain": [
       "Generator\n",
       "ABKENORA                                [Capability, Output]\n",
       "ADELAIDE              [Available Capacity, Forecast, Output]\n",
       "AGUASABON                               [Capability, Output]\n",
       "ALEXANDER                               [Capability, Output]\n",
       "AMARANTH              [Available Capacity, Forecast, Output]\n",
       "                                       ...                  \n",
       "WINDSOR AIRPORT SF    [Available Capacity, Forecast, Output]\n",
       "WOLFE ISLAND          [Available Capacity, Forecast, Output]\n",
       "YORKCGS-G1                              [Capability, Output]\n",
       "YORKCGS-G2                              [Capability, Output]\n",
       "ZURICH                [Available Capacity, Forecast, Output]\n",
       "Name: Measurement, Length: 182, dtype: object"
      ]
     },
     "execution_count": 256,
     "metadata": {},
     "output_type": "execute_result"
    }
   ],
   "source": [
    "# Let's see what is being measured for each generator\n",
    "GOC_2021_01.groupby(GOC_2021_01['Generator'])['Measurement'].unique()"
   ]
  },
  {
   "cell_type": "markdown",
   "id": "0c56076d-4a38-4739-b421-93f1d9f58546",
   "metadata": {},
   "source": [
    "<hr>\n",
    "\n",
    "Very cool!\n",
    "\n",
    "Let's look at unique fuel types."
   ]
  },
  {
   "cell_type": "markdown",
   "id": "49940eea-f192-4b6a-8b51-d36ffdd095ea",
   "metadata": {},
   "source": [
    "## Fuel Types"
   ]
  },
  {
   "cell_type": "code",
   "execution_count": 260,
   "id": "38fa6a8a-efda-4369-83cc-ce9825471540",
   "metadata": {},
   "outputs": [
    {
     "data": {
      "text/plain": [
       "2021-01-01    [HYDRO, WIND, BIOFUEL, GAS, NUCLEAR, SOLAR]\n",
       "2021-01-02    [HYDRO, WIND, BIOFUEL, GAS, NUCLEAR, SOLAR]\n",
       "2021-01-03    [HYDRO, WIND, BIOFUEL, GAS, NUCLEAR, SOLAR]\n",
       "2021-01-04    [HYDRO, WIND, BIOFUEL, GAS, NUCLEAR, SOLAR]\n",
       "2021-01-05    [HYDRO, WIND, BIOFUEL, GAS, NUCLEAR, SOLAR]\n",
       "2021-01-06    [HYDRO, WIND, BIOFUEL, GAS, NUCLEAR, SOLAR]\n",
       "2021-01-07    [HYDRO, WIND, BIOFUEL, GAS, NUCLEAR, SOLAR]\n",
       "2021-01-08    [HYDRO, WIND, BIOFUEL, GAS, NUCLEAR, SOLAR]\n",
       "2021-01-09    [HYDRO, WIND, BIOFUEL, GAS, NUCLEAR, SOLAR]\n",
       "2021-01-10    [HYDRO, WIND, BIOFUEL, GAS, NUCLEAR, SOLAR]\n",
       "2021-01-11    [HYDRO, WIND, BIOFUEL, GAS, NUCLEAR, SOLAR]\n",
       "2021-01-12    [HYDRO, WIND, BIOFUEL, GAS, NUCLEAR, SOLAR]\n",
       "2021-01-13    [HYDRO, WIND, BIOFUEL, GAS, NUCLEAR, SOLAR]\n",
       "2021-01-14    [HYDRO, WIND, BIOFUEL, GAS, NUCLEAR, SOLAR]\n",
       "2021-01-15    [HYDRO, WIND, BIOFUEL, GAS, NUCLEAR, SOLAR]\n",
       "2021-01-16    [HYDRO, WIND, BIOFUEL, GAS, NUCLEAR, SOLAR]\n",
       "2021-01-17    [HYDRO, WIND, BIOFUEL, GAS, NUCLEAR, SOLAR]\n",
       "2021-01-18    [HYDRO, WIND, BIOFUEL, GAS, NUCLEAR, SOLAR]\n",
       "2021-01-19    [HYDRO, WIND, BIOFUEL, GAS, NUCLEAR, SOLAR]\n",
       "2021-01-20    [HYDRO, WIND, BIOFUEL, GAS, NUCLEAR, SOLAR]\n",
       "2021-01-21    [HYDRO, WIND, BIOFUEL, GAS, NUCLEAR, SOLAR]\n",
       "2021-01-22    [HYDRO, WIND, BIOFUEL, GAS, NUCLEAR, SOLAR]\n",
       "2021-01-23    [HYDRO, WIND, BIOFUEL, GAS, NUCLEAR, SOLAR]\n",
       "2021-01-24    [HYDRO, WIND, BIOFUEL, GAS, NUCLEAR, SOLAR]\n",
       "2021-01-25    [HYDRO, WIND, BIOFUEL, GAS, NUCLEAR, SOLAR]\n",
       "2021-01-26    [HYDRO, WIND, BIOFUEL, GAS, NUCLEAR, SOLAR]\n",
       "2021-01-27    [HYDRO, WIND, BIOFUEL, GAS, NUCLEAR, SOLAR]\n",
       "2021-01-28    [HYDRO, WIND, BIOFUEL, GAS, NUCLEAR, SOLAR]\n",
       "2021-01-29    [HYDRO, WIND, BIOFUEL, GAS, NUCLEAR, SOLAR]\n",
       "2021-01-30    [HYDRO, WIND, BIOFUEL, GAS, NUCLEAR, SOLAR]\n",
       "2021-01-31    [HYDRO, WIND, BIOFUEL, GAS, NUCLEAR, SOLAR]\n",
       "Name: Fuel Type, dtype: object"
      ]
     },
     "execution_count": 260,
     "metadata": {},
     "output_type": "execute_result"
    }
   ],
   "source": [
    "# This groupby command helps us see unique fuel types in our data\n",
    "GOC_2021_01.groupby(GOC_2021_01.index)['Fuel Type'].unique()"
   ]
  },
  {
   "cell_type": "markdown",
   "id": "39e35a58-2870-4b3b-9414-2d16fce230f3",
   "metadata": {},
   "source": [
    "## NOTE\n",
    "\n",
    "Cool. We have TWO types of NEW renewable energies (Wind and Solar), and FOUR types of conventional sources of energy (Hydro, Gas, Nuclear, and BioFuel). \n",
    "\n",
    "The distinction between these two is important, as we shall see later."
   ]
  },
  {
   "cell_type": "markdown",
   "id": "93ca2ee8-b1dd-4a21-8a77-54c1848af2a3",
   "metadata": {},
   "source": [
    "<hr>"
   ]
  },
  {
   "cell_type": "markdown",
   "id": "3735bb2b-37f0-40c1-83d6-60fb2df2658d",
   "metadata": {},
   "source": [
    "One last thing; let's see the first few rows!"
   ]
  },
  {
   "cell_type": "code",
   "execution_count": 258,
   "id": "4ebe4010-bd7b-4b2c-9891-cf696ba4c344",
   "metadata": {},
   "outputs": [
    {
     "data": {
      "text/html": [
       "<div>\n",
       "<style scoped>\n",
       "    .dataframe tbody tr th:only-of-type {\n",
       "        vertical-align: middle;\n",
       "    }\n",
       "\n",
       "    .dataframe tbody tr th {\n",
       "        vertical-align: top;\n",
       "    }\n",
       "\n",
       "    .dataframe thead th {\n",
       "        text-align: right;\n",
       "    }\n",
       "</style>\n",
       "<table border=\"1\" class=\"dataframe\">\n",
       "  <thead>\n",
       "    <tr style=\"text-align: right;\">\n",
       "      <th></th>\n",
       "      <th>Generator</th>\n",
       "      <th>Fuel Type</th>\n",
       "      <th>Measurement</th>\n",
       "      <th>Hour 1</th>\n",
       "      <th>Hour 2</th>\n",
       "      <th>Hour 3</th>\n",
       "      <th>Hour 4</th>\n",
       "      <th>Hour 5</th>\n",
       "      <th>Hour 6</th>\n",
       "      <th>Hour 7</th>\n",
       "      <th>...</th>\n",
       "      <th>Hour 16</th>\n",
       "      <th>Hour 17</th>\n",
       "      <th>Hour 18</th>\n",
       "      <th>Hour 19</th>\n",
       "      <th>Hour 20</th>\n",
       "      <th>Hour 21</th>\n",
       "      <th>Hour 22</th>\n",
       "      <th>Hour 23</th>\n",
       "      <th>Hour 24</th>\n",
       "      <th>Unnamed: 27</th>\n",
       "    </tr>\n",
       "  </thead>\n",
       "  <tbody>\n",
       "    <tr>\n",
       "      <th>2021-01-01</th>\n",
       "      <td>ABKENORA</td>\n",
       "      <td>HYDRO</td>\n",
       "      <td>Capability</td>\n",
       "      <td>11</td>\n",
       "      <td>11</td>\n",
       "      <td>11</td>\n",
       "      <td>11</td>\n",
       "      <td>11</td>\n",
       "      <td>11</td>\n",
       "      <td>11</td>\n",
       "      <td>...</td>\n",
       "      <td>11</td>\n",
       "      <td>11</td>\n",
       "      <td>11</td>\n",
       "      <td>11</td>\n",
       "      <td>11</td>\n",
       "      <td>11</td>\n",
       "      <td>11</td>\n",
       "      <td>11</td>\n",
       "      <td>11</td>\n",
       "      <td>NaN</td>\n",
       "    </tr>\n",
       "    <tr>\n",
       "      <th>2021-01-01</th>\n",
       "      <td>ABKENORA</td>\n",
       "      <td>HYDRO</td>\n",
       "      <td>Output</td>\n",
       "      <td>9</td>\n",
       "      <td>9</td>\n",
       "      <td>9</td>\n",
       "      <td>9</td>\n",
       "      <td>9</td>\n",
       "      <td>9</td>\n",
       "      <td>9</td>\n",
       "      <td>...</td>\n",
       "      <td>9</td>\n",
       "      <td>9</td>\n",
       "      <td>9</td>\n",
       "      <td>9</td>\n",
       "      <td>9</td>\n",
       "      <td>9</td>\n",
       "      <td>9</td>\n",
       "      <td>9</td>\n",
       "      <td>9</td>\n",
       "      <td>NaN</td>\n",
       "    </tr>\n",
       "    <tr>\n",
       "      <th>2021-01-01</th>\n",
       "      <td>ADELAIDE</td>\n",
       "      <td>WIND</td>\n",
       "      <td>Available Capacity</td>\n",
       "      <td>60</td>\n",
       "      <td>60</td>\n",
       "      <td>60</td>\n",
       "      <td>60</td>\n",
       "      <td>60</td>\n",
       "      <td>60</td>\n",
       "      <td>60</td>\n",
       "      <td>...</td>\n",
       "      <td>60</td>\n",
       "      <td>60</td>\n",
       "      <td>60</td>\n",
       "      <td>60</td>\n",
       "      <td>60</td>\n",
       "      <td>60</td>\n",
       "      <td>60</td>\n",
       "      <td>60</td>\n",
       "      <td>60</td>\n",
       "      <td>NaN</td>\n",
       "    </tr>\n",
       "    <tr>\n",
       "      <th>2021-01-01</th>\n",
       "      <td>ADELAIDE</td>\n",
       "      <td>WIND</td>\n",
       "      <td>Forecast</td>\n",
       "      <td>0</td>\n",
       "      <td>0</td>\n",
       "      <td>0</td>\n",
       "      <td>3</td>\n",
       "      <td>7</td>\n",
       "      <td>8</td>\n",
       "      <td>9</td>\n",
       "      <td>...</td>\n",
       "      <td>18</td>\n",
       "      <td>30</td>\n",
       "      <td>42</td>\n",
       "      <td>37</td>\n",
       "      <td>38</td>\n",
       "      <td>22</td>\n",
       "      <td>13</td>\n",
       "      <td>11</td>\n",
       "      <td>7</td>\n",
       "      <td>NaN</td>\n",
       "    </tr>\n",
       "    <tr>\n",
       "      <th>2021-01-01</th>\n",
       "      <td>ADELAIDE</td>\n",
       "      <td>WIND</td>\n",
       "      <td>Output</td>\n",
       "      <td>0</td>\n",
       "      <td>0</td>\n",
       "      <td>1</td>\n",
       "      <td>4</td>\n",
       "      <td>1</td>\n",
       "      <td>2</td>\n",
       "      <td>3</td>\n",
       "      <td>...</td>\n",
       "      <td>18</td>\n",
       "      <td>32</td>\n",
       "      <td>43</td>\n",
       "      <td>32</td>\n",
       "      <td>39</td>\n",
       "      <td>17</td>\n",
       "      <td>12</td>\n",
       "      <td>9</td>\n",
       "      <td>7</td>\n",
       "      <td>NaN</td>\n",
       "    </tr>\n",
       "  </tbody>\n",
       "</table>\n",
       "<p>5 rows × 28 columns</p>\n",
       "</div>"
      ],
      "text/plain": [
       "           Generator Fuel Type         Measurement Hour 1 Hour 2 Hour 3  \\\n",
       "2021-01-01  ABKENORA     HYDRO          Capability     11     11     11   \n",
       "2021-01-01  ABKENORA     HYDRO              Output      9      9      9   \n",
       "2021-01-01  ADELAIDE      WIND  Available Capacity     60     60     60   \n",
       "2021-01-01  ADELAIDE      WIND            Forecast      0      0      0   \n",
       "2021-01-01  ADELAIDE      WIND              Output      0      0      1   \n",
       "\n",
       "           Hour 4 Hour 5 Hour 6 Hour 7  ... Hour 16 Hour 17 Hour 18 Hour 19  \\\n",
       "2021-01-01     11     11     11     11  ...      11      11      11      11   \n",
       "2021-01-01      9      9      9      9  ...       9       9       9       9   \n",
       "2021-01-01     60     60     60     60  ...      60      60      60      60   \n",
       "2021-01-01      3      7      8      9  ...      18      30      42      37   \n",
       "2021-01-01      4      1      2      3  ...      18      32      43      32   \n",
       "\n",
       "           Hour 20 Hour 21 Hour 22 Hour 23 Hour 24 Unnamed: 27  \n",
       "2021-01-01      11      11      11      11      11         NaN  \n",
       "2021-01-01       9       9       9       9       9         NaN  \n",
       "2021-01-01      60      60      60      60      60         NaN  \n",
       "2021-01-01      38      22      13      11       7         NaN  \n",
       "2021-01-01      39      17      12       9       7         NaN  \n",
       "\n",
       "[5 rows x 28 columns]"
      ]
     },
     "execution_count": 258,
     "metadata": {},
     "output_type": "execute_result"
    }
   ],
   "source": [
    "# sanity check\n",
    "GOC_2021_01.head()"
   ]
  },
  {
   "cell_type": "markdown",
   "id": "e273e0a3-7764-4db0-9370-3c99f7788a4c",
   "metadata": {},
   "source": [
    "very cool!\n",
    "\n",
    "<hr>"
   ]
  },
  {
   "cell_type": "markdown",
   "id": "f62825c4-5554-4e11-871f-75b87b483e35",
   "metadata": {},
   "source": [
    "## Structure of our data"
   ]
  },
  {
   "cell_type": "markdown",
   "id": "c005e97d-84d7-4487-8efb-8af3e3f3102d",
   "metadata": {},
   "source": [
    "So far our investigation has been fruitful and exciting! Let's do a quick review.\n",
    "\n",
    "<ol>\n",
    "    <li> We have one month worth of data, which is broken down into days (31 days for January). </li>\n",
    "    <li> For each day, we have data about 182 unique power generators. In other words, 31 x 182 </li>\n",
    "    <li> For each of these generators TWO or THREE things are being measured: \n",
    "        <ul>\n",
    "            <li> In case of Hydro, Gas, Biofuel, and Nuclear, we have 'Capability' and 'Output'.</li>\n",
    "            <li> In case of Wind and Solar (which are considered RENEWABLE sources) we have 'Available Capacity', 'Forecast' and 'Output'.</li>\n",
    "        </ul>\n",
    "    </li>\n",
    "    <li> Next, we have measurements of these variables for each hour.</li>\n",
    "</ol>"
   ]
  },
  {
   "cell_type": "markdown",
   "id": "f0745e7b-dc2a-4431-b672-59084b9a8615",
   "metadata": {},
   "source": [
    "<hr>"
   ]
  },
  {
   "cell_type": "code",
   "execution_count": 274,
   "id": "eae4c5fa-966a-4ef2-860d-d5fbe6579f9b",
   "metadata": {},
   "outputs": [
    {
     "data": {
      "text/plain": [
       "2021-01-01    [Capability, Output, Available Capacity, Forec...\n",
       "2021-01-02    [Capability, Output, Available Capacity, Forec...\n",
       "2021-01-03    [Capability, Output, Available Capacity, Forec...\n",
       "2021-01-04    [Capability, Output, Available Capacity, Forec...\n",
       "2021-01-05    [Capability, Output, Available Capacity, Forec...\n",
       "Name: Measurement, dtype: object"
      ]
     },
     "execution_count": 274,
     "metadata": {},
     "output_type": "execute_result"
    }
   ],
   "source": [
    "# sanity check\n",
    "GOC_2021_01.groupby(GOC_2021_01.index)['Measurement'].unique().head()"
   ]
  },
  {
   "cell_type": "markdown",
   "id": "b033b1b3-a5f9-437c-98ed-d50b075c479a",
   "metadata": {},
   "source": [
    "<hr>"
   ]
  },
  {
   "cell_type": "markdown",
   "id": "794c5b35-9210-4e39-9b7f-80add5f5e581",
   "metadata": {},
   "source": [
    "## Important Note!\n",
    "\n",
    "Let's discuss 'Available Capacity', 'Forecast' and 'Output'.\n",
    "\n",
    "### Unique features of Wind and Solar Energy\n",
    "These two types of energy, produce varied outputs that are beying the control of system operators. Wind output is contingent on the speed of wind; and solar output is contingent on the time of day, angel of the sun, and presence of clouds. Therefore, Available Capacity does not necessarily translate into the full scale of energy being available. Rather, the energy that could be produced (and thus is available) can be reflected in 'Forecast' row, which takes into account conditions that dictate output, and are beyond the control of system operators.\n",
    "\n",
    "[For more inormation regarding these variables, please read ieso documents: <a href=\"http://reports.ieso.ca/docrefs/helpfile/GenOutputCapability_h4.pdf\"> here </a>]\n",
    "\n",
    "\n",
    "These notes shall play a crucial role later, when we construct new features."
   ]
  },
  {
   "cell_type": "markdown",
   "id": "a8d79694-0bbb-4258-a839-4356e45f8e4e",
   "metadata": {},
   "source": [
    "<hr>"
   ]
  },
  {
   "cell_type": "markdown",
   "id": "4368efa4-6133-4383-968e-e8ed080f07a0",
   "metadata": {},
   "source": [
    "## Plan\n",
    "\n",
    "We need to have access to the output of the energy market, and include it in our data, alongside Ontario Demand, and Price. Therefore, we need to perform a few operations.\n",
    "\n",
    "<ol>\n",
    "    <li> Filter by 'Output' within the 'Measurement' column, </li>\n",
    "    <li> Sum up all outputs of all of the generators, for each hour, </li>\n",
    "    <li> Record them as data points (24 of them) within our 'OUTPUT' dataframe, which is yet to be constructed, </li>\n",
    "    <li> Repeat this operation for each of the 30 or 31 days of each month, </li>\n",
    "    <li> Repeat this for each of the 12 files, containing the entire annual data.</li>\n",
    "</ol>\n",
    "\n",
    "Once this operation is complete, we will also repeat this for another variable (a constructed variable which we will call 'System Capacity'). Thus, by the end of this phase (data cleaning) we should have the following pieces of data:\n",
    "\n",
    "<ul>\n",
    "    <li> System's Demand </li>\n",
    "    <li> System's Output </li>\n",
    "    <li> System's Capacity </li>\n",
    "    <li> Prevailing Price for each MWh of electricity </li>\n",
    "</ul>\n",
    "\n",
    "Let's get going!"
   ]
  },
  {
   "cell_type": "markdown",
   "id": "2f670dee-a548-4ecd-9984-0d6bc6338b73",
   "metadata": {},
   "source": [
    "<hr>"
   ]
  },
  {
   "cell_type": "markdown",
   "id": "a7a39ada-83c1-434e-bbb0-be59d2688c32",
   "metadata": {},
   "source": [
    "## [ Task ]\n",
    "\n",
    "Create a new dataframe for all the <i> outputs </i>."
   ]
  },
  {
   "cell_type": "code",
   "execution_count": 271,
   "id": "abc6011b-88be-40fb-8290-0c7bd67a5d94",
   "metadata": {},
   "outputs": [],
   "source": [
    "# filtering out the output\n",
    "GOC_output_2021_01 = GOC_2021_01[GOC_2021_01['Measurement'] == 'Output']"
   ]
  },
  {
   "cell_type": "code",
   "execution_count": 275,
   "id": "79fc918f-2b8b-46f7-a040-54451d4f0eb0",
   "metadata": {},
   "outputs": [
    {
     "data": {
      "text/html": [
       "<div>\n",
       "<style scoped>\n",
       "    .dataframe tbody tr th:only-of-type {\n",
       "        vertical-align: middle;\n",
       "    }\n",
       "\n",
       "    .dataframe tbody tr th {\n",
       "        vertical-align: top;\n",
       "    }\n",
       "\n",
       "    .dataframe thead th {\n",
       "        text-align: right;\n",
       "    }\n",
       "</style>\n",
       "<table border=\"1\" class=\"dataframe\">\n",
       "  <thead>\n",
       "    <tr style=\"text-align: right;\">\n",
       "      <th></th>\n",
       "      <th>Generator</th>\n",
       "      <th>Fuel Type</th>\n",
       "      <th>Measurement</th>\n",
       "      <th>Hour 1</th>\n",
       "      <th>Hour 2</th>\n",
       "      <th>Hour 3</th>\n",
       "      <th>Hour 4</th>\n",
       "      <th>Hour 5</th>\n",
       "      <th>Hour 6</th>\n",
       "      <th>Hour 7</th>\n",
       "      <th>...</th>\n",
       "      <th>Hour 16</th>\n",
       "      <th>Hour 17</th>\n",
       "      <th>Hour 18</th>\n",
       "      <th>Hour 19</th>\n",
       "      <th>Hour 20</th>\n",
       "      <th>Hour 21</th>\n",
       "      <th>Hour 22</th>\n",
       "      <th>Hour 23</th>\n",
       "      <th>Hour 24</th>\n",
       "      <th>Unnamed: 27</th>\n",
       "    </tr>\n",
       "  </thead>\n",
       "  <tbody>\n",
       "    <tr>\n",
       "      <th>2021-01-01</th>\n",
       "      <td>ABKENORA</td>\n",
       "      <td>HYDRO</td>\n",
       "      <td>Output</td>\n",
       "      <td>9</td>\n",
       "      <td>9</td>\n",
       "      <td>9</td>\n",
       "      <td>9</td>\n",
       "      <td>9</td>\n",
       "      <td>9</td>\n",
       "      <td>9</td>\n",
       "      <td>...</td>\n",
       "      <td>9</td>\n",
       "      <td>9</td>\n",
       "      <td>9</td>\n",
       "      <td>9</td>\n",
       "      <td>9</td>\n",
       "      <td>9</td>\n",
       "      <td>9</td>\n",
       "      <td>9</td>\n",
       "      <td>9</td>\n",
       "      <td>NaN</td>\n",
       "    </tr>\n",
       "    <tr>\n",
       "      <th>2021-01-01</th>\n",
       "      <td>ADELAIDE</td>\n",
       "      <td>WIND</td>\n",
       "      <td>Output</td>\n",
       "      <td>0</td>\n",
       "      <td>0</td>\n",
       "      <td>1</td>\n",
       "      <td>4</td>\n",
       "      <td>1</td>\n",
       "      <td>2</td>\n",
       "      <td>3</td>\n",
       "      <td>...</td>\n",
       "      <td>18</td>\n",
       "      <td>32</td>\n",
       "      <td>43</td>\n",
       "      <td>32</td>\n",
       "      <td>39</td>\n",
       "      <td>17</td>\n",
       "      <td>12</td>\n",
       "      <td>9</td>\n",
       "      <td>7</td>\n",
       "      <td>NaN</td>\n",
       "    </tr>\n",
       "    <tr>\n",
       "      <th>2021-01-01</th>\n",
       "      <td>AGUASABON</td>\n",
       "      <td>HYDRO</td>\n",
       "      <td>Output</td>\n",
       "      <td>24</td>\n",
       "      <td>2</td>\n",
       "      <td>33</td>\n",
       "      <td>41</td>\n",
       "      <td>17</td>\n",
       "      <td>14</td>\n",
       "      <td>14</td>\n",
       "      <td>...</td>\n",
       "      <td>1</td>\n",
       "      <td>5</td>\n",
       "      <td>34</td>\n",
       "      <td>43</td>\n",
       "      <td>23</td>\n",
       "      <td>22</td>\n",
       "      <td>1</td>\n",
       "      <td>33</td>\n",
       "      <td>12</td>\n",
       "      <td>NaN</td>\n",
       "    </tr>\n",
       "    <tr>\n",
       "      <th>2021-01-01</th>\n",
       "      <td>ALEXANDER</td>\n",
       "      <td>HYDRO</td>\n",
       "      <td>Output</td>\n",
       "      <td>33</td>\n",
       "      <td>33</td>\n",
       "      <td>33</td>\n",
       "      <td>33</td>\n",
       "      <td>33</td>\n",
       "      <td>32</td>\n",
       "      <td>32</td>\n",
       "      <td>...</td>\n",
       "      <td>33</td>\n",
       "      <td>33</td>\n",
       "      <td>33</td>\n",
       "      <td>33</td>\n",
       "      <td>33</td>\n",
       "      <td>33</td>\n",
       "      <td>33</td>\n",
       "      <td>33</td>\n",
       "      <td>32</td>\n",
       "      <td>NaN</td>\n",
       "    </tr>\n",
       "    <tr>\n",
       "      <th>2021-01-01</th>\n",
       "      <td>AMARANTH</td>\n",
       "      <td>WIND</td>\n",
       "      <td>Output</td>\n",
       "      <td>0</td>\n",
       "      <td>0</td>\n",
       "      <td>0</td>\n",
       "      <td>0</td>\n",
       "      <td>0</td>\n",
       "      <td>0</td>\n",
       "      <td>2</td>\n",
       "      <td>...</td>\n",
       "      <td>96</td>\n",
       "      <td>108</td>\n",
       "      <td>118</td>\n",
       "      <td>99</td>\n",
       "      <td>114</td>\n",
       "      <td>102</td>\n",
       "      <td>61</td>\n",
       "      <td>60</td>\n",
       "      <td>74</td>\n",
       "      <td>NaN</td>\n",
       "    </tr>\n",
       "  </tbody>\n",
       "</table>\n",
       "<p>5 rows × 28 columns</p>\n",
       "</div>"
      ],
      "text/plain": [
       "            Generator Fuel Type Measurement Hour 1 Hour 2 Hour 3 Hour 4  \\\n",
       "2021-01-01   ABKENORA     HYDRO      Output      9      9      9      9   \n",
       "2021-01-01   ADELAIDE      WIND      Output      0      0      1      4   \n",
       "2021-01-01  AGUASABON     HYDRO      Output     24      2     33     41   \n",
       "2021-01-01  ALEXANDER     HYDRO      Output     33     33     33     33   \n",
       "2021-01-01   AMARANTH      WIND      Output      0      0      0      0   \n",
       "\n",
       "           Hour 5 Hour 6 Hour 7  ... Hour 16 Hour 17 Hour 18 Hour 19 Hour 20  \\\n",
       "2021-01-01      9      9      9  ...       9       9       9       9       9   \n",
       "2021-01-01      1      2      3  ...      18      32      43      32      39   \n",
       "2021-01-01     17     14     14  ...       1       5      34      43      23   \n",
       "2021-01-01     33     32     32  ...      33      33      33      33      33   \n",
       "2021-01-01      0      0      2  ...      96     108     118      99     114   \n",
       "\n",
       "           Hour 21 Hour 22 Hour 23 Hour 24 Unnamed: 27  \n",
       "2021-01-01       9       9       9       9         NaN  \n",
       "2021-01-01      17      12       9       7         NaN  \n",
       "2021-01-01      22       1      33      12         NaN  \n",
       "2021-01-01      33      33      33      32         NaN  \n",
       "2021-01-01     102      61      60      74         NaN  \n",
       "\n",
       "[5 rows x 28 columns]"
      ]
     },
     "execution_count": 275,
     "metadata": {},
     "output_type": "execute_result"
    }
   ],
   "source": [
    "# sanity check\n",
    "GOC_output_2021_01.head()"
   ]
  },
  {
   "cell_type": "code",
   "execution_count": 276,
   "id": "ad74adb2-8599-44a0-8ff6-51e48679282d",
   "metadata": {},
   "outputs": [
    {
     "data": {
      "text/plain": [
       "(5642, 28)"
      ]
     },
     "execution_count": 276,
     "metadata": {},
     "output_type": "execute_result"
    }
   ],
   "source": [
    "GOC_output_2021_01.shape"
   ]
  },
  {
   "cell_type": "markdown",
   "id": "3738c416-c81b-4d8a-888a-47de019d50e3",
   "metadata": {},
   "source": [
    "Let's do a quick calculation. If we divide 5642, by the number of days in January (which is expected to be 31) we should get the number of generators tht are contributing to Ontario's electricity system."
   ]
  },
  {
   "cell_type": "code",
   "execution_count": 277,
   "id": "5cd9c6de-4bd7-41ec-80b5-757241a32897",
   "metadata": {},
   "outputs": [
    {
     "data": {
      "text/plain": [
       "182.0"
      ]
     },
     "execution_count": 277,
     "metadata": {},
     "output_type": "execute_result"
    }
   ],
   "source": [
    "5642 / 31"
   ]
  },
  {
   "cell_type": "markdown",
   "id": "63537f70-85d0-4bcb-9fab-ab0599f6a6c8",
   "metadata": {},
   "source": [
    "We can call this success! \n",
    "\n",
    "Very cool. Now, we can move on to the next step: re-organizing  our data (in rows), then setting up a loop, and repeating this process for all of the 12 months for which we have data."
   ]
  },
  {
   "cell_type": "markdown",
   "id": "dfc9ca4a-62bd-4b6b-aa73-ed36408f175d",
   "metadata": {},
   "source": [
    "<hr>"
   ]
  },
  {
   "cell_type": "markdown",
   "id": "fc0c6cae-5270-4ef0-9680-e3ab5bdaa1f6",
   "metadata": {
    "jp-MarkdownHeadingCollapsed": true
   },
   "source": [
    "## [Task]\n",
    "\n",
    "<ol>\n",
    "    <li> Separate days, </li>\n",
    "    <li> Sum up all of the elements in the column ' Hour 1';</li>\n",
    "    <li> Put the script in a loop, that would repeat 24 times (for each hour, in a given day); </li>\n",
    "    <li> Put it inside a loop that would repeat 31 times (for each day in a given month);</li>\n",
    "</ol>"
   ]
  },
  {
   "cell_type": "code",
   "execution_count": 296,
   "id": "912059fa-88d1-469e-a4c2-67a3565c3f6c",
   "metadata": {},
   "outputs": [
    {
     "data": {
      "text/html": [
       "<div>\n",
       "<style scoped>\n",
       "    .dataframe tbody tr th:only-of-type {\n",
       "        vertical-align: middle;\n",
       "    }\n",
       "\n",
       "    .dataframe tbody tr th {\n",
       "        vertical-align: top;\n",
       "    }\n",
       "\n",
       "    .dataframe thead th {\n",
       "        text-align: right;\n",
       "    }\n",
       "</style>\n",
       "<table border=\"1\" class=\"dataframe\">\n",
       "  <thead>\n",
       "    <tr style=\"text-align: right;\">\n",
       "      <th></th>\n",
       "      <th>Generator</th>\n",
       "      <th>Fuel Type</th>\n",
       "      <th>Measurement</th>\n",
       "      <th>Hour 1</th>\n",
       "      <th>Hour 2</th>\n",
       "      <th>Hour 3</th>\n",
       "      <th>Hour 4</th>\n",
       "      <th>Hour 5</th>\n",
       "      <th>Hour 6</th>\n",
       "      <th>Hour 7</th>\n",
       "      <th>...</th>\n",
       "      <th>Hour 16</th>\n",
       "      <th>Hour 17</th>\n",
       "      <th>Hour 18</th>\n",
       "      <th>Hour 19</th>\n",
       "      <th>Hour 20</th>\n",
       "      <th>Hour 21</th>\n",
       "      <th>Hour 22</th>\n",
       "      <th>Hour 23</th>\n",
       "      <th>Hour 24</th>\n",
       "      <th>Unnamed: 27</th>\n",
       "    </tr>\n",
       "  </thead>\n",
       "  <tbody>\n",
       "    <tr>\n",
       "      <th>2021-01-01</th>\n",
       "      <td>ABKENORA</td>\n",
       "      <td>HYDRO</td>\n",
       "      <td>Output</td>\n",
       "      <td>9</td>\n",
       "      <td>9</td>\n",
       "      <td>9</td>\n",
       "      <td>9</td>\n",
       "      <td>9</td>\n",
       "      <td>9</td>\n",
       "      <td>9</td>\n",
       "      <td>...</td>\n",
       "      <td>9</td>\n",
       "      <td>9</td>\n",
       "      <td>9</td>\n",
       "      <td>9</td>\n",
       "      <td>9</td>\n",
       "      <td>9</td>\n",
       "      <td>9</td>\n",
       "      <td>9</td>\n",
       "      <td>9</td>\n",
       "      <td>NaN</td>\n",
       "    </tr>\n",
       "    <tr>\n",
       "      <th>2021-01-01</th>\n",
       "      <td>ADELAIDE</td>\n",
       "      <td>WIND</td>\n",
       "      <td>Output</td>\n",
       "      <td>0</td>\n",
       "      <td>0</td>\n",
       "      <td>1</td>\n",
       "      <td>4</td>\n",
       "      <td>1</td>\n",
       "      <td>2</td>\n",
       "      <td>3</td>\n",
       "      <td>...</td>\n",
       "      <td>18</td>\n",
       "      <td>32</td>\n",
       "      <td>43</td>\n",
       "      <td>32</td>\n",
       "      <td>39</td>\n",
       "      <td>17</td>\n",
       "      <td>12</td>\n",
       "      <td>9</td>\n",
       "      <td>7</td>\n",
       "      <td>NaN</td>\n",
       "    </tr>\n",
       "    <tr>\n",
       "      <th>2021-01-01</th>\n",
       "      <td>AGUASABON</td>\n",
       "      <td>HYDRO</td>\n",
       "      <td>Output</td>\n",
       "      <td>24</td>\n",
       "      <td>2</td>\n",
       "      <td>33</td>\n",
       "      <td>41</td>\n",
       "      <td>17</td>\n",
       "      <td>14</td>\n",
       "      <td>14</td>\n",
       "      <td>...</td>\n",
       "      <td>1</td>\n",
       "      <td>5</td>\n",
       "      <td>34</td>\n",
       "      <td>43</td>\n",
       "      <td>23</td>\n",
       "      <td>22</td>\n",
       "      <td>1</td>\n",
       "      <td>33</td>\n",
       "      <td>12</td>\n",
       "      <td>NaN</td>\n",
       "    </tr>\n",
       "    <tr>\n",
       "      <th>2021-01-01</th>\n",
       "      <td>ALEXANDER</td>\n",
       "      <td>HYDRO</td>\n",
       "      <td>Output</td>\n",
       "      <td>33</td>\n",
       "      <td>33</td>\n",
       "      <td>33</td>\n",
       "      <td>33</td>\n",
       "      <td>33</td>\n",
       "      <td>32</td>\n",
       "      <td>32</td>\n",
       "      <td>...</td>\n",
       "      <td>33</td>\n",
       "      <td>33</td>\n",
       "      <td>33</td>\n",
       "      <td>33</td>\n",
       "      <td>33</td>\n",
       "      <td>33</td>\n",
       "      <td>33</td>\n",
       "      <td>33</td>\n",
       "      <td>32</td>\n",
       "      <td>NaN</td>\n",
       "    </tr>\n",
       "    <tr>\n",
       "      <th>2021-01-01</th>\n",
       "      <td>AMARANTH</td>\n",
       "      <td>WIND</td>\n",
       "      <td>Output</td>\n",
       "      <td>0</td>\n",
       "      <td>0</td>\n",
       "      <td>0</td>\n",
       "      <td>0</td>\n",
       "      <td>0</td>\n",
       "      <td>0</td>\n",
       "      <td>2</td>\n",
       "      <td>...</td>\n",
       "      <td>96</td>\n",
       "      <td>108</td>\n",
       "      <td>118</td>\n",
       "      <td>99</td>\n",
       "      <td>114</td>\n",
       "      <td>102</td>\n",
       "      <td>61</td>\n",
       "      <td>60</td>\n",
       "      <td>74</td>\n",
       "      <td>NaN</td>\n",
       "    </tr>\n",
       "    <tr>\n",
       "      <th>...</th>\n",
       "      <td>...</td>\n",
       "      <td>...</td>\n",
       "      <td>...</td>\n",
       "      <td>...</td>\n",
       "      <td>...</td>\n",
       "      <td>...</td>\n",
       "      <td>...</td>\n",
       "      <td>...</td>\n",
       "      <td>...</td>\n",
       "      <td>...</td>\n",
       "      <td>...</td>\n",
       "      <td>...</td>\n",
       "      <td>...</td>\n",
       "      <td>...</td>\n",
       "      <td>...</td>\n",
       "      <td>...</td>\n",
       "      <td>...</td>\n",
       "      <td>...</td>\n",
       "      <td>...</td>\n",
       "      <td>...</td>\n",
       "      <td>...</td>\n",
       "    </tr>\n",
       "    <tr>\n",
       "      <th>2021-01-01</th>\n",
       "      <td>WINDSOR AIRPORT SF</td>\n",
       "      <td>SOLAR</td>\n",
       "      <td>Output</td>\n",
       "      <td>0</td>\n",
       "      <td>0</td>\n",
       "      <td>0</td>\n",
       "      <td>0</td>\n",
       "      <td>0</td>\n",
       "      <td>0</td>\n",
       "      <td>0</td>\n",
       "      <td>...</td>\n",
       "      <td>2</td>\n",
       "      <td>0</td>\n",
       "      <td>0</td>\n",
       "      <td>0</td>\n",
       "      <td>0</td>\n",
       "      <td>0</td>\n",
       "      <td>0</td>\n",
       "      <td>0</td>\n",
       "      <td>0</td>\n",
       "      <td>NaN</td>\n",
       "    </tr>\n",
       "    <tr>\n",
       "      <th>2021-01-01</th>\n",
       "      <td>WOLFE ISLAND</td>\n",
       "      <td>WIND</td>\n",
       "      <td>Output</td>\n",
       "      <td>0</td>\n",
       "      <td>5</td>\n",
       "      <td>4</td>\n",
       "      <td>7</td>\n",
       "      <td>10</td>\n",
       "      <td>8</td>\n",
       "      <td>8</td>\n",
       "      <td>...</td>\n",
       "      <td>43</td>\n",
       "      <td>28</td>\n",
       "      <td>31</td>\n",
       "      <td>35</td>\n",
       "      <td>38</td>\n",
       "      <td>15</td>\n",
       "      <td>16</td>\n",
       "      <td>38</td>\n",
       "      <td>32</td>\n",
       "      <td>NaN</td>\n",
       "    </tr>\n",
       "    <tr>\n",
       "      <th>2021-01-01</th>\n",
       "      <td>YORKCGS-G1</td>\n",
       "      <td>GAS</td>\n",
       "      <td>Output</td>\n",
       "      <td>0</td>\n",
       "      <td>0</td>\n",
       "      <td>0</td>\n",
       "      <td>0</td>\n",
       "      <td>0</td>\n",
       "      <td>0</td>\n",
       "      <td>0</td>\n",
       "      <td>...</td>\n",
       "      <td>0</td>\n",
       "      <td>0</td>\n",
       "      <td>0</td>\n",
       "      <td>0</td>\n",
       "      <td>0</td>\n",
       "      <td>0</td>\n",
       "      <td>0</td>\n",
       "      <td>0</td>\n",
       "      <td>0</td>\n",
       "      <td>NaN</td>\n",
       "    </tr>\n",
       "    <tr>\n",
       "      <th>2021-01-01</th>\n",
       "      <td>YORKCGS-G2</td>\n",
       "      <td>GAS</td>\n",
       "      <td>Output</td>\n",
       "      <td>0</td>\n",
       "      <td>0</td>\n",
       "      <td>0</td>\n",
       "      <td>0</td>\n",
       "      <td>0</td>\n",
       "      <td>0</td>\n",
       "      <td>0</td>\n",
       "      <td>...</td>\n",
       "      <td>0</td>\n",
       "      <td>0</td>\n",
       "      <td>0</td>\n",
       "      <td>0</td>\n",
       "      <td>0</td>\n",
       "      <td>0</td>\n",
       "      <td>0</td>\n",
       "      <td>0</td>\n",
       "      <td>0</td>\n",
       "      <td>NaN</td>\n",
       "    </tr>\n",
       "    <tr>\n",
       "      <th>2021-01-01</th>\n",
       "      <td>ZURICH</td>\n",
       "      <td>WIND</td>\n",
       "      <td>Output</td>\n",
       "      <td>8</td>\n",
       "      <td>10</td>\n",
       "      <td>7</td>\n",
       "      <td>4</td>\n",
       "      <td>10</td>\n",
       "      <td>31</td>\n",
       "      <td>29</td>\n",
       "      <td>...</td>\n",
       "      <td>59</td>\n",
       "      <td>47</td>\n",
       "      <td>73</td>\n",
       "      <td>71</td>\n",
       "      <td>43</td>\n",
       "      <td>11</td>\n",
       "      <td>7</td>\n",
       "      <td>6</td>\n",
       "      <td>6</td>\n",
       "      <td>NaN</td>\n",
       "    </tr>\n",
       "  </tbody>\n",
       "</table>\n",
       "<p>182 rows × 28 columns</p>\n",
       "</div>"
      ],
      "text/plain": [
       "                     Generator Fuel Type Measurement Hour 1 Hour 2 Hour 3  \\\n",
       "2021-01-01            ABKENORA     HYDRO      Output      9      9      9   \n",
       "2021-01-01            ADELAIDE      WIND      Output      0      0      1   \n",
       "2021-01-01           AGUASABON     HYDRO      Output     24      2     33   \n",
       "2021-01-01           ALEXANDER     HYDRO      Output     33     33     33   \n",
       "2021-01-01            AMARANTH      WIND      Output      0      0      0   \n",
       "...                        ...       ...         ...    ...    ...    ...   \n",
       "2021-01-01  WINDSOR AIRPORT SF     SOLAR      Output      0      0      0   \n",
       "2021-01-01        WOLFE ISLAND      WIND      Output      0      5      4   \n",
       "2021-01-01          YORKCGS-G1       GAS      Output      0      0      0   \n",
       "2021-01-01          YORKCGS-G2       GAS      Output      0      0      0   \n",
       "2021-01-01              ZURICH      WIND      Output      8     10      7   \n",
       "\n",
       "           Hour 4 Hour 5 Hour 6 Hour 7  ... Hour 16 Hour 17 Hour 18 Hour 19  \\\n",
       "2021-01-01      9      9      9      9  ...       9       9       9       9   \n",
       "2021-01-01      4      1      2      3  ...      18      32      43      32   \n",
       "2021-01-01     41     17     14     14  ...       1       5      34      43   \n",
       "2021-01-01     33     33     32     32  ...      33      33      33      33   \n",
       "2021-01-01      0      0      0      2  ...      96     108     118      99   \n",
       "...           ...    ...    ...    ...  ...     ...     ...     ...     ...   \n",
       "2021-01-01      0      0      0      0  ...       2       0       0       0   \n",
       "2021-01-01      7     10      8      8  ...      43      28      31      35   \n",
       "2021-01-01      0      0      0      0  ...       0       0       0       0   \n",
       "2021-01-01      0      0      0      0  ...       0       0       0       0   \n",
       "2021-01-01      4     10     31     29  ...      59      47      73      71   \n",
       "\n",
       "           Hour 20 Hour 21 Hour 22 Hour 23 Hour 24 Unnamed: 27  \n",
       "2021-01-01       9       9       9       9       9         NaN  \n",
       "2021-01-01      39      17      12       9       7         NaN  \n",
       "2021-01-01      23      22       1      33      12         NaN  \n",
       "2021-01-01      33      33      33      33      32         NaN  \n",
       "2021-01-01     114     102      61      60      74         NaN  \n",
       "...            ...     ...     ...     ...     ...         ...  \n",
       "2021-01-01       0       0       0       0       0         NaN  \n",
       "2021-01-01      38      15      16      38      32         NaN  \n",
       "2021-01-01       0       0       0       0       0         NaN  \n",
       "2021-01-01       0       0       0       0       0         NaN  \n",
       "2021-01-01      43      11       7       6       6         NaN  \n",
       "\n",
       "[182 rows x 28 columns]"
      ]
     },
     "execution_count": 296,
     "metadata": {},
     "output_type": "execute_result"
    }
   ],
   "source": [
    "# accessing dates\n",
    "GOC_output_2021_01.loc['2021-01-01']"
   ]
  },
  {
   "cell_type": "markdown",
   "id": "b49dd317-09d0-4fcb-ae4f-c80297bf35a1",
   "metadata": {},
   "source": [
    "# conceptual way of constructing the loop\n",
    "\n",
    "For day in month:\n",
    "    for hour in day:\n",
    "        grab the entire column;\n",
    "        convert it to numeric (coerce);\n",
    "        sum them up;\n",
    "        record the sum as a single value;"
   ]
  },
  {
   "cell_type": "markdown",
   "id": "8c59f45d-eea5-497b-ba74-ef308347d27d",
   "metadata": {},
   "source": [
    "# How to access one day worth of data\n",
    "GOC_output_2021_01.loc['2021-01-01']\n",
    "\n",
    "# How to grab all of the numeric values in column 'Hour 1'\n",
    "Hour_01 = pd.to_numeric(GOC_output_2021_01['Hour 1'], errors='coerce')\n",
    "\n",
    "# sum up all the values you have grabbed\n",
    "Hour_01.sum()"
   ]
  },
  {
   "cell_type": "markdown",
   "id": "a0a91e78-f991-4513-a9c3-22ae28144b56",
   "metadata": {
    "jp-MarkdownHeadingCollapsed": true
   },
   "source": [
    "### Following cells will contain code snipets where I attempt to load and organize the data"
   ]
  },
  {
   "cell_type": "markdown",
   "id": "ed306da4-d6a6-480e-b271-d6e07f4d4805",
   "metadata": {},
   "source": [
    "This is a preliminary step towards constructing out final script for extracting relevant data."
   ]
  },
  {
   "cell_type": "code",
   "execution_count": 351,
   "id": "f3b0c117-9439-4801-88e3-27082ee55910",
   "metadata": {},
   "outputs": [],
   "source": [
    "output_dict = {}\n",
    "\n",
    "for day in range(1,32):\n",
    "    day = f\"{day:02d}\"\n",
    "    date = '2021-01-' + str(day)\n",
    "    output_dict[day] = {}\n",
    "    for hour in range(1,25):\n",
    "        hour_f = f\"{hour:02d}\"\n",
    "        column = 'Hour ' + str(hour)\n",
    "        value = pd.to_numeric(GOC_output_2021_01.loc[date][column],errors='coerce').sum()\n",
    "        output_dict[day][hour_f] = value"
   ]
  },
  {
   "cell_type": "markdown",
   "id": "90abbf87-e9e9-44c5-a631-37abc800c20a",
   "metadata": {},
   "source": [
    "We can reasonably be confident that it works."
   ]
  },
  {
   "cell_type": "code",
   "execution_count": 353,
   "id": "f84a853d-3249-4770-a802-f7ca79ef0c48",
   "metadata": {},
   "outputs": [
    {
     "data": {
      "text/plain": [
       "numpy.float64"
      ]
     },
     "execution_count": 353,
     "metadata": {},
     "output_type": "execute_result"
    }
   ],
   "source": [
    "type(output_dict['06']['18'])"
   ]
  },
  {
   "cell_type": "code",
   "execution_count": 354,
   "id": "4b087375-b5be-4c05-8f7b-0f3139dd9230",
   "metadata": {},
   "outputs": [
    {
     "data": {
      "text/plain": [
       "19400.0"
      ]
     },
     "execution_count": 354,
     "metadata": {},
     "output_type": "execute_result"
    }
   ],
   "source": [
    "output_dict['06']['18']"
   ]
  },
  {
   "cell_type": "code",
   "execution_count": 418,
   "id": "c24fcb40-7d6b-4d08-b1c8-af8d68b348b7",
   "metadata": {},
   "outputs": [
    {
     "data": {
      "text/plain": [
       "dict_keys(['01', '02', '03', '04', '05', '06', '07', '08', '09', '10', '11', '12', '13', '14', '15', '16', '17', '18', '19', '20', '21', '22', '23', '24', '25', '26', '27', '28', '29', '30', '31'])"
      ]
     },
     "execution_count": 418,
     "metadata": {},
     "output_type": "execute_result"
    }
   ],
   "source": [
    "output_dict.keys()"
   ]
  },
  {
   "cell_type": "markdown",
   "id": "796d8d1c-fbe4-4d9a-a9cc-9d682e18849d",
   "metadata": {},
   "source": [
    "<hr>\n",
    "\n",
    "## [Task]"
   ]
  },
  {
   "cell_type": "markdown",
   "id": "292b9165-7757-4bbe-91aa-6dcfc30e6857",
   "metadata": {},
   "source": [
    "Now we need a loop for loading all of our 12 CSV files,\n",
    "we need to store the number of days in each of the 12 months in an array / list\n",
    "then we need to construct our dictionary, which will contain our data."
   ]
  },
  {
   "cell_type": "code",
   "execution_count": null,
   "id": "7cbdbafc-35d2-4358-9430-197e6c08b2f2",
   "metadata": {},
   "outputs": [],
   "source": []
  },
  {
   "cell_type": "markdown",
   "id": "eae7af3d-5765-4bdd-a418-5c591b83ff17",
   "metadata": {},
   "source": [
    "### How to load the Data"
   ]
  },
  {
   "cell_type": "markdown",
   "id": "8a42bdf7-b2c7-4036-841c-388b95903f2c",
   "metadata": {},
   "source": [
    "### Note\n",
    "\n",
    "Because of flaws with the raw data, it is important ro add one comma \",\" at the end of line four; and remove the phrase 'Delivery date' from the beginning of the line. The alternative way of fixing this issue is time consuming and messy."
   ]
  },
  {
   "cell_type": "code",
   "execution_count": null,
   "id": "35cbe3e7-c3df-44ff-92a4-c19fc3fbcb38",
   "metadata": {},
   "outputs": [],
   "source": [
    "### How to load the Data\n",
    "GOC_2021_01 = pd.read_csv('PUB_GenOutputCapabilityMonth_202101.csv', skiprows=3)"
   ]
  },
  {
   "cell_type": "code",
   "execution_count": null,
   "id": "cb71d287-0b23-49f0-8720-ecb80de9df75",
   "metadata": {},
   "outputs": [],
   "source": [
    "# This line shows how we can filter out all enteries for which\n",
    "# the value in Measurement column, is NOT 'Output'\n",
    "GOC_output_2021_01 = GOC_2021_01[GOC_2021_01['Measurement'] == 'Output']"
   ]
  },
  {
   "cell_type": "code",
   "execution_count": null,
   "id": "1b898b61-0064-4ea6-8e20-e3022e239c5c",
   "metadata": {},
   "outputs": [],
   "source": []
  },
  {
   "cell_type": "code",
   "execution_count": 375,
   "id": "e1aff968-6579-40d4-895a-c7dfa8b5de69",
   "metadata": {},
   "outputs": [],
   "source": [
    "GOC_output_dict = {}\n",
    "\n",
    "months = [f\"{i:02d}\" for i in range(1, 13)]\n",
    "\n",
    "# With this loop we can load several files\n",
    "# 12 files which contain the data for 12 months\n",
    "for month in months:\n",
    "    GOC_output_dict[month] = {}\n",
    "    file_name = 'PUB_GenOutputCapabilityMonth_2021' + str(month) + '.csv'\n",
    "    GOC_df = pd.read_csv(file_name, skiprows=3)\n",
    "    GOC_df = GOC_df[GOC_df['Measurement'] == 'Output']\n",
    "    GOC_output_dict[month] = GOC_df"
   ]
  },
  {
   "cell_type": "markdown",
   "id": "dce93637-d26a-460d-98d2-9ba852f8dc80",
   "metadata": {},
   "source": [
    "## Note\n",
    "\n",
    "It is important to take note of the number of days in each month."
   ]
  },
  {
   "cell_type": "code",
   "execution_count": 378,
   "id": "0b0021b0-7e61-4b45-8807-a983b078437b",
   "metadata": {},
   "outputs": [],
   "source": [
    "days_in_months = [31,28,31,30,31,30,31,31,30,31,30,31]"
   ]
  },
  {
   "cell_type": "markdown",
   "id": "a9754d5b-349a-418d-abf8-f3600b01623a",
   "metadata": {},
   "source": [
    "Now that the data has been loaded, we need to use another loop, go through each day of each month, and each hour of each day, sum up all of the outputs for each hour, and record them as a new variable."
   ]
  },
  {
   "cell_type": "code",
   "execution_count": null,
   "id": "84151819-3ebb-4f1f-9529-e34b1ce86a18",
   "metadata": {},
   "outputs": [],
   "source": []
  },
  {
   "cell_type": "code",
   "execution_count": null,
   "id": "a2115a49-8926-4c21-8e74-3ea04ed7a217",
   "metadata": {},
   "outputs": [],
   "source": [
    "output_dict = {}\n",
    "\n",
    "for day in range(1,32):\n",
    "    day = f\"{day:02d}\"\n",
    "    date = '2021-01-' + str(day)\n",
    "    output_dict[date] = {}\n",
    "    for hour in range(1,25):\n",
    "        hour_f = f\"{hour:02d}\"\n",
    "        column = 'Hour ' + str(hour)\n",
    "        value = pd.to_numeric(GOC_output_2021_01.loc[date][column],errors='coerce').sum()\n",
    "        output_dict[day][hour_f] = value"
   ]
  },
  {
   "cell_type": "markdown",
   "id": "9e5dc377-492d-4f92-87f0-ca16913c28dd",
   "metadata": {},
   "source": [
    "<hr>"
   ]
  },
  {
   "cell_type": "markdown",
   "id": "bae2362c-5595-437e-98cd-8795f2988eee",
   "metadata": {},
   "source": [
    "# Loading the data"
   ]
  },
  {
   "cell_type": "code",
   "execution_count": 404,
   "id": "5663cbaf-c05d-46d4-9b52-0c33a5b201bb",
   "metadata": {},
   "outputs": [],
   "source": [
    "output_df = pd.DataFrame(columns=['Date','Hour','Output'])\n",
    "\n",
    "GOC_output_dict = {}\n",
    "\n",
    "months = [f\"{i:02d}\" for i in range(1, 13)]\n",
    "days_in_months = [31,28,31,30,31,30,31,31,30,31,30,31]\n",
    "\n",
    "for month in months:\n",
    "    GOC_output_dict[month] = {}\n",
    "    file_name = 'PUB_GenOutputCapabilityMonth_2021' + str(month) + '.csv'\n",
    "    GOC_df = pd.read_csv(file_name, skiprows=3)\n",
    "    GOC_df = GOC_df[GOC_df['Measurement'] == 'Output']\n",
    "\n",
    "    # Up to this point, we have the monthly data Loaded\n",
    "    # and we have filtered out Capability, Capacity Available, and forecast\n",
    "    # All rows contain 'output' variable\n",
    "\n",
    "    # this variable holds the number of days in a given month\n",
    "    # for example, 31 for January, 28 for February, etc.\n",
    "    number_of_days = days_in_months[(int(month) - 1)]\n",
    "\n",
    "    # now we need to loop through the days of each month\n",
    "    for day in range(1,number_of_days+1):\n",
    "        day = f\"{day:02d}\"\n",
    "        #month = f\"{month:02d}\"\n",
    "        date = '2021-' + str(month) + '-' + str(day)\n",
    "\n",
    "        # up to this point, everything should work\n",
    "        for hour in range(1,25):\n",
    "            hour_f = f\"{hour:02d}\"\n",
    "            column = 'Hour ' + str(hour)\n",
    "            value = pd.to_numeric(GOC_df.loc[date][column],errors='coerce').sum()\n",
    "\n",
    "            # this line stores the extracted information in a dictionary, to be appended\n",
    "            values_dict ={ 'Date' : date , 'Hour' : hour_f, 'Output' : value}\n",
    "\n",
    "            new_df = pd.DataFrame([values_dict])\n",
    "            output_df = pd.concat( [output_df, new_df] ,ignore_index=True)\n",
    "                \n",
    "        \n",
    "        "
   ]
  },
  {
   "cell_type": "markdown",
   "id": "e91692df-ae8c-4c9a-8fe3-c5168eab7eff",
   "metadata": {},
   "source": [
    "### Sanity checks"
   ]
  },
  {
   "cell_type": "code",
   "execution_count": 419,
   "id": "b46b8168-e28f-467e-8d90-b59eeed514b5",
   "metadata": {},
   "outputs": [
    {
     "data": {
      "text/plain": [
       "(8760, 3)"
      ]
     },
     "execution_count": 419,
     "metadata": {},
     "output_type": "execute_result"
    }
   ],
   "source": [
    "# sanity check\n",
    "output_df.shape"
   ]
  },
  {
   "cell_type": "code",
   "execution_count": 420,
   "id": "750faf60-7f2f-4394-bb45-6646e24ea5cd",
   "metadata": {},
   "outputs": [
    {
     "data": {
      "text/plain": [
       "Index(['Date', 'Hour', 'Output'], dtype='object')"
      ]
     },
     "execution_count": 420,
     "metadata": {},
     "output_type": "execute_result"
    }
   ],
   "source": [
    "# sanity check\n",
    "output_df.columns"
   ]
  },
  {
   "cell_type": "code",
   "execution_count": 433,
   "id": "01cbbf98-b638-4ff2-ab6b-b2f4f43b14e8",
   "metadata": {},
   "outputs": [
    {
     "data": {
      "text/html": [
       "<div>\n",
       "<style scoped>\n",
       "    .dataframe tbody tr th:only-of-type {\n",
       "        vertical-align: middle;\n",
       "    }\n",
       "\n",
       "    .dataframe tbody tr th {\n",
       "        vertical-align: top;\n",
       "    }\n",
       "\n",
       "    .dataframe thead th {\n",
       "        text-align: right;\n",
       "    }\n",
       "</style>\n",
       "<table border=\"1\" class=\"dataframe\">\n",
       "  <thead>\n",
       "    <tr style=\"text-align: right;\">\n",
       "      <th></th>\n",
       "      <th>Date</th>\n",
       "      <th>Hour</th>\n",
       "      <th>Output</th>\n",
       "    </tr>\n",
       "  </thead>\n",
       "  <tbody>\n",
       "    <tr>\n",
       "      <th>0</th>\n",
       "      <td>2021-01-01</td>\n",
       "      <td>01</td>\n",
       "      <td>14301.0</td>\n",
       "    </tr>\n",
       "    <tr>\n",
       "      <th>1</th>\n",
       "      <td>2021-01-01</td>\n",
       "      <td>02</td>\n",
       "      <td>13786.0</td>\n",
       "    </tr>\n",
       "    <tr>\n",
       "      <th>2</th>\n",
       "      <td>2021-01-01</td>\n",
       "      <td>03</td>\n",
       "      <td>13507.0</td>\n",
       "    </tr>\n",
       "    <tr>\n",
       "      <th>3</th>\n",
       "      <td>2021-01-01</td>\n",
       "      <td>04</td>\n",
       "      <td>13505.0</td>\n",
       "    </tr>\n",
       "    <tr>\n",
       "      <th>4</th>\n",
       "      <td>2021-01-01</td>\n",
       "      <td>05</td>\n",
       "      <td>12881.0</td>\n",
       "    </tr>\n",
       "  </tbody>\n",
       "</table>\n",
       "</div>"
      ],
      "text/plain": [
       "         Date Hour   Output\n",
       "0  2021-01-01   01  14301.0\n",
       "1  2021-01-01   02  13786.0\n",
       "2  2021-01-01   03  13507.0\n",
       "3  2021-01-01   04  13505.0\n",
       "4  2021-01-01   05  12881.0"
      ]
     },
     "execution_count": 433,
     "metadata": {},
     "output_type": "execute_result"
    }
   ],
   "source": [
    "output_df.head()"
   ]
  },
  {
   "cell_type": "code",
   "execution_count": 421,
   "id": "d88330ef-9168-4df7-b444-e9345ccc6c6b",
   "metadata": {},
   "outputs": [
    {
     "data": {
      "text/html": [
       "<div>\n",
       "<style scoped>\n",
       "    .dataframe tbody tr th:only-of-type {\n",
       "        vertical-align: middle;\n",
       "    }\n",
       "\n",
       "    .dataframe tbody tr th {\n",
       "        vertical-align: top;\n",
       "    }\n",
       "\n",
       "    .dataframe thead th {\n",
       "        text-align: right;\n",
       "    }\n",
       "</style>\n",
       "<table border=\"1\" class=\"dataframe\">\n",
       "  <thead>\n",
       "    <tr style=\"text-align: right;\">\n",
       "      <th></th>\n",
       "      <th>Output</th>\n",
       "    </tr>\n",
       "  </thead>\n",
       "  <tbody>\n",
       "    <tr>\n",
       "      <th>count</th>\n",
       "      <td>8760.000000</td>\n",
       "    </tr>\n",
       "    <tr>\n",
       "      <th>mean</th>\n",
       "      <td>16196.016210</td>\n",
       "    </tr>\n",
       "    <tr>\n",
       "      <th>std</th>\n",
       "      <td>1911.668516</td>\n",
       "    </tr>\n",
       "    <tr>\n",
       "      <th>min</th>\n",
       "      <td>11771.000000</td>\n",
       "    </tr>\n",
       "    <tr>\n",
       "      <th>25%</th>\n",
       "      <td>14762.750000</td>\n",
       "    </tr>\n",
       "    <tr>\n",
       "      <th>50%</th>\n",
       "      <td>15954.500000</td>\n",
       "    </tr>\n",
       "    <tr>\n",
       "      <th>75%</th>\n",
       "      <td>17384.250000</td>\n",
       "    </tr>\n",
       "    <tr>\n",
       "      <th>max</th>\n",
       "      <td>22507.000000</td>\n",
       "    </tr>\n",
       "  </tbody>\n",
       "</table>\n",
       "</div>"
      ],
      "text/plain": [
       "             Output\n",
       "count   8760.000000\n",
       "mean   16196.016210\n",
       "std     1911.668516\n",
       "min    11771.000000\n",
       "25%    14762.750000\n",
       "50%    15954.500000\n",
       "75%    17384.250000\n",
       "max    22507.000000"
      ]
     },
     "execution_count": 421,
     "metadata": {},
     "output_type": "execute_result"
    }
   ],
   "source": [
    "# sanity check\n",
    "output_df.describe()"
   ]
  },
  {
   "cell_type": "markdown",
   "id": "c9bd401b-14da-406f-97fd-cd597c49bf2b",
   "metadata": {},
   "source": [
    "very cool. So far our progress has been tremendous, and everything seems to be going remarkably smoothly."
   ]
  },
  {
   "cell_type": "markdown",
   "id": "81ad285f-45af-428e-b0cc-768dd7eaf7db",
   "metadata": {},
   "source": [
    "<hr>"
   ]
  },
  {
   "cell_type": "markdown",
   "id": "146d5da1-8156-409d-a473-0afd76f91918",
   "metadata": {},
   "source": [
    "## One Last Thing\n",
    "\n",
    "We should keep the spare capacity in the system, and store it in out final dataframe (the dataframe which will be used later for Exploratory Data Analysis, Hypothesis Testing, Principal Component Analysis, Feature Engineering, and Data Modelling).\n",
    "\n",
    "So, before we end this phase of project, we will repeat the last step except, instead of filtering out \"Capability\", \"Capacity Available\", and \"Forecast\", this time we will keep the \"Capability\" and \"Forecast\". This is important because it allows us to see how can the system respond to demand fluctuations domestically, before the system resorts to importing electricity at an exorbitant cost.\n",
    "\n",
    "So, Let's get going!"
   ]
  },
  {
   "cell_type": "code",
   "execution_count": 448,
   "id": "6044a1d4-ba4b-485b-84cc-c0a415047b51",
   "metadata": {},
   "outputs": [],
   "source": [
    "Cap_df = pd.DataFrame(columns=['Date','Hour','Output'])\n",
    "\n",
    "GOC_Cap_dict = {}\n",
    "\n",
    "months = [f\"{i:02d}\" for i in range(1, 13)]\n",
    "days_in_months = [31,28,31,30,31,30,31,31,30,31,30,31]\n",
    "\n",
    "for month in months:\n",
    "    GOC_Cap_dict[month] = {}\n",
    "    file_name = 'PUB_GenOutputCapabilityMonth_2021' + str(month) + '.csv'\n",
    "    GOC_df = pd.read_csv(file_name, skiprows=3)\n",
    "\n",
    "    # This line needs to be modified\n",
    "    GOC_df = GOC_df[GOC_df['Measurement'].isin(['Forecast','Capability'])]\n",
    "\n",
    "    # Up to this point, we have the monthly data Loaded\n",
    "    # and we have filtered out Capability, Capacity Available, and forecast\n",
    "    # All rows contain 'output' variable\n",
    "\n",
    "    # this variable holds the number of days in a given month\n",
    "    # for example, 31 for January, 28 for February, etc.\n",
    "    number_of_days = days_in_months[(int(month) - 1)]\n",
    "\n",
    "    # now we need to loop through the days of each month\n",
    "    for day in range(1,number_of_days+1):\n",
    "        day = f\"{day:02d}\"\n",
    "        #month = f\"{month:02d}\"\n",
    "        date = '2021-' + str(month) + '-' + str(day)\n",
    "\n",
    "        # up to this point, everything should work\n",
    "        for hour in range(1,25):\n",
    "            hour_f = f\"{hour:02d}\"\n",
    "            column = 'Hour ' + str(hour)\n",
    "            value = pd.to_numeric(GOC_df.loc[date][column],errors='coerce').sum()\n",
    "\n",
    "            # this line stores the extracted information in a dictionary, to be appended\n",
    "            values_dict ={ 'Date' : date , 'Hour' : hour_f, 'capability' : value}\n",
    "\n",
    "            new_df = pd.DataFrame([values_dict])\n",
    "            Cap_df = pd.concat( [Cap_df, new_df] ,ignore_index=True)"
   ]
  },
  {
   "cell_type": "code",
   "execution_count": 426,
   "id": "7434c5d8-33cf-43d9-94d3-9f5920d87f73",
   "metadata": {},
   "outputs": [
    {
     "data": {
      "text/plain": [
       "(8760, 3)"
      ]
     },
     "execution_count": 426,
     "metadata": {},
     "output_type": "execute_result"
    }
   ],
   "source": [
    "# sanity check\n",
    "Cap_df.shape"
   ]
  },
  {
   "cell_type": "code",
   "execution_count": 502,
   "id": "6e78e472-7b69-48f8-a9d6-15e725c5a202",
   "metadata": {},
   "outputs": [
    {
     "data": {
      "text/html": [
       "<div>\n",
       "<style scoped>\n",
       "    .dataframe tbody tr th:only-of-type {\n",
       "        vertical-align: middle;\n",
       "    }\n",
       "\n",
       "    .dataframe tbody tr th {\n",
       "        vertical-align: top;\n",
       "    }\n",
       "\n",
       "    .dataframe thead th {\n",
       "        text-align: right;\n",
       "    }\n",
       "</style>\n",
       "<table border=\"1\" class=\"dataframe\">\n",
       "  <thead>\n",
       "    <tr style=\"text-align: right;\">\n",
       "      <th></th>\n",
       "      <th>Date</th>\n",
       "      <th>Hour</th>\n",
       "      <th>Output</th>\n",
       "      <th>capability</th>\n",
       "    </tr>\n",
       "  </thead>\n",
       "  <tbody>\n",
       "    <tr>\n",
       "      <th>0</th>\n",
       "      <td>2021-01-01</td>\n",
       "      <td>01</td>\n",
       "      <td>NaN</td>\n",
       "      <td>26203.0</td>\n",
       "    </tr>\n",
       "    <tr>\n",
       "      <th>1</th>\n",
       "      <td>2021-01-01</td>\n",
       "      <td>02</td>\n",
       "      <td>NaN</td>\n",
       "      <td>26494.0</td>\n",
       "    </tr>\n",
       "    <tr>\n",
       "      <th>2</th>\n",
       "      <td>2021-01-01</td>\n",
       "      <td>03</td>\n",
       "      <td>NaN</td>\n",
       "      <td>26587.0</td>\n",
       "    </tr>\n",
       "    <tr>\n",
       "      <th>3</th>\n",
       "      <td>2021-01-01</td>\n",
       "      <td>04</td>\n",
       "      <td>NaN</td>\n",
       "      <td>26749.0</td>\n",
       "    </tr>\n",
       "    <tr>\n",
       "      <th>4</th>\n",
       "      <td>2021-01-01</td>\n",
       "      <td>05</td>\n",
       "      <td>NaN</td>\n",
       "      <td>26843.0</td>\n",
       "    </tr>\n",
       "  </tbody>\n",
       "</table>\n",
       "</div>"
      ],
      "text/plain": [
       "         Date Hour Output  capability\n",
       "0  2021-01-01   01    NaN     26203.0\n",
       "1  2021-01-01   02    NaN     26494.0\n",
       "2  2021-01-01   03    NaN     26587.0\n",
       "3  2021-01-01   04    NaN     26749.0\n",
       "4  2021-01-01   05    NaN     26843.0"
      ]
     },
     "execution_count": 502,
     "metadata": {},
     "output_type": "execute_result"
    }
   ],
   "source": [
    "Cap_df.head()"
   ]
  },
  {
   "cell_type": "code",
   "execution_count": 503,
   "id": "fbc68f38-25f0-4bb5-8d0f-5d8d4ed40353",
   "metadata": {},
   "outputs": [
    {
     "data": {
      "text/html": [
       "<div>\n",
       "<style scoped>\n",
       "    .dataframe tbody tr th:only-of-type {\n",
       "        vertical-align: middle;\n",
       "    }\n",
       "\n",
       "    .dataframe tbody tr th {\n",
       "        vertical-align: top;\n",
       "    }\n",
       "\n",
       "    .dataframe thead th {\n",
       "        text-align: right;\n",
       "    }\n",
       "</style>\n",
       "<table border=\"1\" class=\"dataframe\">\n",
       "  <thead>\n",
       "    <tr style=\"text-align: right;\">\n",
       "      <th></th>\n",
       "      <th>capability</th>\n",
       "    </tr>\n",
       "  </thead>\n",
       "  <tbody>\n",
       "    <tr>\n",
       "      <th>count</th>\n",
       "      <td>8760.000000</td>\n",
       "    </tr>\n",
       "    <tr>\n",
       "      <th>mean</th>\n",
       "      <td>27592.664612</td>\n",
       "    </tr>\n",
       "    <tr>\n",
       "      <th>std</th>\n",
       "      <td>1740.463935</td>\n",
       "    </tr>\n",
       "    <tr>\n",
       "      <th>min</th>\n",
       "      <td>22382.000000</td>\n",
       "    </tr>\n",
       "    <tr>\n",
       "      <th>25%</th>\n",
       "      <td>26463.000000</td>\n",
       "    </tr>\n",
       "    <tr>\n",
       "      <th>50%</th>\n",
       "      <td>27702.500000</td>\n",
       "    </tr>\n",
       "    <tr>\n",
       "      <th>75%</th>\n",
       "      <td>28726.000000</td>\n",
       "    </tr>\n",
       "    <tr>\n",
       "      <th>max</th>\n",
       "      <td>32072.000000</td>\n",
       "    </tr>\n",
       "  </tbody>\n",
       "</table>\n",
       "</div>"
      ],
      "text/plain": [
       "         capability\n",
       "count   8760.000000\n",
       "mean   27592.664612\n",
       "std     1740.463935\n",
       "min    22382.000000\n",
       "25%    26463.000000\n",
       "50%    27702.500000\n",
       "75%    28726.000000\n",
       "max    32072.000000"
      ]
     },
     "execution_count": 503,
     "metadata": {},
     "output_type": "execute_result"
    }
   ],
   "source": [
    "Cap_df.describe()"
   ]
  },
  {
   "cell_type": "markdown",
   "id": "54650b51-120b-4202-9483-ff38187dc654",
   "metadata": {},
   "source": [
    "# End of Cleaning and Extraction Operations"
   ]
  },
  {
   "cell_type": "markdown",
   "id": "d4a4eb39-a3ec-4413-bb68-5b740a1e5a9e",
   "metadata": {},
   "source": [
    "We can call this a success. We have extracted all of the data that we needed"
   ]
  },
  {
   "cell_type": "code",
   "execution_count": 430,
   "id": "9e8507f2-63e7-4b91-8760-6a92fd74d003",
   "metadata": {},
   "outputs": [],
   "source": [
    "import numpy as np\n",
    "import matplotlib.pyplot as plt"
   ]
  },
  {
   "cell_type": "code",
   "execution_count": 431,
   "id": "bfc918b7-0b22-4f26-815f-dfa830c0dc38",
   "metadata": {},
   "outputs": [],
   "source": [
    "start_date = '2021-01-20 20:00:00'\n",
    "\n",
    "end_date = \"2021-01-21 20:00:00\""
   ]
  },
  {
   "cell_type": "code",
   "execution_count": 440,
   "id": "c7c6abce-6cc0-43f7-9287-57dea14d1687",
   "metadata": {},
   "outputs": [
    {
     "data": {
      "image/png": "[encoded data removed]",
      "text/plain": [
       "<Figure size 640x480 with 1 Axes>"
      ]
     },
     "metadata": {},
     "output_type": "display_data"
    }
   ],
   "source": [
    "start_index = 0\n",
    "end_index = 24\n",
    "\n",
    "start_date = \"2021-01-01 01:00:00\"\n",
    "end_date = \"2021-01-02 01:00:00\"\n",
    "\n",
    "# Extract the subset of data\n",
    "subset_1 = output_df.loc[start_index:end_index, 'Output']\n",
    "subset_2 = d_2021.loc[start_date:end_date, 'Market Demand']\n",
    "\n",
    "# Reset the index to range [0, 23]\n",
    "subset_1.index = range(25)\n",
    "subset_2.index = range(25)\n",
    "\n",
    "# Plot the subset of data\n",
    "subset_1.plot()\n",
    "subset_2.plot()\n",
    "plt.show()"
   ]
  },
  {
   "cell_type": "markdown",
   "id": "181f4ab9-5dbe-4e8f-a80c-3cfa6e2781e6",
   "metadata": {},
   "source": [
    "Very cool!\n",
    "\n",
    "All that is left is to save \"Price\", \"Demand\", \"Output\", and \"Capability\" in a new DataFrame. We shall call it \"df_ieso_cleaned\" and then save it as a CSV file."
   ]
  },
  {
   "cell_type": "code",
   "execution_count": 441,
   "id": "66687931-2a97-4b2c-9d91-e2bb85806091",
   "metadata": {},
   "outputs": [
    {
     "data": {
      "text/html": [
       "<div>\n",
       "<style scoped>\n",
       "    .dataframe tbody tr th:only-of-type {\n",
       "        vertical-align: middle;\n",
       "    }\n",
       "\n",
       "    .dataframe tbody tr th {\n",
       "        vertical-align: top;\n",
       "    }\n",
       "\n",
       "    .dataframe thead th {\n",
       "        text-align: right;\n",
       "    }\n",
       "</style>\n",
       "<table border=\"1\" class=\"dataframe\">\n",
       "  <thead>\n",
       "    <tr style=\"text-align: right;\">\n",
       "      <th></th>\n",
       "      <th>Market Demand</th>\n",
       "      <th>Ontario Demand</th>\n",
       "    </tr>\n",
       "    <tr>\n",
       "      <th>datetime_data</th>\n",
       "      <th></th>\n",
       "      <th></th>\n",
       "    </tr>\n",
       "  </thead>\n",
       "  <tbody>\n",
       "    <tr>\n",
       "      <th>2021-01-01 01:00:00</th>\n",
       "      <td>16057</td>\n",
       "      <td>14112</td>\n",
       "    </tr>\n",
       "    <tr>\n",
       "      <th>2021-01-01 02:00:00</th>\n",
       "      <td>15516</td>\n",
       "      <td>13504</td>\n",
       "    </tr>\n",
       "    <tr>\n",
       "      <th>2021-01-01 03:00:00</th>\n",
       "      <td>15185</td>\n",
       "      <td>13155</td>\n",
       "    </tr>\n",
       "    <tr>\n",
       "      <th>2021-01-01 04:00:00</th>\n",
       "      <td>14940</td>\n",
       "      <td>12892</td>\n",
       "    </tr>\n",
       "    <tr>\n",
       "      <th>2021-01-01 05:00:00</th>\n",
       "      <td>14802</td>\n",
       "      <td>12798</td>\n",
       "    </tr>\n",
       "  </tbody>\n",
       "</table>\n",
       "</div>"
      ],
      "text/plain": [
       "                     Market Demand  Ontario Demand\n",
       "datetime_data                                     \n",
       "2021-01-01 01:00:00          16057           14112\n",
       "2021-01-01 02:00:00          15516           13504\n",
       "2021-01-01 03:00:00          15185           13155\n",
       "2021-01-01 04:00:00          14940           12892\n",
       "2021-01-01 05:00:00          14802           12798"
      ]
     },
     "execution_count": 441,
     "metadata": {},
     "output_type": "execute_result"
    }
   ],
   "source": [
    "# a quick review\n",
    "d_2021.head()"
   ]
  },
  {
   "cell_type": "code",
   "execution_count": 451,
   "id": "53407fcc-cff6-4d5a-91c9-41f94418242f",
   "metadata": {},
   "outputs": [
    {
     "data": {
      "text/html": [
       "<div>\n",
       "<style scoped>\n",
       "    .dataframe tbody tr th:only-of-type {\n",
       "        vertical-align: middle;\n",
       "    }\n",
       "\n",
       "    .dataframe tbody tr th {\n",
       "        vertical-align: top;\n",
       "    }\n",
       "\n",
       "    .dataframe thead th {\n",
       "        text-align: right;\n",
       "    }\n",
       "</style>\n",
       "<table border=\"1\" class=\"dataframe\">\n",
       "  <thead>\n",
       "    <tr style=\"text-align: right;\">\n",
       "      <th></th>\n",
       "      <th>HOEP</th>\n",
       "    </tr>\n",
       "    <tr>\n",
       "      <th>datetime_data</th>\n",
       "      <th></th>\n",
       "    </tr>\n",
       "  </thead>\n",
       "  <tbody>\n",
       "    <tr>\n",
       "      <th>2021-01-01 01:00:00</th>\n",
       "      <td>31.74</td>\n",
       "    </tr>\n",
       "    <tr>\n",
       "      <th>2021-01-01 02:00:00</th>\n",
       "      <td>17.61</td>\n",
       "    </tr>\n",
       "    <tr>\n",
       "      <th>2021-01-01 03:00:00</th>\n",
       "      <td>14.36</td>\n",
       "    </tr>\n",
       "    <tr>\n",
       "      <th>2021-01-01 04:00:00</th>\n",
       "      <td>10.26</td>\n",
       "    </tr>\n",
       "    <tr>\n",
       "      <th>2021-01-01 05:00:00</th>\n",
       "      <td>6.03</td>\n",
       "    </tr>\n",
       "  </tbody>\n",
       "</table>\n",
       "</div>"
      ],
      "text/plain": [
       "                      HOEP\n",
       "datetime_data             \n",
       "2021-01-01 01:00:00  31.74\n",
       "2021-01-01 02:00:00  17.61\n",
       "2021-01-01 03:00:00  14.36\n",
       "2021-01-01 04:00:00  10.26\n",
       "2021-01-01 05:00:00   6.03"
      ]
     },
     "execution_count": 451,
     "metadata": {},
     "output_type": "execute_result"
    }
   ],
   "source": [
    "# a quick review\n",
    "pr_2021.head()"
   ]
  },
  {
   "cell_type": "code",
   "execution_count": 452,
   "id": "31aa20cd-ea40-4bb2-a46a-1a70dda601c1",
   "metadata": {},
   "outputs": [
    {
     "data": {
      "text/html": [
       "<div>\n",
       "<style scoped>\n",
       "    .dataframe tbody tr th:only-of-type {\n",
       "        vertical-align: middle;\n",
       "    }\n",
       "\n",
       "    .dataframe tbody tr th {\n",
       "        vertical-align: top;\n",
       "    }\n",
       "\n",
       "    .dataframe thead th {\n",
       "        text-align: right;\n",
       "    }\n",
       "</style>\n",
       "<table border=\"1\" class=\"dataframe\">\n",
       "  <thead>\n",
       "    <tr style=\"text-align: right;\">\n",
       "      <th></th>\n",
       "      <th>Date</th>\n",
       "      <th>Hour</th>\n",
       "      <th>Output</th>\n",
       "    </tr>\n",
       "  </thead>\n",
       "  <tbody>\n",
       "    <tr>\n",
       "      <th>0</th>\n",
       "      <td>2021-01-01</td>\n",
       "      <td>01</td>\n",
       "      <td>14301.0</td>\n",
       "    </tr>\n",
       "    <tr>\n",
       "      <th>1</th>\n",
       "      <td>2021-01-01</td>\n",
       "      <td>02</td>\n",
       "      <td>13786.0</td>\n",
       "    </tr>\n",
       "    <tr>\n",
       "      <th>2</th>\n",
       "      <td>2021-01-01</td>\n",
       "      <td>03</td>\n",
       "      <td>13507.0</td>\n",
       "    </tr>\n",
       "    <tr>\n",
       "      <th>3</th>\n",
       "      <td>2021-01-01</td>\n",
       "      <td>04</td>\n",
       "      <td>13505.0</td>\n",
       "    </tr>\n",
       "    <tr>\n",
       "      <th>4</th>\n",
       "      <td>2021-01-01</td>\n",
       "      <td>05</td>\n",
       "      <td>12881.0</td>\n",
       "    </tr>\n",
       "  </tbody>\n",
       "</table>\n",
       "</div>"
      ],
      "text/plain": [
       "         Date Hour   Output\n",
       "0  2021-01-01   01  14301.0\n",
       "1  2021-01-01   02  13786.0\n",
       "2  2021-01-01   03  13507.0\n",
       "3  2021-01-01   04  13505.0\n",
       "4  2021-01-01   05  12881.0"
      ]
     },
     "execution_count": 452,
     "metadata": {},
     "output_type": "execute_result"
    }
   ],
   "source": [
    "# a quick review\n",
    "output_df.head()"
   ]
  },
  {
   "cell_type": "code",
   "execution_count": 459,
   "id": "e7abbb66-2c65-4e6c-b08f-dcf470bb6896",
   "metadata": {},
   "outputs": [
    {
     "data": {
      "text/plain": [
       "(8760, 3)"
      ]
     },
     "execution_count": 459,
     "metadata": {},
     "output_type": "execute_result"
    }
   ],
   "source": [
    "# a quick review\n",
    "output_df.shape"
   ]
  },
  {
   "cell_type": "code",
   "execution_count": 449,
   "id": "7ad66ddf-beab-4c12-a1a0-4a46f75888d6",
   "metadata": {},
   "outputs": [
    {
     "data": {
      "text/html": [
       "<div>\n",
       "<style scoped>\n",
       "    .dataframe tbody tr th:only-of-type {\n",
       "        vertical-align: middle;\n",
       "    }\n",
       "\n",
       "    .dataframe tbody tr th {\n",
       "        vertical-align: top;\n",
       "    }\n",
       "\n",
       "    .dataframe thead th {\n",
       "        text-align: right;\n",
       "    }\n",
       "</style>\n",
       "<table border=\"1\" class=\"dataframe\">\n",
       "  <thead>\n",
       "    <tr style=\"text-align: right;\">\n",
       "      <th></th>\n",
       "      <th>Date</th>\n",
       "      <th>Hour</th>\n",
       "      <th>Output</th>\n",
       "      <th>capability</th>\n",
       "    </tr>\n",
       "  </thead>\n",
       "  <tbody>\n",
       "    <tr>\n",
       "      <th>0</th>\n",
       "      <td>2021-01-01</td>\n",
       "      <td>01</td>\n",
       "      <td>NaN</td>\n",
       "      <td>26203.0</td>\n",
       "    </tr>\n",
       "    <tr>\n",
       "      <th>1</th>\n",
       "      <td>2021-01-01</td>\n",
       "      <td>02</td>\n",
       "      <td>NaN</td>\n",
       "      <td>26494.0</td>\n",
       "    </tr>\n",
       "    <tr>\n",
       "      <th>2</th>\n",
       "      <td>2021-01-01</td>\n",
       "      <td>03</td>\n",
       "      <td>NaN</td>\n",
       "      <td>26587.0</td>\n",
       "    </tr>\n",
       "    <tr>\n",
       "      <th>3</th>\n",
       "      <td>2021-01-01</td>\n",
       "      <td>04</td>\n",
       "      <td>NaN</td>\n",
       "      <td>26749.0</td>\n",
       "    </tr>\n",
       "    <tr>\n",
       "      <th>4</th>\n",
       "      <td>2021-01-01</td>\n",
       "      <td>05</td>\n",
       "      <td>NaN</td>\n",
       "      <td>26843.0</td>\n",
       "    </tr>\n",
       "  </tbody>\n",
       "</table>\n",
       "</div>"
      ],
      "text/plain": [
       "         Date Hour Output  capability\n",
       "0  2021-01-01   01    NaN     26203.0\n",
       "1  2021-01-01   02    NaN     26494.0\n",
       "2  2021-01-01   03    NaN     26587.0\n",
       "3  2021-01-01   04    NaN     26749.0\n",
       "4  2021-01-01   05    NaN     26843.0"
      ]
     },
     "execution_count": 449,
     "metadata": {},
     "output_type": "execute_result"
    }
   ],
   "source": [
    "Cap_df.head()"
   ]
  },
  {
   "cell_type": "code",
   "execution_count": 453,
   "id": "5f1869b9-cd12-4bf7-bc02-093414e8f102",
   "metadata": {},
   "outputs": [
    {
     "data": {
      "text/html": [
       "<div>\n",
       "<style scoped>\n",
       "    .dataframe tbody tr th:only-of-type {\n",
       "        vertical-align: middle;\n",
       "    }\n",
       "\n",
       "    .dataframe tbody tr th {\n",
       "        vertical-align: top;\n",
       "    }\n",
       "\n",
       "    .dataframe thead th {\n",
       "        text-align: right;\n",
       "    }\n",
       "</style>\n",
       "<table border=\"1\" class=\"dataframe\">\n",
       "  <thead>\n",
       "    <tr style=\"text-align: right;\">\n",
       "      <th></th>\n",
       "      <th>capability</th>\n",
       "    </tr>\n",
       "  </thead>\n",
       "  <tbody>\n",
       "    <tr>\n",
       "      <th>count</th>\n",
       "      <td>8760.000000</td>\n",
       "    </tr>\n",
       "    <tr>\n",
       "      <th>mean</th>\n",
       "      <td>27592.664612</td>\n",
       "    </tr>\n",
       "    <tr>\n",
       "      <th>std</th>\n",
       "      <td>1740.463935</td>\n",
       "    </tr>\n",
       "    <tr>\n",
       "      <th>min</th>\n",
       "      <td>22382.000000</td>\n",
       "    </tr>\n",
       "    <tr>\n",
       "      <th>25%</th>\n",
       "      <td>26463.000000</td>\n",
       "    </tr>\n",
       "    <tr>\n",
       "      <th>50%</th>\n",
       "      <td>27702.500000</td>\n",
       "    </tr>\n",
       "    <tr>\n",
       "      <th>75%</th>\n",
       "      <td>28726.000000</td>\n",
       "    </tr>\n",
       "    <tr>\n",
       "      <th>max</th>\n",
       "      <td>32072.000000</td>\n",
       "    </tr>\n",
       "  </tbody>\n",
       "</table>\n",
       "</div>"
      ],
      "text/plain": [
       "         capability\n",
       "count   8760.000000\n",
       "mean   27592.664612\n",
       "std     1740.463935\n",
       "min    22382.000000\n",
       "25%    26463.000000\n",
       "50%    27702.500000\n",
       "75%    28726.000000\n",
       "max    32072.000000"
      ]
     },
     "execution_count": 453,
     "metadata": {},
     "output_type": "execute_result"
    }
   ],
   "source": [
    "# a qick review\n",
    "Cap_df.describe()"
   ]
  },
  {
   "cell_type": "markdown",
   "id": "a90f96e0-8b2b-47fe-96aa-337475390e04",
   "metadata": {},
   "source": [
    "it all checks out! We are ready for the final step :-)"
   ]
  },
  {
   "cell_type": "code",
   "execution_count": 489,
   "id": "90ca530c-a921-4f44-89f9-824eaa089889",
   "metadata": {},
   "outputs": [],
   "source": [
    "# we shall create a new df\n",
    "df_ieso_cleaned = pd.DataFrame()"
   ]
  },
  {
   "cell_type": "markdown",
   "id": "b4ea5aec-bc4c-4cc9-ab87-5a1ac6a186f6",
   "metadata": {},
   "source": [
    "### Concatenation process"
   ]
  },
  {
   "cell_type": "code",
   "execution_count": 490,
   "id": "40226a67-fe36-4803-838a-bb118b9e614e",
   "metadata": {},
   "outputs": [],
   "source": [
    "df_ieso_cleaned = pd.concat([d_2021,pr_2021['HOEP']],axis=1)"
   ]
  },
  {
   "cell_type": "code",
   "execution_count": 492,
   "id": "e7590fa5-7640-4587-bbd8-8fbf0995a00e",
   "metadata": {},
   "outputs": [
    {
     "data": {
      "text/html": [
       "<div>\n",
       "<style scoped>\n",
       "    .dataframe tbody tr th:only-of-type {\n",
       "        vertical-align: middle;\n",
       "    }\n",
       "\n",
       "    .dataframe tbody tr th {\n",
       "        vertical-align: top;\n",
       "    }\n",
       "\n",
       "    .dataframe thead th {\n",
       "        text-align: right;\n",
       "    }\n",
       "</style>\n",
       "<table border=\"1\" class=\"dataframe\">\n",
       "  <thead>\n",
       "    <tr style=\"text-align: right;\">\n",
       "      <th></th>\n",
       "      <th>Market Demand</th>\n",
       "      <th>Ontario Demand</th>\n",
       "      <th>HOEP</th>\n",
       "    </tr>\n",
       "    <tr>\n",
       "      <th>datetime_data</th>\n",
       "      <th></th>\n",
       "      <th></th>\n",
       "      <th></th>\n",
       "    </tr>\n",
       "  </thead>\n",
       "  <tbody>\n",
       "    <tr>\n",
       "      <th>2021-01-01 01:00:00</th>\n",
       "      <td>16057</td>\n",
       "      <td>14112</td>\n",
       "      <td>31.74</td>\n",
       "    </tr>\n",
       "    <tr>\n",
       "      <th>2021-01-01 02:00:00</th>\n",
       "      <td>15516</td>\n",
       "      <td>13504</td>\n",
       "      <td>17.61</td>\n",
       "    </tr>\n",
       "    <tr>\n",
       "      <th>2021-01-01 03:00:00</th>\n",
       "      <td>15185</td>\n",
       "      <td>13155</td>\n",
       "      <td>14.36</td>\n",
       "    </tr>\n",
       "    <tr>\n",
       "      <th>2021-01-01 04:00:00</th>\n",
       "      <td>14940</td>\n",
       "      <td>12892</td>\n",
       "      <td>10.26</td>\n",
       "    </tr>\n",
       "    <tr>\n",
       "      <th>2021-01-01 05:00:00</th>\n",
       "      <td>14802</td>\n",
       "      <td>12798</td>\n",
       "      <td>6.03</td>\n",
       "    </tr>\n",
       "  </tbody>\n",
       "</table>\n",
       "</div>"
      ],
      "text/plain": [
       "                     Market Demand  Ontario Demand   HOEP\n",
       "datetime_data                                            \n",
       "2021-01-01 01:00:00          16057           14112  31.74\n",
       "2021-01-01 02:00:00          15516           13504  17.61\n",
       "2021-01-01 03:00:00          15185           13155  14.36\n",
       "2021-01-01 04:00:00          14940           12892  10.26\n",
       "2021-01-01 05:00:00          14802           12798   6.03"
      ]
     },
     "execution_count": 492,
     "metadata": {},
     "output_type": "execute_result"
    }
   ],
   "source": [
    "# sanity check\n",
    "df_ieso_cleaned.head()"
   ]
  },
  {
   "cell_type": "code",
   "execution_count": 493,
   "id": "a737f8ba-eab5-4b04-8c63-8aafc02352cc",
   "metadata": {},
   "outputs": [
    {
     "data": {
      "text/plain": [
       "(8760, 3)"
      ]
     },
     "execution_count": 493,
     "metadata": {},
     "output_type": "execute_result"
    }
   ],
   "source": [
    "# sanity check\n",
    "df_ieso_cleaned.shape"
   ]
  },
  {
   "cell_type": "code",
   "execution_count": 494,
   "id": "54549434-644a-4dd6-8d96-549326c22f06",
   "metadata": {},
   "outputs": [
    {
     "data": {
      "text/html": [
       "<div>\n",
       "<style scoped>\n",
       "    .dataframe tbody tr th:only-of-type {\n",
       "        vertical-align: middle;\n",
       "    }\n",
       "\n",
       "    .dataframe tbody tr th {\n",
       "        vertical-align: top;\n",
       "    }\n",
       "\n",
       "    .dataframe thead th {\n",
       "        text-align: right;\n",
       "    }\n",
       "</style>\n",
       "<table border=\"1\" class=\"dataframe\">\n",
       "  <thead>\n",
       "    <tr style=\"text-align: right;\">\n",
       "      <th></th>\n",
       "      <th>Market Demand</th>\n",
       "      <th>Ontario Demand</th>\n",
       "      <th>HOEP</th>\n",
       "    </tr>\n",
       "  </thead>\n",
       "  <tbody>\n",
       "    <tr>\n",
       "      <th>count</th>\n",
       "      <td>8760.000000</td>\n",
       "      <td>8760.000000</td>\n",
       "      <td>8760.000000</td>\n",
       "    </tr>\n",
       "    <tr>\n",
       "      <th>mean</th>\n",
       "      <td>17192.678082</td>\n",
       "      <td>15279.019406</td>\n",
       "      <td>26.747627</td>\n",
       "    </tr>\n",
       "    <tr>\n",
       "      <th>std</th>\n",
       "      <td>2200.862573</td>\n",
       "      <td>2303.635847</td>\n",
       "      <td>31.228770</td>\n",
       "    </tr>\n",
       "    <tr>\n",
       "      <th>min</th>\n",
       "      <td>12569.000000</td>\n",
       "      <td>10426.000000</td>\n",
       "      <td>-3.940000</td>\n",
       "    </tr>\n",
       "    <tr>\n",
       "      <th>25%</th>\n",
       "      <td>15542.000000</td>\n",
       "      <td>13592.750000</td>\n",
       "      <td>10.950000</td>\n",
       "    </tr>\n",
       "    <tr>\n",
       "      <th>50%</th>\n",
       "      <td>16936.000000</td>\n",
       "      <td>15116.000000</td>\n",
       "      <td>24.050000</td>\n",
       "    </tr>\n",
       "    <tr>\n",
       "      <th>75%</th>\n",
       "      <td>18657.500000</td>\n",
       "      <td>16780.250000</td>\n",
       "      <td>38.670000</td>\n",
       "    </tr>\n",
       "    <tr>\n",
       "      <th>max</th>\n",
       "      <td>24609.000000</td>\n",
       "      <td>22986.000000</td>\n",
       "      <td>1660.800000</td>\n",
       "    </tr>\n",
       "  </tbody>\n",
       "</table>\n",
       "</div>"
      ],
      "text/plain": [
       "       Market Demand  Ontario Demand         HOEP\n",
       "count    8760.000000     8760.000000  8760.000000\n",
       "mean    17192.678082    15279.019406    26.747627\n",
       "std      2200.862573     2303.635847    31.228770\n",
       "min     12569.000000    10426.000000    -3.940000\n",
       "25%     15542.000000    13592.750000    10.950000\n",
       "50%     16936.000000    15116.000000    24.050000\n",
       "75%     18657.500000    16780.250000    38.670000\n",
       "max     24609.000000    22986.000000  1660.800000"
      ]
     },
     "execution_count": 494,
     "metadata": {},
     "output_type": "execute_result"
    }
   ],
   "source": [
    "df_ieso_cleaned.describe()"
   ]
  },
  {
   "cell_type": "code",
   "execution_count": 495,
   "id": "84269a6c-56f5-4d20-8886-f00f11bf2dca",
   "metadata": {},
   "outputs": [],
   "source": [
    "df_ieso_cleaned['Date Time'] = df_ieso_cleaned.index\n",
    "\n",
    "df_ieso_cleaned.reset_index(drop=True, inplace=True)"
   ]
  },
  {
   "cell_type": "code",
   "execution_count": 496,
   "id": "36f128b3-5282-47c4-be96-d02d1f081c52",
   "metadata": {},
   "outputs": [
    {
     "data": {
      "text/html": [
       "<div>\n",
       "<style scoped>\n",
       "    .dataframe tbody tr th:only-of-type {\n",
       "        vertical-align: middle;\n",
       "    }\n",
       "\n",
       "    .dataframe tbody tr th {\n",
       "        vertical-align: top;\n",
       "    }\n",
       "\n",
       "    .dataframe thead th {\n",
       "        text-align: right;\n",
       "    }\n",
       "</style>\n",
       "<table border=\"1\" class=\"dataframe\">\n",
       "  <thead>\n",
       "    <tr style=\"text-align: right;\">\n",
       "      <th></th>\n",
       "      <th>Market Demand</th>\n",
       "      <th>Ontario Demand</th>\n",
       "      <th>HOEP</th>\n",
       "      <th>Date Time</th>\n",
       "    </tr>\n",
       "  </thead>\n",
       "  <tbody>\n",
       "    <tr>\n",
       "      <th>0</th>\n",
       "      <td>16057</td>\n",
       "      <td>14112</td>\n",
       "      <td>31.74</td>\n",
       "      <td>2021-01-01 01:00:00</td>\n",
       "    </tr>\n",
       "    <tr>\n",
       "      <th>1</th>\n",
       "      <td>15516</td>\n",
       "      <td>13504</td>\n",
       "      <td>17.61</td>\n",
       "      <td>2021-01-01 02:00:00</td>\n",
       "    </tr>\n",
       "    <tr>\n",
       "      <th>2</th>\n",
       "      <td>15185</td>\n",
       "      <td>13155</td>\n",
       "      <td>14.36</td>\n",
       "      <td>2021-01-01 03:00:00</td>\n",
       "    </tr>\n",
       "    <tr>\n",
       "      <th>3</th>\n",
       "      <td>14940</td>\n",
       "      <td>12892</td>\n",
       "      <td>10.26</td>\n",
       "      <td>2021-01-01 04:00:00</td>\n",
       "    </tr>\n",
       "    <tr>\n",
       "      <th>4</th>\n",
       "      <td>14802</td>\n",
       "      <td>12798</td>\n",
       "      <td>6.03</td>\n",
       "      <td>2021-01-01 05:00:00</td>\n",
       "    </tr>\n",
       "  </tbody>\n",
       "</table>\n",
       "</div>"
      ],
      "text/plain": [
       "   Market Demand  Ontario Demand   HOEP           Date Time\n",
       "0          16057           14112  31.74 2021-01-01 01:00:00\n",
       "1          15516           13504  17.61 2021-01-01 02:00:00\n",
       "2          15185           13155  14.36 2021-01-01 03:00:00\n",
       "3          14940           12892  10.26 2021-01-01 04:00:00\n",
       "4          14802           12798   6.03 2021-01-01 05:00:00"
      ]
     },
     "execution_count": 496,
     "metadata": {},
     "output_type": "execute_result"
    }
   ],
   "source": [
    "df_ieso_cleaned.head()"
   ]
  },
  {
   "cell_type": "markdown",
   "id": "c2b30662-e51a-4585-a7b4-b2485e792625",
   "metadata": {},
   "source": [
    "Very cool. Now let'schange the order in which these columns appear."
   ]
  },
  {
   "cell_type": "code",
   "execution_count": 497,
   "id": "c7d1a608-b98e-41a7-a6c3-7206fd0cdf27",
   "metadata": {},
   "outputs": [],
   "source": [
    "# Reorder the columns\n",
    "df_ieso_cleaned = df_ieso_cleaned[['Date Time'] + [col for col in df_ieso_cleaned.columns if col != 'Date Time']]"
   ]
  },
  {
   "cell_type": "code",
   "execution_count": 498,
   "id": "71e77778-c4b3-431f-b8a3-0582a2079be1",
   "metadata": {},
   "outputs": [
    {
     "data": {
      "text/html": [
       "<div>\n",
       "<style scoped>\n",
       "    .dataframe tbody tr th:only-of-type {\n",
       "        vertical-align: middle;\n",
       "    }\n",
       "\n",
       "    .dataframe tbody tr th {\n",
       "        vertical-align: top;\n",
       "    }\n",
       "\n",
       "    .dataframe thead th {\n",
       "        text-align: right;\n",
       "    }\n",
       "</style>\n",
       "<table border=\"1\" class=\"dataframe\">\n",
       "  <thead>\n",
       "    <tr style=\"text-align: right;\">\n",
       "      <th></th>\n",
       "      <th>Date Time</th>\n",
       "      <th>Market Demand</th>\n",
       "      <th>Ontario Demand</th>\n",
       "      <th>HOEP</th>\n",
       "    </tr>\n",
       "  </thead>\n",
       "  <tbody>\n",
       "    <tr>\n",
       "      <th>0</th>\n",
       "      <td>2021-01-01 01:00:00</td>\n",
       "      <td>16057</td>\n",
       "      <td>14112</td>\n",
       "      <td>31.74</td>\n",
       "    </tr>\n",
       "    <tr>\n",
       "      <th>1</th>\n",
       "      <td>2021-01-01 02:00:00</td>\n",
       "      <td>15516</td>\n",
       "      <td>13504</td>\n",
       "      <td>17.61</td>\n",
       "    </tr>\n",
       "    <tr>\n",
       "      <th>2</th>\n",
       "      <td>2021-01-01 03:00:00</td>\n",
       "      <td>15185</td>\n",
       "      <td>13155</td>\n",
       "      <td>14.36</td>\n",
       "    </tr>\n",
       "    <tr>\n",
       "      <th>3</th>\n",
       "      <td>2021-01-01 04:00:00</td>\n",
       "      <td>14940</td>\n",
       "      <td>12892</td>\n",
       "      <td>10.26</td>\n",
       "    </tr>\n",
       "    <tr>\n",
       "      <th>4</th>\n",
       "      <td>2021-01-01 05:00:00</td>\n",
       "      <td>14802</td>\n",
       "      <td>12798</td>\n",
       "      <td>6.03</td>\n",
       "    </tr>\n",
       "  </tbody>\n",
       "</table>\n",
       "</div>"
      ],
      "text/plain": [
       "            Date Time  Market Demand  Ontario Demand   HOEP\n",
       "0 2021-01-01 01:00:00          16057           14112  31.74\n",
       "1 2021-01-01 02:00:00          15516           13504  17.61\n",
       "2 2021-01-01 03:00:00          15185           13155  14.36\n",
       "3 2021-01-01 04:00:00          14940           12892  10.26\n",
       "4 2021-01-01 05:00:00          14802           12798   6.03"
      ]
     },
     "execution_count": 498,
     "metadata": {},
     "output_type": "execute_result"
    }
   ],
   "source": [
    "df_ieso_cleaned.head()"
   ]
  },
  {
   "cell_type": "markdown",
   "id": "2c685e47-f9df-4134-a2fd-8aab25781e26",
   "metadata": {},
   "source": [
    "All is well."
   ]
  },
  {
   "cell_type": "code",
   "execution_count": 499,
   "id": "d1e466b5-c21e-4985-9393-0df7ea4a8c0e",
   "metadata": {},
   "outputs": [],
   "source": [
    "df_ieso_cleaned = pd.concat([df_ieso_cleaned, output_df['Output']],axis=1)"
   ]
  },
  {
   "cell_type": "code",
   "execution_count": 500,
   "id": "e49950a9-c4d0-4fe5-94aa-d3850d7a4ef4",
   "metadata": {},
   "outputs": [
    {
     "data": {
      "text/html": [
       "<div>\n",
       "<style scoped>\n",
       "    .dataframe tbody tr th:only-of-type {\n",
       "        vertical-align: middle;\n",
       "    }\n",
       "\n",
       "    .dataframe tbody tr th {\n",
       "        vertical-align: top;\n",
       "    }\n",
       "\n",
       "    .dataframe thead th {\n",
       "        text-align: right;\n",
       "    }\n",
       "</style>\n",
       "<table border=\"1\" class=\"dataframe\">\n",
       "  <thead>\n",
       "    <tr style=\"text-align: right;\">\n",
       "      <th></th>\n",
       "      <th>Date Time</th>\n",
       "      <th>Market Demand</th>\n",
       "      <th>Ontario Demand</th>\n",
       "      <th>HOEP</th>\n",
       "      <th>Output</th>\n",
       "    </tr>\n",
       "  </thead>\n",
       "  <tbody>\n",
       "    <tr>\n",
       "      <th>0</th>\n",
       "      <td>2021-01-01 01:00:00</td>\n",
       "      <td>16057</td>\n",
       "      <td>14112</td>\n",
       "      <td>31.74</td>\n",
       "      <td>14301.0</td>\n",
       "    </tr>\n",
       "    <tr>\n",
       "      <th>1</th>\n",
       "      <td>2021-01-01 02:00:00</td>\n",
       "      <td>15516</td>\n",
       "      <td>13504</td>\n",
       "      <td>17.61</td>\n",
       "      <td>13786.0</td>\n",
       "    </tr>\n",
       "    <tr>\n",
       "      <th>2</th>\n",
       "      <td>2021-01-01 03:00:00</td>\n",
       "      <td>15185</td>\n",
       "      <td>13155</td>\n",
       "      <td>14.36</td>\n",
       "      <td>13507.0</td>\n",
       "    </tr>\n",
       "    <tr>\n",
       "      <th>3</th>\n",
       "      <td>2021-01-01 04:00:00</td>\n",
       "      <td>14940</td>\n",
       "      <td>12892</td>\n",
       "      <td>10.26</td>\n",
       "      <td>13505.0</td>\n",
       "    </tr>\n",
       "    <tr>\n",
       "      <th>4</th>\n",
       "      <td>2021-01-01 05:00:00</td>\n",
       "      <td>14802</td>\n",
       "      <td>12798</td>\n",
       "      <td>6.03</td>\n",
       "      <td>12881.0</td>\n",
       "    </tr>\n",
       "  </tbody>\n",
       "</table>\n",
       "</div>"
      ],
      "text/plain": [
       "            Date Time  Market Demand  Ontario Demand   HOEP   Output\n",
       "0 2021-01-01 01:00:00          16057           14112  31.74  14301.0\n",
       "1 2021-01-01 02:00:00          15516           13504  17.61  13786.0\n",
       "2 2021-01-01 03:00:00          15185           13155  14.36  13507.0\n",
       "3 2021-01-01 04:00:00          14940           12892  10.26  13505.0\n",
       "4 2021-01-01 05:00:00          14802           12798   6.03  12881.0"
      ]
     },
     "execution_count": 500,
     "metadata": {},
     "output_type": "execute_result"
    }
   ],
   "source": [
    "df_ieso_cleaned.head()"
   ]
  },
  {
   "cell_type": "code",
   "execution_count": 501,
   "id": "ea304179-7834-4ca5-82fa-ca6f7f7dd01f",
   "metadata": {},
   "outputs": [
    {
     "data": {
      "text/plain": [
       "(8760, 5)"
      ]
     },
     "execution_count": 501,
     "metadata": {},
     "output_type": "execute_result"
    }
   ],
   "source": [
    "df_ieso_cleaned.shape"
   ]
  },
  {
   "cell_type": "code",
   "execution_count": 504,
   "id": "863c8ffe-b32d-47ab-b7bd-8bd2082293ab",
   "metadata": {},
   "outputs": [
    {
     "data": {
      "text/plain": [
       "Index(['Date', 'Hour', 'Output', 'capability'], dtype='object')"
      ]
     },
     "execution_count": 504,
     "metadata": {},
     "output_type": "execute_result"
    }
   ],
   "source": [
    "Cap_df.columns"
   ]
  },
  {
   "cell_type": "code",
   "execution_count": 505,
   "id": "6e0413a7-66de-43c3-b53f-6984086eec3b",
   "metadata": {},
   "outputs": [],
   "source": [
    "df_ieso_cleaned = pd.concat([df_ieso_cleaned,Cap_df['capability']],axis=1)"
   ]
  },
  {
   "cell_type": "code",
   "execution_count": 506,
   "id": "92090450-4710-42d5-847a-2e9c75889fb8",
   "metadata": {},
   "outputs": [
    {
     "data": {
      "text/html": [
       "<div>\n",
       "<style scoped>\n",
       "    .dataframe tbody tr th:only-of-type {\n",
       "        vertical-align: middle;\n",
       "    }\n",
       "\n",
       "    .dataframe tbody tr th {\n",
       "        vertical-align: top;\n",
       "    }\n",
       "\n",
       "    .dataframe thead th {\n",
       "        text-align: right;\n",
       "    }\n",
       "</style>\n",
       "<table border=\"1\" class=\"dataframe\">\n",
       "  <thead>\n",
       "    <tr style=\"text-align: right;\">\n",
       "      <th></th>\n",
       "      <th>Date Time</th>\n",
       "      <th>Market Demand</th>\n",
       "      <th>Ontario Demand</th>\n",
       "      <th>HOEP</th>\n",
       "      <th>Output</th>\n",
       "      <th>capability</th>\n",
       "    </tr>\n",
       "  </thead>\n",
       "  <tbody>\n",
       "    <tr>\n",
       "      <th>0</th>\n",
       "      <td>2021-01-01 01:00:00</td>\n",
       "      <td>16057</td>\n",
       "      <td>14112</td>\n",
       "      <td>31.74</td>\n",
       "      <td>14301.0</td>\n",
       "      <td>26203.0</td>\n",
       "    </tr>\n",
       "    <tr>\n",
       "      <th>1</th>\n",
       "      <td>2021-01-01 02:00:00</td>\n",
       "      <td>15516</td>\n",
       "      <td>13504</td>\n",
       "      <td>17.61</td>\n",
       "      <td>13786.0</td>\n",
       "      <td>26494.0</td>\n",
       "    </tr>\n",
       "    <tr>\n",
       "      <th>2</th>\n",
       "      <td>2021-01-01 03:00:00</td>\n",
       "      <td>15185</td>\n",
       "      <td>13155</td>\n",
       "      <td>14.36</td>\n",
       "      <td>13507.0</td>\n",
       "      <td>26587.0</td>\n",
       "    </tr>\n",
       "    <tr>\n",
       "      <th>3</th>\n",
       "      <td>2021-01-01 04:00:00</td>\n",
       "      <td>14940</td>\n",
       "      <td>12892</td>\n",
       "      <td>10.26</td>\n",
       "      <td>13505.0</td>\n",
       "      <td>26749.0</td>\n",
       "    </tr>\n",
       "    <tr>\n",
       "      <th>4</th>\n",
       "      <td>2021-01-01 05:00:00</td>\n",
       "      <td>14802</td>\n",
       "      <td>12798</td>\n",
       "      <td>6.03</td>\n",
       "      <td>12881.0</td>\n",
       "      <td>26843.0</td>\n",
       "    </tr>\n",
       "  </tbody>\n",
       "</table>\n",
       "</div>"
      ],
      "text/plain": [
       "            Date Time  Market Demand  Ontario Demand   HOEP   Output  \\\n",
       "0 2021-01-01 01:00:00          16057           14112  31.74  14301.0   \n",
       "1 2021-01-01 02:00:00          15516           13504  17.61  13786.0   \n",
       "2 2021-01-01 03:00:00          15185           13155  14.36  13507.0   \n",
       "3 2021-01-01 04:00:00          14940           12892  10.26  13505.0   \n",
       "4 2021-01-01 05:00:00          14802           12798   6.03  12881.0   \n",
       "\n",
       "   capability  \n",
       "0     26203.0  \n",
       "1     26494.0  \n",
       "2     26587.0  \n",
       "3     26749.0  \n",
       "4     26843.0  "
      ]
     },
     "execution_count": 506,
     "metadata": {},
     "output_type": "execute_result"
    }
   ],
   "source": [
    "# sanity check \n",
    "df_ieso_cleaned.head()"
   ]
  },
  {
   "cell_type": "code",
   "execution_count": 507,
   "id": "f780bb84-8618-49a0-9217-53ee549263ac",
   "metadata": {},
   "outputs": [
    {
     "data": {
      "text/html": [
       "<div>\n",
       "<style scoped>\n",
       "    .dataframe tbody tr th:only-of-type {\n",
       "        vertical-align: middle;\n",
       "    }\n",
       "\n",
       "    .dataframe tbody tr th {\n",
       "        vertical-align: top;\n",
       "    }\n",
       "\n",
       "    .dataframe thead th {\n",
       "        text-align: right;\n",
       "    }\n",
       "</style>\n",
       "<table border=\"1\" class=\"dataframe\">\n",
       "  <thead>\n",
       "    <tr style=\"text-align: right;\">\n",
       "      <th></th>\n",
       "      <th>Date Time</th>\n",
       "      <th>Market Demand</th>\n",
       "      <th>Ontario Demand</th>\n",
       "      <th>HOEP</th>\n",
       "      <th>Output</th>\n",
       "      <th>capability</th>\n",
       "    </tr>\n",
       "  </thead>\n",
       "  <tbody>\n",
       "    <tr>\n",
       "      <th>count</th>\n",
       "      <td>8760</td>\n",
       "      <td>8760.000000</td>\n",
       "      <td>8760.000000</td>\n",
       "      <td>8760.000000</td>\n",
       "      <td>8760.000000</td>\n",
       "      <td>8760.000000</td>\n",
       "    </tr>\n",
       "    <tr>\n",
       "      <th>mean</th>\n",
       "      <td>2021-07-02 11:30:00</td>\n",
       "      <td>17192.678082</td>\n",
       "      <td>15279.019406</td>\n",
       "      <td>26.747627</td>\n",
       "      <td>16196.016210</td>\n",
       "      <td>27592.664612</td>\n",
       "    </tr>\n",
       "    <tr>\n",
       "      <th>min</th>\n",
       "      <td>2021-01-01 00:00:00</td>\n",
       "      <td>12569.000000</td>\n",
       "      <td>10426.000000</td>\n",
       "      <td>-3.940000</td>\n",
       "      <td>11771.000000</td>\n",
       "      <td>22382.000000</td>\n",
       "    </tr>\n",
       "    <tr>\n",
       "      <th>25%</th>\n",
       "      <td>2021-04-02 05:45:00</td>\n",
       "      <td>15542.000000</td>\n",
       "      <td>13592.750000</td>\n",
       "      <td>10.950000</td>\n",
       "      <td>14762.750000</td>\n",
       "      <td>26463.000000</td>\n",
       "    </tr>\n",
       "    <tr>\n",
       "      <th>50%</th>\n",
       "      <td>2021-07-02 11:30:00</td>\n",
       "      <td>16936.000000</td>\n",
       "      <td>15116.000000</td>\n",
       "      <td>24.050000</td>\n",
       "      <td>15954.500000</td>\n",
       "      <td>27702.500000</td>\n",
       "    </tr>\n",
       "    <tr>\n",
       "      <th>75%</th>\n",
       "      <td>2021-10-01 17:15:00</td>\n",
       "      <td>18657.500000</td>\n",
       "      <td>16780.250000</td>\n",
       "      <td>38.670000</td>\n",
       "      <td>17384.250000</td>\n",
       "      <td>28726.000000</td>\n",
       "    </tr>\n",
       "    <tr>\n",
       "      <th>max</th>\n",
       "      <td>2021-12-31 23:00:00</td>\n",
       "      <td>24609.000000</td>\n",
       "      <td>22986.000000</td>\n",
       "      <td>1660.800000</td>\n",
       "      <td>22507.000000</td>\n",
       "      <td>32072.000000</td>\n",
       "    </tr>\n",
       "    <tr>\n",
       "      <th>std</th>\n",
       "      <td>NaN</td>\n",
       "      <td>2200.862573</td>\n",
       "      <td>2303.635847</td>\n",
       "      <td>31.228770</td>\n",
       "      <td>1911.668516</td>\n",
       "      <td>1740.463935</td>\n",
       "    </tr>\n",
       "  </tbody>\n",
       "</table>\n",
       "</div>"
      ],
      "text/plain": [
       "                 Date Time  Market Demand  Ontario Demand         HOEP  \\\n",
       "count                 8760    8760.000000     8760.000000  8760.000000   \n",
       "mean   2021-07-02 11:30:00   17192.678082    15279.019406    26.747627   \n",
       "min    2021-01-01 00:00:00   12569.000000    10426.000000    -3.940000   \n",
       "25%    2021-04-02 05:45:00   15542.000000    13592.750000    10.950000   \n",
       "50%    2021-07-02 11:30:00   16936.000000    15116.000000    24.050000   \n",
       "75%    2021-10-01 17:15:00   18657.500000    16780.250000    38.670000   \n",
       "max    2021-12-31 23:00:00   24609.000000    22986.000000  1660.800000   \n",
       "std                    NaN    2200.862573     2303.635847    31.228770   \n",
       "\n",
       "             Output    capability  \n",
       "count   8760.000000   8760.000000  \n",
       "mean   16196.016210  27592.664612  \n",
       "min    11771.000000  22382.000000  \n",
       "25%    14762.750000  26463.000000  \n",
       "50%    15954.500000  27702.500000  \n",
       "75%    17384.250000  28726.000000  \n",
       "max    22507.000000  32072.000000  \n",
       "std     1911.668516   1740.463935  "
      ]
     },
     "execution_count": 507,
     "metadata": {},
     "output_type": "execute_result"
    }
   ],
   "source": [
    "df_ieso_cleaned.describe()"
   ]
  },
  {
   "cell_type": "code",
   "execution_count": 508,
   "id": "3bd78150-11a2-4d3e-9e07-e1d1494c1dc5",
   "metadata": {},
   "outputs": [
    {
     "data": {
      "text/plain": [
       "Date Time         datetime64[ns]\n",
       "Market Demand              int64\n",
       "Ontario Demand             int64\n",
       "HOEP                     float64\n",
       "Output                   float64\n",
       "capability               float64\n",
       "dtype: object"
      ]
     },
     "execution_count": 508,
     "metadata": {},
     "output_type": "execute_result"
    }
   ],
   "source": [
    "df_ieso_cleaned.dtypes"
   ]
  },
  {
   "cell_type": "markdown",
   "id": "fa24ed6c-4fec-4d45-815d-c2bd65e3471b",
   "metadata": {},
   "source": [
    "I am delighted to announce that things have gone very well. And we have concluded our data cleaning.\n",
    "\n",
    "Last but not least, we should save this dataframe as a CSV file, before we proceed to the next steps: Exploratory Data Analysis, Hypothesis formation, Hypothesis Testing, Principal Component Analysis, and Data Modelling."
   ]
  },
  {
   "cell_type": "code",
   "execution_count": 509,
   "id": "85af05c6-f50f-49f0-bce9-16007db4432e",
   "metadata": {},
   "outputs": [],
   "source": [
    "df_ieso_cleaned.to_csv('df_ieso_cleaned_2021.csv')"
   ]
  },
  {
   "cell_type": "markdown",
   "id": "81863646-d0a5-4c89-8aaa-41b74ec48216",
   "metadata": {},
   "source": [
    "Call it good ;-)"
   ]
  },
  {
   "cell_type": "code",
   "execution_count": null,
   "id": "558d15a3-7121-4c3b-a374-1523de6bdc13",
   "metadata": {},
   "outputs": [],
   "source": []
  },
  {
   "cell_type": "code",
   "execution_count": null,
   "id": "49de46c4-7f56-483b-a0b6-d2f991070792",
   "metadata": {},
   "outputs": [],
   "source": []
  },
  {
   "cell_type": "code",
   "execution_count": null,
   "id": "4bf266e8-29e6-459e-a12f-b1143d61d33e",
   "metadata": {},
   "outputs": [],
   "source": []
  },
  {
   "cell_type": "code",
   "execution_count": null,
   "id": "04575a6d-691c-4277-b29f-676882073ad5",
   "metadata": {},
   "outputs": [],
   "source": []
  },
  {
   "cell_type": "code",
   "execution_count": null,
   "id": "f0623540-7525-476e-a4ba-de742b74d85d",
   "metadata": {},
   "outputs": [],
   "source": []
  },
  {
   "cell_type": "code",
   "execution_count": null,
   "id": "4c3c1c43-1cf4-4e96-847f-024e370370c3",
   "metadata": {},
   "outputs": [],
   "source": []
  },
  {
   "cell_type": "markdown",
   "id": "6c678863-b33d-4f37-81fd-506e3e5bae82",
   "metadata": {},
   "source": [
    "# This point downward is not to be included!"
   ]
  },
  {
   "cell_type": "code",
   "execution_count": 422,
   "id": "88075c26-354b-4fec-8237-8b23b2c3da59",
   "metadata": {},
   "outputs": [],
   "source": [
    "GOC_2021_02 = pd.read_csv('PUB_GenOutputCapabilityMonth_202102.csv',skiprows=3)"
   ]
  },
  {
   "cell_type": "code",
   "execution_count": 423,
   "id": "bb9bcedf-ebb2-4032-a0e2-6671303df0ff",
   "metadata": {},
   "outputs": [
    {
     "data": {
      "text/plain": [
       "(11614, 28)"
      ]
     },
     "execution_count": 423,
     "metadata": {},
     "output_type": "execute_result"
    }
   ],
   "source": [
    "GOC_2021_02.shape"
   ]
  },
  {
   "cell_type": "code",
   "execution_count": 196,
   "id": "b63f170d-9a8e-49a5-a1f4-4ef0846a426d",
   "metadata": {},
   "outputs": [],
   "source": [
    "numbers = [f\"{i:02d}\" for i in range(1, 13)]"
   ]
  },
  {
   "cell_type": "code",
   "execution_count": 197,
   "id": "26dcb980-8b22-4558-8064-3172f04f3693",
   "metadata": {},
   "outputs": [
    {
     "data": {
      "text/plain": [
       "['01', '02', '03', '04', '05', '06', '07', '08', '09', '10', '11', '12']"
      ]
     },
     "execution_count": 197,
     "metadata": {},
     "output_type": "execute_result"
    }
   ],
   "source": [
    "numbers"
   ]
  },
  {
   "cell_type": "code",
   "execution_count": null,
   "id": "68900d47-e3e1-4413-9ba6-5a63719d95f4",
   "metadata": {},
   "outputs": [],
   "source": [
    "GOC_dict = {}\n",
    "\n",
    "months = [f\"{i:02d}\" for i in range(1, 13)]\n",
    "\n",
    "for month in months:\n",
    "    GOC_dict[month] = "
   ]
  },
  {
   "cell_type": "markdown",
   "id": "c9ac004a-4cf7-43a3-9622-6f8cb83a73dc",
   "metadata": {},
   "source": [
    "<hr>"
   ]
  },
  {
   "cell_type": "markdown",
   "id": "c405f8fc-353d-4d4d-8ae7-0339018df2da",
   "metadata": {},
   "source": [
    "For Capabilities. we will take the capability of Hydro and Nuclear and Gas, and add it to the 'Forecast' of wind and solar. The reason for this selection is that we want to eliminate the capability that is beyond reach (when sun is not shining), and understand how the humans navigate the uncertain landscape.\n",
    "\n",
    "'Forecast' represents the value that the fallible human anticipates to be tenable. Thus, any deviation from it, should throw a wrench in the system.\n",
    "\n",
    "By contrast, Available Capacity that is beyond reach, is clearly inconsequential to the market."
   ]
  },
  {
   "cell_type": "markdown",
   "id": "337a3f77-d5a2-4411-b025-d705a75e64c9",
   "metadata": {},
   "source": [
    "<hr>"
   ]
  },
  {
   "cell_type": "markdown",
   "id": "c3a6d878-dbd5-45d4-81b4-c79ca12b8f54",
   "metadata": {},
   "source": [
    "In simpler words, when during a cold February evening around 18h00 the system is under pressure, it is under pressure because SOLAR source is unusable. Meaning, the Available capability which stands at 60 MWh is irrelevant; and thus, it must be eliminated from the data before it acts as a force pushing down the output/capacity ratio."
   ]
  },
  {
   "cell_type": "code",
   "execution_count": null,
   "id": "772fc071-2c78-45e6-b673-86fa27974906",
   "metadata": {},
   "outputs": [],
   "source": []
  }
 ],
 "metadata": {
  "kernelspec": {
   "display_name": "ML_experiment",
   "language": "python",
   "name": "ml_experiment"
  },
  "language_info": {
   "codemirror_mode": {
    "name": "ipython",
    "version": 3
   },
   "file_extension": ".py",
   "mimetype": "text/x-python",
   "name": "python",
   "nbconvert_exporter": "python",
   "pygments_lexer": "ipython3",
   "version": "3.8.18"
  }
 },
 "nbformat": 4,
 "nbformat_minor": 5
}
