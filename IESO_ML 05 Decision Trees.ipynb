{
 "cells": [
  {
   "cell_type": "markdown",
   "id": "c87bd883-6edd-44e0-9e83-6f696b5d9933",
   "metadata": {},
   "source": [
    "# <center> IESO ML Project </center>\n",
    "\n",
    "<center> notebook five <br> Decision Trees <br> and<br> Upsampling </center>\n",
    "\n",
    "Prepared by Behrouz ShakeriFard <br>\n",
    "\n",
    "email: bshakeri@torontomu.ca <br>\n",
    "April 2024\n",
    "\n",
    "<hr>"
   ]
  },
  {
   "cell_type": "markdown",
   "id": "737d8501-9ac4-421d-840a-b5328f1e09b2",
   "metadata": {},
   "source": [
    "In the previous notebook we spent some time working with Logistic Regression, and best result that we managed to achieve was 188 True Positives, out of 238 total positives. We are hoping to do a little better with Decision Trees. But before getting started with Decision Trees, let's spend a few moments and discuss model evaluation.\n",
    "\n",
    "<br> \n",
    "\n",
    "<hr>\n",
    "\n",
    "## <center> Model Evaluation </center>"
   ]
  },
  {
   "cell_type": "markdown",
   "id": "18557a02-0457-452e-ab5b-aab05ac0be46",
   "metadata": {},
   "source": [
    "#### Precision and Recall\n",
    "\n",
    "Because of the fact that accuracy alone can be misleading depending on the class balance of the data, alternative metrics consider the relative proportions of correct and incorrect classifications in both the positive and negative classes. Two of the most common are *precision* and *recall*. \n",
    "\n",
    "Precision measures what proportion of a model assigned to positive are actually members of the positive class:\n",
    "\n",
    "$$Precision = \\frac{TP}{TP+FP}$$\n",
    "\n",
    "On the other hand, recall measures how many members of the positive class the model correctly identified out of the total positives:\n",
    "\n",
    "$$Recall = \\frac{TP}{TP+FN}$$"
   ]
  },
  {
   "cell_type": "markdown",
   "id": "dc48bc2a-1d57-42c8-8289-66d6c6bac486",
   "metadata": {},
   "source": [
    "<hr>\n",
    "\n",
    "In our case, True Positives are absolutely crucial. However, whether Precision would be a better metric, or Recall, requires some discussion.\n",
    "\n",
    "#### False Positive:\n",
    "False Positives represent no significant cost to our system. They are errors caused by the model which result in our system disengaging the residential from the grid, and utilizing the energy storage unit. This error represents a small cost, which is associated with recharging the storage unit. Since the storage unit is likely to becharged when prices dip below $4 for each MWh, we can regard the cost of this error negligible.\n",
    "\n",
    "#### False Negative\n",
    "False negatives represent a significant cost to our system. When prices go beyond the threshold, and our Machine Learning model fails to predict the occurance of a peak, the client ends up <i> paying</i> peak prices for his/her electricity consumption. Hence, <i> False Negatives</i> represent a significant cost.\n",
    "\n",
    "Due to the reasoning mentioned above, it would be wiser to optimize <i> Recall</i>.\n",
    "\n",
    "<hr>\n",
    "\n",
    "Now that we have discussed elementary topics regarding model evaluation, we can move on to the next steps.\n",
    "\n",
    "Let's import a few useful packages, and our data, and get started with some fun stuff."
   ]
  },
  {
   "cell_type": "code",
   "execution_count": 1,
   "id": "79e6d4ed-9c7a-4216-aeec-ecb677e15562",
   "metadata": {},
   "outputs": [],
   "source": [
    "# importing a few useful packages\n",
    "import numpy as np\n",
    "import pandas as pd\n"
   ]
  },
  {
   "cell_type": "code",
   "execution_count": 2,
   "id": "cc3c38be-5b36-4ef7-9e73-ea0bbe0a6e23",
   "metadata": {},
   "outputs": [],
   "source": [
    "import seaborn as sns\n",
    "import matplotlib.pyplot as plt\n",
    "\n",
    "from matplotlib import style"
   ]
  },
  {
   "cell_type": "code",
   "execution_count": 3,
   "id": "dcb238f1-aa0d-4f49-a4bd-e34b99768f05",
   "metadata": {},
   "outputs": [],
   "source": [
    "# Let's import our data\n",
    "df = pd.read_csv('df_ieso_cleaned_2021.csv')\n",
    "\n",
    "new_features_df = pd.read_csv('New Features IESO ML 2024.csv')"
   ]
  },
  {
   "cell_type": "code",
   "execution_count": 4,
   "id": "9b3e825e-409b-4da3-9cb4-aefc7c19efc8",
   "metadata": {},
   "outputs": [
    {
     "data": {
      "text/html": [
       "<div>\n",
       "<style scoped>\n",
       "    .dataframe tbody tr th:only-of-type {\n",
       "        vertical-align: middle;\n",
       "    }\n",
       "\n",
       "    .dataframe tbody tr th {\n",
       "        vertical-align: top;\n",
       "    }\n",
       "\n",
       "    .dataframe thead th {\n",
       "        text-align: right;\n",
       "    }\n",
       "</style>\n",
       "<table border=\"1\" class=\"dataframe\">\n",
       "  <thead>\n",
       "    <tr style=\"text-align: right;\">\n",
       "      <th></th>\n",
       "      <th>Unnamed: 0</th>\n",
       "      <th>Date Time</th>\n",
       "      <th>Market Demand</th>\n",
       "      <th>Ontario Demand</th>\n",
       "      <th>HOEP</th>\n",
       "      <th>Output</th>\n",
       "      <th>capability</th>\n",
       "    </tr>\n",
       "  </thead>\n",
       "  <tbody>\n",
       "    <tr>\n",
       "      <th>0</th>\n",
       "      <td>0</td>\n",
       "      <td>2021-01-01 01:00:00</td>\n",
       "      <td>16057</td>\n",
       "      <td>14112</td>\n",
       "      <td>31.74</td>\n",
       "      <td>14301.0</td>\n",
       "      <td>26203.0</td>\n",
       "    </tr>\n",
       "    <tr>\n",
       "      <th>1</th>\n",
       "      <td>1</td>\n",
       "      <td>2021-01-01 02:00:00</td>\n",
       "      <td>15516</td>\n",
       "      <td>13504</td>\n",
       "      <td>17.61</td>\n",
       "      <td>13786.0</td>\n",
       "      <td>26494.0</td>\n",
       "    </tr>\n",
       "    <tr>\n",
       "      <th>2</th>\n",
       "      <td>2</td>\n",
       "      <td>2021-01-01 03:00:00</td>\n",
       "      <td>15185</td>\n",
       "      <td>13155</td>\n",
       "      <td>14.36</td>\n",
       "      <td>13507.0</td>\n",
       "      <td>26587.0</td>\n",
       "    </tr>\n",
       "    <tr>\n",
       "      <th>3</th>\n",
       "      <td>3</td>\n",
       "      <td>2021-01-01 04:00:00</td>\n",
       "      <td>14940</td>\n",
       "      <td>12892</td>\n",
       "      <td>10.26</td>\n",
       "      <td>13505.0</td>\n",
       "      <td>26749.0</td>\n",
       "    </tr>\n",
       "    <tr>\n",
       "      <th>4</th>\n",
       "      <td>4</td>\n",
       "      <td>2021-01-01 05:00:00</td>\n",
       "      <td>14802</td>\n",
       "      <td>12798</td>\n",
       "      <td>6.03</td>\n",
       "      <td>12881.0</td>\n",
       "      <td>26843.0</td>\n",
       "    </tr>\n",
       "  </tbody>\n",
       "</table>\n",
       "</div>"
      ],
      "text/plain": [
       "   Unnamed: 0            Date Time  Market Demand  Ontario Demand   HOEP  \\\n",
       "0           0  2021-01-01 01:00:00          16057           14112  31.74   \n",
       "1           1  2021-01-01 02:00:00          15516           13504  17.61   \n",
       "2           2  2021-01-01 03:00:00          15185           13155  14.36   \n",
       "3           3  2021-01-01 04:00:00          14940           12892  10.26   \n",
       "4           4  2021-01-01 05:00:00          14802           12798   6.03   \n",
       "\n",
       "    Output  capability  \n",
       "0  14301.0     26203.0  \n",
       "1  13786.0     26494.0  \n",
       "2  13507.0     26587.0  \n",
       "3  13505.0     26749.0  \n",
       "4  12881.0     26843.0  "
      ]
     },
     "execution_count": 4,
     "metadata": {},
     "output_type": "execute_result"
    }
   ],
   "source": [
    "# sanity check\n",
    "df.head()"
   ]
  },
  {
   "cell_type": "code",
   "execution_count": 5,
   "id": "83c2ee8b-fa97-436b-b865-f01132ca9ac2",
   "metadata": {},
   "outputs": [],
   "source": [
    "# Some clean-up is due\n",
    "df.drop('Unnamed: 0', inplace=True, axis=1)"
   ]
  },
  {
   "cell_type": "code",
   "execution_count": 6,
   "id": "3c0c92f8-6475-4dbb-9de3-4f86b4d185d8",
   "metadata": {},
   "outputs": [],
   "source": [
    "df.index = pd.to_datetime(df['Date Time'])\n",
    "df.drop('Date Time', inplace=True, axis=1)"
   ]
  },
  {
   "cell_type": "code",
   "execution_count": 7,
   "id": "0198398e-2b17-455b-a994-5ff9e3091a04",
   "metadata": {},
   "outputs": [
    {
     "data": {
      "text/html": [
       "<div>\n",
       "<style scoped>\n",
       "    .dataframe tbody tr th:only-of-type {\n",
       "        vertical-align: middle;\n",
       "    }\n",
       "\n",
       "    .dataframe tbody tr th {\n",
       "        vertical-align: top;\n",
       "    }\n",
       "\n",
       "    .dataframe thead th {\n",
       "        text-align: right;\n",
       "    }\n",
       "</style>\n",
       "<table border=\"1\" class=\"dataframe\">\n",
       "  <thead>\n",
       "    <tr style=\"text-align: right;\">\n",
       "      <th></th>\n",
       "      <th>Unnamed: 0</th>\n",
       "      <th>2021 Demand</th>\n",
       "      <th>Annual Surplus</th>\n",
       "      <th>Output/Cap</th>\n",
       "      <th>Market Surplus</th>\n",
       "    </tr>\n",
       "  </thead>\n",
       "  <tbody>\n",
       "    <tr>\n",
       "      <th>0</th>\n",
       "      <td>0</td>\n",
       "      <td>14112</td>\n",
       "      <td>-893</td>\n",
       "      <td>0.545777</td>\n",
       "      <td>189.0</td>\n",
       "    </tr>\n",
       "    <tr>\n",
       "      <th>1</th>\n",
       "      <td>1</td>\n",
       "      <td>13504</td>\n",
       "      <td>-609</td>\n",
       "      <td>0.520344</td>\n",
       "      <td>282.0</td>\n",
       "    </tr>\n",
       "    <tr>\n",
       "      <th>2</th>\n",
       "      <td>2</td>\n",
       "      <td>13155</td>\n",
       "      <td>-601</td>\n",
       "      <td>0.508030</td>\n",
       "      <td>352.0</td>\n",
       "    </tr>\n",
       "    <tr>\n",
       "      <th>3</th>\n",
       "      <td>3</td>\n",
       "      <td>12892</td>\n",
       "      <td>-532</td>\n",
       "      <td>0.504879</td>\n",
       "      <td>613.0</td>\n",
       "    </tr>\n",
       "    <tr>\n",
       "      <th>4</th>\n",
       "      <td>4</td>\n",
       "      <td>12798</td>\n",
       "      <td>-445</td>\n",
       "      <td>0.479864</td>\n",
       "      <td>83.0</td>\n",
       "    </tr>\n",
       "  </tbody>\n",
       "</table>\n",
       "</div>"
      ],
      "text/plain": [
       "   Unnamed: 0  2021 Demand  Annual Surplus  Output/Cap  Market Surplus\n",
       "0           0        14112            -893    0.545777           189.0\n",
       "1           1        13504            -609    0.520344           282.0\n",
       "2           2        13155            -601    0.508030           352.0\n",
       "3           3        12892            -532    0.504879           613.0\n",
       "4           4        12798            -445    0.479864            83.0"
      ]
     },
     "execution_count": 7,
     "metadata": {},
     "output_type": "execute_result"
    }
   ],
   "source": [
    "# sanity check\n",
    "new_features_df.head()"
   ]
  },
  {
   "cell_type": "code",
   "execution_count": 8,
   "id": "d1b4ef2a-eb5a-451e-92ec-e3df981fdc1f",
   "metadata": {},
   "outputs": [],
   "source": [
    "new_features_df.drop('Unnamed: 0', axis=1, inplace=True)"
   ]
  },
  {
   "cell_type": "code",
   "execution_count": 9,
   "id": "c0929a54-f019-4e8b-b943-e066ec816310",
   "metadata": {},
   "outputs": [
    {
     "data": {
      "text/html": [
       "<div>\n",
       "<style scoped>\n",
       "    .dataframe tbody tr th:only-of-type {\n",
       "        vertical-align: middle;\n",
       "    }\n",
       "\n",
       "    .dataframe tbody tr th {\n",
       "        vertical-align: top;\n",
       "    }\n",
       "\n",
       "    .dataframe thead th {\n",
       "        text-align: right;\n",
       "    }\n",
       "</style>\n",
       "<table border=\"1\" class=\"dataframe\">\n",
       "  <thead>\n",
       "    <tr style=\"text-align: right;\">\n",
       "      <th></th>\n",
       "      <th>2021 Demand</th>\n",
       "      <th>Annual Surplus</th>\n",
       "      <th>Output/Cap</th>\n",
       "      <th>Market Surplus</th>\n",
       "    </tr>\n",
       "  </thead>\n",
       "  <tbody>\n",
       "    <tr>\n",
       "      <th>0</th>\n",
       "      <td>14112</td>\n",
       "      <td>-893</td>\n",
       "      <td>0.545777</td>\n",
       "      <td>189.0</td>\n",
       "    </tr>\n",
       "    <tr>\n",
       "      <th>1</th>\n",
       "      <td>13504</td>\n",
       "      <td>-609</td>\n",
       "      <td>0.520344</td>\n",
       "      <td>282.0</td>\n",
       "    </tr>\n",
       "    <tr>\n",
       "      <th>2</th>\n",
       "      <td>13155</td>\n",
       "      <td>-601</td>\n",
       "      <td>0.508030</td>\n",
       "      <td>352.0</td>\n",
       "    </tr>\n",
       "    <tr>\n",
       "      <th>3</th>\n",
       "      <td>12892</td>\n",
       "      <td>-532</td>\n",
       "      <td>0.504879</td>\n",
       "      <td>613.0</td>\n",
       "    </tr>\n",
       "    <tr>\n",
       "      <th>4</th>\n",
       "      <td>12798</td>\n",
       "      <td>-445</td>\n",
       "      <td>0.479864</td>\n",
       "      <td>83.0</td>\n",
       "    </tr>\n",
       "  </tbody>\n",
       "</table>\n",
       "</div>"
      ],
      "text/plain": [
       "   2021 Demand  Annual Surplus  Output/Cap  Market Surplus\n",
       "0        14112            -893    0.545777           189.0\n",
       "1        13504            -609    0.520344           282.0\n",
       "2        13155            -601    0.508030           352.0\n",
       "3        12892            -532    0.504879           613.0\n",
       "4        12798            -445    0.479864            83.0"
      ]
     },
     "execution_count": 9,
     "metadata": {},
     "output_type": "execute_result"
    }
   ],
   "source": [
    "# sanity check \n",
    "new_features_df.head()"
   ]
  },
  {
   "cell_type": "code",
   "execution_count": 10,
   "id": "e7f249e5-d56b-40be-ac10-f9dd2d045552",
   "metadata": {},
   "outputs": [
    {
     "data": {
      "image/png": "[encoded data removed]",
      "text/plain": [
       "<Figure size 1400x600 with 1 Axes>"
      ]
     },
     "metadata": {},
     "output_type": "display_data"
    }
   ],
   "source": [
    "# initiate the plot and setting the size\n",
    "plt.figure(figsize=(14,6))\n",
    "\n",
    "# filtering values and selecting the column for our histogram\n",
    "filtered_price = df[df['HOEP'] <= 300]['HOEP']\n",
    "filtered_price.plot(kind='hist',bins=90)\n",
    "\n",
    "# mean or average of the distribution\n",
    "plt.axvline(df['HOEP'].mean(), color='k', linestyle='dashed', linewidth=1, label='Average')\n",
    "\n",
    "# median of the distribution\n",
    "plt.axvline(df['HOEP'].median(), color='b', linestyle=':', linewidth=1, label='Median')\n",
    "\n",
    "# a hypothetical threshhold\n",
    "plt.axvline(50, color='r', linestyle='solid', linewidth=1, label='Threshhold')\n",
    "\n",
    "plt.xlabel('Price ')\n",
    "plt.ylabel('Frequency')\n",
    "plt.xticks([0,20,40,60,80,100,150,200,250])\n",
    "\n",
    "# Title of our graph\n",
    "plt.title('Price Distribution for the year 2018')\n",
    "plt.legend(loc='center')\n",
    "plt.show()"
   ]
  },
  {
   "cell_type": "markdown",
   "id": "1921fd10-aaff-41a3-a0ee-0064ad744ef2",
   "metadata": {},
   "source": [
    "#### setting up our target dataframe"
   ]
  },
  {
   "cell_type": "code",
   "execution_count": 11,
   "id": "caeed47e-e187-4a0c-8abd-21f086a3bea8",
   "metadata": {},
   "outputs": [],
   "source": [
    "# new dataframe\n",
    "df_target=pd.DataFrame()\n",
    "\n",
    "# importing price\n",
    "df_target['Price'] = df['HOEP']\n",
    "\n",
    "# connect column represents a True or False (binary) variable\n",
    "df_target['peak'] = df_target.apply(lambda x: int(0) if int(x['Price']) < 50 else int(1), axis=1)"
   ]
  },
  {
   "cell_type": "code",
   "execution_count": 12,
   "id": "7fcdddf3-3f73-42e0-b462-a2e3f097042a",
   "metadata": {},
   "outputs": [
    {
     "data": {
      "text/plain": [
       "838"
      ]
     },
     "execution_count": 12,
     "metadata": {},
     "output_type": "execute_result"
    }
   ],
   "source": [
    "# total instances of peak price happening\n",
    "df_target['peak'].sum()"
   ]
  },
  {
   "cell_type": "code",
   "execution_count": 13,
   "id": "e201782f-df5e-4d2b-8082-b71bac6ce35d",
   "metadata": {},
   "outputs": [
    {
     "data": {
      "text/plain": [
       "9.5662100456621"
      ]
     },
     "execution_count": 13,
     "metadata": {},
     "output_type": "execute_result"
    }
   ],
   "source": [
    "# percentage of peak occurances overal\n",
    "df_target['peak'].sum()/8760 * 100"
   ]
  },
  {
   "cell_type": "code",
   "execution_count": 14,
   "id": "de22df2f-578b-4e8d-bee4-f6a1f5f832ed",
   "metadata": {},
   "outputs": [
    {
     "data": {
      "text/plain": [
       "Index(['2021 Demand', 'Annual Surplus', 'Output/Cap', 'Market Surplus'], dtype='object')"
      ]
     },
     "execution_count": 14,
     "metadata": {},
     "output_type": "execute_result"
    }
   ],
   "source": [
    "new_features_df.columns"
   ]
  },
  {
   "cell_type": "code",
   "execution_count": 18,
   "id": "7f587113-b1b4-4e86-ac05-59f220927e08",
   "metadata": {},
   "outputs": [],
   "source": [
    "features_df = pd.DataFrame()\n",
    "\n",
    "# selecting the best three features\n",
    "features_df = new_features_df[['2021 Demand','Market Surplus','Output/Cap']]"
   ]
  },
  {
   "cell_type": "code",
   "execution_count": 15,
   "id": "10937c76-3c2f-416b-919c-f0b0b9f36d4d",
   "metadata": {},
   "outputs": [],
   "source": [
    "from sklearn.model_selection import train_test_split"
   ]
  },
  {
   "cell_type": "code",
   "execution_count": 19,
   "id": "f816e58d-ba35-4a80-89c8-98b5bb978c31",
   "metadata": {},
   "outputs": [],
   "source": [
    "# Splitting the data\n",
    "X_train, X_test, y_train, y_test = train_test_split(features_df, df_target['peak'], test_size=0.3, random_state=1)"
   ]
  },
  {
   "cell_type": "code",
   "execution_count": 20,
   "id": "2c234595-3770-48d0-9814-55f648fc965b",
   "metadata": {},
   "outputs": [
    {
     "data": {
      "text/plain": [
       "600"
      ]
     },
     "execution_count": 20,
     "metadata": {},
     "output_type": "execute_result"
    }
   ],
   "source": [
    "y_train.sum()"
   ]
  },
  {
   "cell_type": "code",
   "execution_count": 21,
   "id": "c98f57ea-33a7-4054-bfb9-4e417e6c3ab1",
   "metadata": {},
   "outputs": [
    {
     "data": {
      "text/plain": [
       "238"
      ]
     },
     "execution_count": 21,
     "metadata": {},
     "output_type": "execute_result"
    }
   ],
   "source": [
    "y_test.sum()"
   ]
  },
  {
   "cell_type": "markdown",
   "id": "e3cb50d1-d2f7-47b1-8968-1ab228e1c49b",
   "metadata": {},
   "source": [
    "Cool. Now we can get started with our data modelling!\n",
    "\n",
    "<hr>"
   ]
  },
  {
   "cell_type": "markdown",
   "id": "e57ac5c1-c404-40e3-b0d4-59bca079540e",
   "metadata": {},
   "source": [
    "# Decision Trees"
   ]
  },
  {
   "cell_type": "code",
   "execution_count": 22,
   "id": "a6be771a-4089-408b-866d-fa77dfb29dbe",
   "metadata": {},
   "outputs": [],
   "source": [
    "from sklearn.tree import DecisionTreeClassifier"
   ]
  },
  {
   "cell_type": "code",
   "execution_count": 23,
   "id": "4b8b010f-51b6-4828-9b0d-23ecb30cdb8b",
   "metadata": {},
   "outputs": [
    {
     "name": "stdout",
     "output_type": "stream",
     "text": [
      "The TRAIN classification accuracy is:  1.0\n",
      "The TEST classification accuracy is:  0.8987823439878234\n"
     ]
    }
   ],
   "source": [
    "#Fit to the training data\n",
    "DT_model = DecisionTreeClassifier()\n",
    "DT_model.fit(X_train, y_train)\n",
    "\n",
    "print(f\"The TRAIN classification accuracy is:  {DT_model.score(X_train,y_train)}\")\n",
    "print(f\"The TEST classification accuracy is:  {DT_model.score(X_test,y_test)}\")"
   ]
  },
  {
   "cell_type": "markdown",
   "id": "9d938a66-f2a8-4010-a87e-68e74b44ef76",
   "metadata": {},
   "source": [
    "Right!\n",
    "\n",
    "This is interesting, and worthy of a short discussion. When TRAINING score reaches 100% we can be sure that our model is over-fitting and thus, by adjusting a few parameters, we can improve the score on TEST data.\n",
    "\n",
    "### A Few Words about Accuracy\n",
    "\n",
    "It would be foolish to feel impressed by good accuracy scores; for the simple reason that detecting True Negatives are VERY VERY easy. So, although accuracy is a good indicator that something is working, we cannot feel pleased with it AT ALL! Remember, we need the highest <i> RECALL</i> score that we can possibly achieve!"
   ]
  },
  {
   "cell_type": "code",
   "execution_count": 24,
   "id": "c92f39fa-0508-4854-b8f4-581cc2ba3b75",
   "metadata": {},
   "outputs": [
    {
     "name": "stdout",
     "output_type": "stream",
     "text": [
      "The TRAIN classification accuracy is:  0.9249836921069797\n",
      "The TEST classification accuracy is:  0.9250380517503806\n"
     ]
    }
   ],
   "source": [
    "#Fit to the training data\n",
    "DT_model = DecisionTreeClassifier(max_depth=3)\n",
    "DT_model.fit(X_train, y_train)\n",
    "\n",
    "print(f\"The TRAIN classification accuracy is:  {DT_model.score(X_train,y_train)}\")\n",
    "print(f\"The TEST classification accuracy is:  {DT_model.score(X_test,y_test)}\")"
   ]
  },
  {
   "cell_type": "markdown",
   "id": "6fc3c478-13b2-4e11-bc9c-852db75d9e7a",
   "metadata": {},
   "source": [
    "That's Much Better!!!"
   ]
  },
  {
   "cell_type": "code",
   "execution_count": 26,
   "id": "4920fcec-d34b-4cd2-aa16-bd9a3e898962",
   "metadata": {},
   "outputs": [],
   "source": [
    "# importing useful packages\n",
    "from sklearn.metrics import confusion_matrix, classification_report"
   ]
  },
  {
   "cell_type": "code",
   "execution_count": 28,
   "id": "60dec5a0-95d6-4b6a-8e36-76189e599f50",
   "metadata": {},
   "outputs": [
    {
     "data": {
      "text/plain": [
       "array([[2347,   43],\n",
       "       [ 154,   84]])"
      ]
     },
     "execution_count": 28,
     "metadata": {},
     "output_type": "execute_result"
    }
   ],
   "source": [
    "y_pred = DT_model.predict(X_test)\n",
    "confusion_matrix(y_test, y_pred)"
   ]
  },
  {
   "cell_type": "code",
   "execution_count": 38,
   "id": "e73fbcdf-d5ec-4da4-8c01-f784d6c489b7",
   "metadata": {},
   "outputs": [
    {
     "name": "stderr",
     "output_type": "stream",
     "text": [
      "/home/behroox/anaconda3/envs/ML_experiment/lib/python3.8/site-packages/sklearn/base.py:464: UserWarning: X does not have valid feature names, but DecisionTreeClassifier was fitted with feature names\n",
      "  warnings.warn(\n"
     ]
    },
    {
     "data": {
      "text/html": [
       "<div>\n",
       "<style scoped>\n",
       "    .dataframe tbody tr th:only-of-type {\n",
       "        vertical-align: middle;\n",
       "    }\n",
       "\n",
       "    .dataframe tbody tr th {\n",
       "        vertical-align: top;\n",
       "    }\n",
       "\n",
       "    .dataframe thead th {\n",
       "        text-align: right;\n",
       "    }\n",
       "</style>\n",
       "<table border=\"1\" class=\"dataframe\">\n",
       "  <thead>\n",
       "    <tr style=\"text-align: right;\">\n",
       "      <th></th>\n",
       "      <th>Predicted Non-peak</th>\n",
       "      <th>Predicted Peak</th>\n",
       "    </tr>\n",
       "  </thead>\n",
       "  <tbody>\n",
       "    <tr>\n",
       "      <th>True Non-Peak</th>\n",
       "      <td>2347</td>\n",
       "      <td>43</td>\n",
       "    </tr>\n",
       "    <tr>\n",
       "      <th>True Peak Price</th>\n",
       "      <td>154</td>\n",
       "      <td>84</td>\n",
       "    </tr>\n",
       "  </tbody>\n",
       "</table>\n",
       "</div>"
      ],
      "text/plain": [
       "                 Predicted Non-peak  Predicted Peak\n",
       "True Non-Peak                  2347              43\n",
       "True Peak Price                 154              84"
      ]
     },
     "metadata": {},
     "output_type": "display_data"
    }
   ],
   "source": [
    "# Get class predictions\n",
    "y_pred = DT_model.predict(X_test)\n",
    "\n",
    "# Generate confusion matrix\n",
    "cf_matrix = confusion_matrix(y_test, y_pred)\n",
    "\n",
    "# label rows and columns\n",
    "cf_df = pd.DataFrame(\n",
    "    cf_matrix, \n",
    "    columns=[\"Predicted Non-peak\", \"Predicted Peak\"],\n",
    "    index=[\"True Non-Peak\", \"True Peak Price\"]\n",
    ")\n",
    "\n",
    "display(cf_df)"
   ]
  },
  {
   "cell_type": "code",
   "execution_count": 27,
   "id": "f9927244-2944-42fd-8be2-0f727a358d70",
   "metadata": {},
   "outputs": [
    {
     "name": "stdout",
     "output_type": "stream",
     "text": [
      "              precision    recall  f1-score   support\n",
      "\n",
      "           0       0.94      0.98      0.96      2390\n",
      "           1       0.66      0.35      0.46       238\n",
      "\n",
      "    accuracy                           0.93      2628\n",
      "   macro avg       0.80      0.67      0.71      2628\n",
      "weighted avg       0.91      0.93      0.91      2628\n",
      "\n"
     ]
    }
   ],
   "source": [
    "print(classification_report(y_test, DT_model.predict(X_test)))"
   ]
  },
  {
   "cell_type": "markdown",
   "id": "0c773569-6dd3-4f42-bb96-692d41dd0031",
   "metadata": {},
   "source": [
    "Right.\n",
    "\n",
    "This is not awful, considering that we have JUST started. We need to do UPSAMPLING before we can really judge the performance of the model. So, without further due, let's get started with upsampling!"
   ]
  },
  {
   "cell_type": "markdown",
   "id": "e1c784f7-02bf-480f-86a9-3118254e8857",
   "metadata": {},
   "source": [
    "<hr>"
   ]
  },
  {
   "cell_type": "markdown",
   "id": "1a4cfd7b-dd2f-407e-9a89-ce68bcc40d31",
   "metadata": {},
   "source": [
    "### Upsampling"
   ]
  },
  {
   "cell_type": "code",
   "execution_count": 29,
   "id": "c747349a-271c-44b2-8b8b-acfd0d881471",
   "metadata": {},
   "outputs": [],
   "source": [
    "# upsample the credit card example\n",
    "from sklearn.utils import resample"
   ]
  },
  {
   "cell_type": "code",
   "execution_count": 30,
   "id": "c80485db-cca1-42f2-af3a-c6d48561fae4",
   "metadata": {},
   "outputs": [],
   "source": [
    "df_target.reset_index(inplace=True)"
   ]
  },
  {
   "cell_type": "code",
   "execution_count": 31,
   "id": "4fc370c3-7ae0-4caa-8405-28d7f04ee85e",
   "metadata": {},
   "outputs": [
    {
     "name": "stdout",
     "output_type": "stream",
     "text": [
      "Number of class 1 examples before resampling: 600\n"
     ]
    }
   ],
   "source": [
    "X_train, X_test, y_train, y_test = train_test_split(features_df, df_target['peak'], test_size = 0.3, random_state=1)\n",
    "\n",
    "# Upsample\n",
    "print('Number of class 1 examples before resampling:', X_train[y_train == 1].shape[0])"
   ]
  },
  {
   "cell_type": "code",
   "execution_count": 32,
   "id": "05f0652c-8012-48eb-834f-c6892f419d62",
   "metadata": {},
   "outputs": [
    {
     "name": "stdout",
     "output_type": "stream",
     "text": [
      "Number of class 1 examples after: 5532\n"
     ]
    }
   ],
   "source": [
    "X_upsampled, y_upsampled = resample(X_train[y_train == 1], \n",
    "                                    y_train[y_train == 1], \n",
    "                                    replace=True, \n",
    "                                    # this line aims to truly balance the classes, by getting the number of class 0\n",
    "                                    # and repeating the resampling process until class 1 counts gets on par with class 0\n",
    "                                    n_samples=X_train[y_train == 0].shape[0], \n",
    "                                    random_state=123)\n",
    "\n",
    "print('Number of class 1 examples after:', X_upsampled.shape[0])\n",
    "\n",
    "# Combine upsample with original data\n",
    "X_train_bal = np.vstack((X_train[y_train == 0], X_upsampled))\n",
    "y_train_bal = np.hstack((y_train[y_train == 0], y_upsampled))"
   ]
  },
  {
   "cell_type": "code",
   "execution_count": 33,
   "id": "15fae9b3-ee5e-42d6-9e8c-ebe7d6f6b4ab",
   "metadata": {},
   "outputs": [],
   "source": [
    "X_test = X_test.values"
   ]
  },
  {
   "cell_type": "code",
   "execution_count": 34,
   "id": "5ecefa1f-faab-4074-8f79-57aced0b0140",
   "metadata": {},
   "outputs": [],
   "source": [
    "#Fit to the training data\n",
    "\n",
    "DT_balanced = DecisionTreeClassifier(max_depth=3)\n",
    "DT_balanced.fit(X_train_bal, y_train_bal)\n",
    "\n",
    "# evaluate on the original test set - NO UPSAMPLING\n",
    "y_pred_bal = DT_balanced.predict(X_test) "
   ]
  },
  {
   "cell_type": "code",
   "execution_count": 36,
   "id": "847d712e-0aef-4da1-a99c-694fafa58a14",
   "metadata": {},
   "outputs": [
    {
     "name": "stdout",
     "output_type": "stream",
     "text": [
      "The TRAIN classification accuracy is:  0.7956435285610991\n",
      "The TEST classification accuracy is:  0.878234398782344\n"
     ]
    }
   ],
   "source": [
    "print(f\"The TRAIN classification accuracy is:  {DT_balanced.score(X_train_bal,y_train_bal)}\")\n",
    "print(f\"The TEST classification accuracy is:  {DT_balanced.score(X_test,y_test)}\")"
   ]
  },
  {
   "cell_type": "code",
   "execution_count": 37,
   "id": "86e1432d-5638-4eb6-8d97-54fb041a1c49",
   "metadata": {},
   "outputs": [
    {
     "data": {
      "text/html": [
       "<div>\n",
       "<style scoped>\n",
       "    .dataframe tbody tr th:only-of-type {\n",
       "        vertical-align: middle;\n",
       "    }\n",
       "\n",
       "    .dataframe tbody tr th {\n",
       "        vertical-align: top;\n",
       "    }\n",
       "\n",
       "    .dataframe thead th {\n",
       "        text-align: right;\n",
       "    }\n",
       "</style>\n",
       "<table border=\"1\" class=\"dataframe\">\n",
       "  <thead>\n",
       "    <tr style=\"text-align: right;\">\n",
       "      <th></th>\n",
       "      <th>Predicted Non-peak</th>\n",
       "      <th>Predicted Peak</th>\n",
       "    </tr>\n",
       "  </thead>\n",
       "  <tbody>\n",
       "    <tr>\n",
       "      <th>True Non-Peak</th>\n",
       "      <td>2143</td>\n",
       "      <td>247</td>\n",
       "    </tr>\n",
       "    <tr>\n",
       "      <th>True Peak Price</th>\n",
       "      <td>73</td>\n",
       "      <td>165</td>\n",
       "    </tr>\n",
       "  </tbody>\n",
       "</table>\n",
       "</div>"
      ],
      "text/plain": [
       "                 Predicted Non-peak  Predicted Peak\n",
       "True Non-Peak                  2143             247\n",
       "True Peak Price                  73             165"
      ]
     },
     "metadata": {},
     "output_type": "display_data"
    }
   ],
   "source": [
    "# Get class predictions\n",
    "y_pred = DT_balanced.predict(X_test)\n",
    "\n",
    "# Generate confusion matrix\n",
    "cf_matrix = confusion_matrix(y_test, y_pred)\n",
    "\n",
    "# label rows and columns\n",
    "cf_df = pd.DataFrame(\n",
    "    cf_matrix, \n",
    "    columns=[\"Predicted Non-peak\", \"Predicted Peak\"],\n",
    "    index=[\"True Non-Peak\", \"True Peak Price\"]\n",
    ")\n",
    "\n",
    "display(cf_df)"
   ]
  },
  {
   "cell_type": "code",
   "execution_count": 39,
   "id": "fa683060-4caa-4b73-9bc2-93cf48e60364",
   "metadata": {},
   "outputs": [
    {
     "name": "stdout",
     "output_type": "stream",
     "text": [
      "              precision    recall  f1-score   support\n",
      "\n",
      "           0       0.97      0.90      0.93      2390\n",
      "           1       0.40      0.69      0.51       238\n",
      "\n",
      "    accuracy                           0.88      2628\n",
      "   macro avg       0.68      0.79      0.72      2628\n",
      "weighted avg       0.92      0.88      0.89      2628\n",
      "\n"
     ]
    }
   ],
   "source": [
    "print(classification_report(y_test, DT_balanced.predict(X_test)))"
   ]
  },
  {
   "cell_type": "markdown",
   "id": "82161bee-a42f-44d2-bd76-23f7fcba24ab",
   "metadata": {},
   "source": [
    "This is improvement.\n",
    "\n",
    "our previous recall score was:\n",
    "\n",
    "$$84/84+154$$"
   ]
  },
  {
   "cell_type": "code",
   "execution_count": 41,
   "id": "19703f3e-2be3-4a87-b17b-a91b93dd7ec9",
   "metadata": {},
   "outputs": [
    {
     "data": {
      "text/plain": [
       "0.35294117647058826"
      ]
     },
     "execution_count": 41,
     "metadata": {},
     "output_type": "execute_result"
    }
   ],
   "source": [
    "84/(84+154)"
   ]
  },
  {
   "cell_type": "markdown",
   "id": "7e166650-83c2-4979-b4c7-89f8e0688bd7",
   "metadata": {},
   "source": [
    "We have improved to:\n",
    "\n",
    "$$165/(165+73)$$"
   ]
  },
  {
   "cell_type": "code",
   "execution_count": 42,
   "id": "fe7085b1-4c0d-4aa3-aabc-328a1dba1910",
   "metadata": {},
   "outputs": [
    {
     "data": {
      "text/plain": [
       "0.6932773109243697"
      ]
     },
     "execution_count": 42,
     "metadata": {},
     "output_type": "execute_result"
    }
   ],
   "source": [
    "165/(165+73)"
   ]
  },
  {
   "cell_type": "markdown",
   "id": "e6e12917-d4ad-447c-b417-12c98b9148d0",
   "metadata": {},
   "source": [
    "<hr>\n",
    "Reminder:\n",
    "\n",
    "$$Recall = \\frac{TP}{TP+FN}$$\n",
    "\n",
    "<hr>"
   ]
  },
  {
   "cell_type": "markdown",
   "id": "b6bc732c-4a98-4a9e-b592-3a8a5fbbc1a4",
   "metadata": {},
   "source": [
    "An improvement from 0.35 to 0.69 is a near doubling!\n",
    "\n",
    "However, we are not quite done yet. Next, we will try Random Forests.\n",
    "\n",
    "<hr>\n",
    "\n",
    "This concludes the Decision Tree notebook. <br>\n",
    "End of Notebook Five."
   ]
  },
  {
   "cell_type": "code",
   "execution_count": null,
   "id": "7744f85b-3669-4ac8-8c99-dfbadedc1c2c",
   "metadata": {},
   "outputs": [],
   "source": []
  }
 ],
 "metadata": {
  "kernelspec": {
   "display_name": "ML_experiment",
   "language": "python",
   "name": "ml_experiment"
  },
  "language_info": {
   "codemirror_mode": {
    "name": "ipython",
    "version": 3
   },
   "file_extension": ".py",
   "mimetype": "text/x-python",
   "name": "python",
   "nbconvert_exporter": "python",
   "pygments_lexer": "ipython3",
   "version": "3.8.18"
  }
 },
 "nbformat": 4,
 "nbformat_minor": 5
}
