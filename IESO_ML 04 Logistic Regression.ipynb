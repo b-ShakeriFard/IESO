{
 "cells": [
  {
   "cell_type": "markdown",
   "id": "1882161a",
   "metadata": {},
   "source": [
    "# <center> IESO ML Project </center>"
   ]
  },
  {
   "cell_type": "markdown",
   "id": "2aeb151e",
   "metadata": {},
   "source": [
    "<center> notebook four <br> Logistic Regression, <br> <br> Upsampling and<br> HyperParameter Optimization</center>\n",
    "\n",
    "Prepared by Behrouz ShakeriFard <br>\n",
    "\n",
    "email: bshakeri@torontomu.ca <br>\n",
    "April 2024\n",
    "\n",
    "<hr>"
   ]
  },
  {
   "cell_type": "markdown",
   "id": "4cd00a2f",
   "metadata": {},
   "source": [
    "In the previous notebooks, we spent some time cleaning the data, exploring variables and their relationships, examining the correlation coefficients with our target (price), and finally we did principal component analysis. Now, we want to arrive at a better definition of our target variable, and get started with the real stuff: machine learning!"
   ]
  },
  {
   "cell_type": "markdown",
   "id": "75f2ce9d",
   "metadata": {},
   "source": [
    "## Defining the Challenge\n",
    "\n",
    "In short, we would like to predict *when* a variable (price) goes beyong a certain point. This is the primary challenge. The rest of this notebook addresses two questions:\n",
    "\n",
    "1. Where is that threshhold, beyond which the price is not only high, but *too* high?\n",
    "\n",
    "2. How do we predict that spike? In other words, which features of the data are useful for predicting the target (which, in this case is binary)?"
   ]
  },
  {
   "cell_type": "markdown",
   "id": "38a2ea53",
   "metadata": {},
   "source": [
    "##### Why is this project useful?\n",
    "\n",
    "This analysis seeks to identify the best machine learning technique for predicting a binary outcome, which we will construct using the IESO data. This binary outcome indicates when a building (residential or commercial) equipped with adequate electricity storage would disengage from the electricity grid, in order to stop buying electricity from the grid.\n",
    "\n",
    "This is useful because large fluctuations in price - in particular during peak hours - can become heavy financial burdens for large consumers (such as apartment blocks or commercial plants for food processing, manufacturing, assembly, or other activities).\n",
    "<hr>"
   ]
  },
  {
   "cell_type": "markdown",
   "id": "62fdd065",
   "metadata": {},
   "source": [
    "\n",
    "But first, let's import a few useful packages, as well as our data.\n"
   ]
  },
  {
   "cell_type": "code",
   "execution_count": 1,
   "id": "3f7c342f",
   "metadata": {},
   "outputs": [],
   "source": [
    "# importing a few useful packages\n",
    "import pandas as pd\n",
    "import numpy as np"
   ]
  },
  {
   "cell_type": "code",
   "execution_count": 2,
   "id": "3538e1e3",
   "metadata": {},
   "outputs": [],
   "source": [
    "import seaborn as sns\n",
    "import matplotlib.pyplot as plt\n",
    "\n",
    "from matplotlib import style"
   ]
  },
  {
   "cell_type": "code",
   "execution_count": 3,
   "id": "86070194",
   "metadata": {},
   "outputs": [],
   "source": [
    "# Let's import our data\n",
    "df = pd.read_csv('df_ieso_cleaned_2021.csv')"
   ]
  },
  {
   "cell_type": "code",
   "execution_count": 4,
   "id": "73a2320b",
   "metadata": {},
   "outputs": [],
   "source": [
    "new_features_df = pd.read_csv('New Features IESO ML 2024.csv')"
   ]
  },
  {
   "cell_type": "code",
   "execution_count": 5,
   "id": "ca077d37",
   "metadata": {},
   "outputs": [
    {
     "data": {
      "text/html": [
       "<div>\n",
       "<style scoped>\n",
       "    .dataframe tbody tr th:only-of-type {\n",
       "        vertical-align: middle;\n",
       "    }\n",
       "\n",
       "    .dataframe tbody tr th {\n",
       "        vertical-align: top;\n",
       "    }\n",
       "\n",
       "    .dataframe thead th {\n",
       "        text-align: right;\n",
       "    }\n",
       "</style>\n",
       "<table border=\"1\" class=\"dataframe\">\n",
       "  <thead>\n",
       "    <tr style=\"text-align: right;\">\n",
       "      <th></th>\n",
       "      <th>Unnamed: 0</th>\n",
       "      <th>Date Time</th>\n",
       "      <th>Market Demand</th>\n",
       "      <th>Ontario Demand</th>\n",
       "      <th>HOEP</th>\n",
       "      <th>Output</th>\n",
       "      <th>capability</th>\n",
       "    </tr>\n",
       "  </thead>\n",
       "  <tbody>\n",
       "    <tr>\n",
       "      <th>0</th>\n",
       "      <td>0</td>\n",
       "      <td>2021-01-01 01:00:00</td>\n",
       "      <td>16057</td>\n",
       "      <td>14112</td>\n",
       "      <td>31.74</td>\n",
       "      <td>14301.0</td>\n",
       "      <td>26203.0</td>\n",
       "    </tr>\n",
       "    <tr>\n",
       "      <th>1</th>\n",
       "      <td>1</td>\n",
       "      <td>2021-01-01 02:00:00</td>\n",
       "      <td>15516</td>\n",
       "      <td>13504</td>\n",
       "      <td>17.61</td>\n",
       "      <td>13786.0</td>\n",
       "      <td>26494.0</td>\n",
       "    </tr>\n",
       "    <tr>\n",
       "      <th>2</th>\n",
       "      <td>2</td>\n",
       "      <td>2021-01-01 03:00:00</td>\n",
       "      <td>15185</td>\n",
       "      <td>13155</td>\n",
       "      <td>14.36</td>\n",
       "      <td>13507.0</td>\n",
       "      <td>26587.0</td>\n",
       "    </tr>\n",
       "    <tr>\n",
       "      <th>3</th>\n",
       "      <td>3</td>\n",
       "      <td>2021-01-01 04:00:00</td>\n",
       "      <td>14940</td>\n",
       "      <td>12892</td>\n",
       "      <td>10.26</td>\n",
       "      <td>13505.0</td>\n",
       "      <td>26749.0</td>\n",
       "    </tr>\n",
       "    <tr>\n",
       "      <th>4</th>\n",
       "      <td>4</td>\n",
       "      <td>2021-01-01 05:00:00</td>\n",
       "      <td>14802</td>\n",
       "      <td>12798</td>\n",
       "      <td>6.03</td>\n",
       "      <td>12881.0</td>\n",
       "      <td>26843.0</td>\n",
       "    </tr>\n",
       "  </tbody>\n",
       "</table>\n",
       "</div>"
      ],
      "text/plain": [
       "   Unnamed: 0            Date Time  Market Demand  Ontario Demand   HOEP  \\\n",
       "0           0  2021-01-01 01:00:00          16057           14112  31.74   \n",
       "1           1  2021-01-01 02:00:00          15516           13504  17.61   \n",
       "2           2  2021-01-01 03:00:00          15185           13155  14.36   \n",
       "3           3  2021-01-01 04:00:00          14940           12892  10.26   \n",
       "4           4  2021-01-01 05:00:00          14802           12798   6.03   \n",
       "\n",
       "    Output  capability  \n",
       "0  14301.0     26203.0  \n",
       "1  13786.0     26494.0  \n",
       "2  13507.0     26587.0  \n",
       "3  13505.0     26749.0  \n",
       "4  12881.0     26843.0  "
      ]
     },
     "execution_count": 5,
     "metadata": {},
     "output_type": "execute_result"
    }
   ],
   "source": [
    "# sanity cehck\n",
    "\n",
    "df.head()"
   ]
  },
  {
   "cell_type": "code",
   "execution_count": 6,
   "id": "92a3c350",
   "metadata": {},
   "outputs": [],
   "source": [
    "# Some clean-up is due\n",
    "df.drop('Unnamed: 0', inplace=True, axis=1)"
   ]
  },
  {
   "cell_type": "code",
   "execution_count": 7,
   "id": "eb47d6a1",
   "metadata": {},
   "outputs": [],
   "source": [
    "df.index = pd.to_datetime(df['Date Time'])\n",
    "df.drop('Date Time', inplace=True, axis=1)"
   ]
  },
  {
   "cell_type": "code",
   "execution_count": 8,
   "id": "235b2352",
   "metadata": {},
   "outputs": [
    {
     "data": {
      "text/plain": [
       "Market Demand       int64\n",
       "Ontario Demand      int64\n",
       "HOEP              float64\n",
       "Output            float64\n",
       "capability        float64\n",
       "dtype: object"
      ]
     },
     "execution_count": 8,
     "metadata": {},
     "output_type": "execute_result"
    }
   ],
   "source": [
    "df.dtypes"
   ]
  },
  {
   "cell_type": "code",
   "execution_count": 9,
   "id": "e1433000",
   "metadata": {},
   "outputs": [
    {
     "data": {
      "text/html": [
       "<div>\n",
       "<style scoped>\n",
       "    .dataframe tbody tr th:only-of-type {\n",
       "        vertical-align: middle;\n",
       "    }\n",
       "\n",
       "    .dataframe tbody tr th {\n",
       "        vertical-align: top;\n",
       "    }\n",
       "\n",
       "    .dataframe thead th {\n",
       "        text-align: right;\n",
       "    }\n",
       "</style>\n",
       "<table border=\"1\" class=\"dataframe\">\n",
       "  <thead>\n",
       "    <tr style=\"text-align: right;\">\n",
       "      <th></th>\n",
       "      <th>Unnamed: 0</th>\n",
       "      <th>2021 Demand</th>\n",
       "      <th>Annual Surplus</th>\n",
       "      <th>Output/Cap</th>\n",
       "      <th>Market Surplus</th>\n",
       "    </tr>\n",
       "  </thead>\n",
       "  <tbody>\n",
       "    <tr>\n",
       "      <th>0</th>\n",
       "      <td>0</td>\n",
       "      <td>14112</td>\n",
       "      <td>-893</td>\n",
       "      <td>0.545777</td>\n",
       "      <td>189.0</td>\n",
       "    </tr>\n",
       "    <tr>\n",
       "      <th>1</th>\n",
       "      <td>1</td>\n",
       "      <td>13504</td>\n",
       "      <td>-609</td>\n",
       "      <td>0.520344</td>\n",
       "      <td>282.0</td>\n",
       "    </tr>\n",
       "    <tr>\n",
       "      <th>2</th>\n",
       "      <td>2</td>\n",
       "      <td>13155</td>\n",
       "      <td>-601</td>\n",
       "      <td>0.508030</td>\n",
       "      <td>352.0</td>\n",
       "    </tr>\n",
       "    <tr>\n",
       "      <th>3</th>\n",
       "      <td>3</td>\n",
       "      <td>12892</td>\n",
       "      <td>-532</td>\n",
       "      <td>0.504879</td>\n",
       "      <td>613.0</td>\n",
       "    </tr>\n",
       "    <tr>\n",
       "      <th>4</th>\n",
       "      <td>4</td>\n",
       "      <td>12798</td>\n",
       "      <td>-445</td>\n",
       "      <td>0.479864</td>\n",
       "      <td>83.0</td>\n",
       "    </tr>\n",
       "  </tbody>\n",
       "</table>\n",
       "</div>"
      ],
      "text/plain": [
       "   Unnamed: 0  2021 Demand  Annual Surplus  Output/Cap  Market Surplus\n",
       "0           0        14112            -893    0.545777           189.0\n",
       "1           1        13504            -609    0.520344           282.0\n",
       "2           2        13155            -601    0.508030           352.0\n",
       "3           3        12892            -532    0.504879           613.0\n",
       "4           4        12798            -445    0.479864            83.0"
      ]
     },
     "execution_count": 9,
     "metadata": {},
     "output_type": "execute_result"
    }
   ],
   "source": [
    "# sanity check\n",
    "new_features_df.head()"
   ]
  },
  {
   "cell_type": "code",
   "execution_count": 10,
   "id": "8b1f87ec",
   "metadata": {},
   "outputs": [],
   "source": [
    "new_features_df.drop('Unnamed: 0', axis=1, inplace=True)"
   ]
  },
  {
   "cell_type": "markdown",
   "id": "0b91dd8b",
   "metadata": {},
   "source": [
    "Cool.\n",
    "\n",
    "Now we can get started with further examining our target: HOEP.\n",
    "\n",
    "<hr>"
   ]
  },
  {
   "cell_type": "markdown",
   "id": "80580cba",
   "metadata": {},
   "source": [
    "## The Target\n",
    "\n",
    "Setting a point (a threshhold) beyond which we would consider a price increase to be a *spike* (in other words, the threshhold beyond which our binary target would become TRUE) requires careful consideration. Ideally, this model will be used by households and businesses that are equipped with energy storage as well (think of large lithium-ion batteries, or similar technologies). Therefore, what ever the threshhold, the frequency of occurences above it, must be fairly close to the frequency of very low prices.\n",
    "\n",
    "This is because (as you've guessed) total sum of hours that the building is utilizing the energy storage unit (due to an anticipated price spike), should be less or at most equal to the total sum of hours during which the building is charging the storage unit. Recharging should take place when price of electricity falls below a threshhold, and it may take more time to charge the unit, than to consume the stored energy. We may start by assuming that threshhold is somewhere around $5 per MWh of energy."
   ]
  },
  {
   "cell_type": "markdown",
   "id": "5a17c6c4",
   "metadata": {},
   "source": [
    "We begin our investigation with visually examining the distribution of price."
   ]
  },
  {
   "cell_type": "code",
   "execution_count": 11,
   "id": "63910d91",
   "metadata": {},
   "outputs": [
    {
     "data": {
      "image/png": "[encoded data removed]",
      "text/plain": [
       "<Figure size 1400x600 with 1 Axes>"
      ]
     },
     "metadata": {},
     "output_type": "display_data"
    }
   ],
   "source": [
    "# initiate the plot and setting the size\n",
    "plt.figure(figsize=(14,6))\n",
    "\n",
    "# filtering values and selecting the column for our histogram\n",
    "filtered_price = df[df['HOEP'] <= 300]['HOEP']\n",
    "filtered_price.plot(kind='hist',bins=90)\n",
    "\n",
    "# mean or average of the distribution\n",
    "plt.axvline(df['HOEP'].mean(), color='k', linestyle='dashed', linewidth=1, label='Average')\n",
    "\n",
    "# median of the distribution\n",
    "plt.axvline(df['HOEP'].median(), color='b', linestyle=':', linewidth=1, label='Median')\n",
    "\n",
    "# a hypothetical threshhold\n",
    "plt.axvline(50, color='r', linestyle='solid', linewidth=1, label='Threshhold')\n",
    "\n",
    "plt.xlabel('Price ')\n",
    "plt.ylabel('Frequency')\n",
    "plt.xticks([0,20,40,60,80,100,150,200,250])\n",
    "\n",
    "# Title of our graph\n",
    "plt.title('Price Distribution for the year 2018')\n",
    "plt.legend(loc='center')\n",
    "plt.show()"
   ]
  },
  {
   "cell_type": "markdown",
   "id": "1ee53be0",
   "metadata": {},
   "source": [
    "We can now examine the sum of all occurances above the $50 threshhold, just to see how off the mark our initial guess was.\n",
    "\n",
    "For this, we will look at the area beneath the graph, past the threshhold."
   ]
  },
  {
   "cell_type": "code",
   "execution_count": 12,
   "id": "e7584f09",
   "metadata": {},
   "outputs": [],
   "source": [
    "# importing the integrate package in order to \n",
    "# calculate the area beneath the plot\n",
    "from scipy import integrate"
   ]
  },
  {
   "cell_type": "code",
   "execution_count": 13,
   "id": "b010db79",
   "metadata": {},
   "outputs": [
    {
     "data": {
      "image/png": "[encoded data removed]",
      "text/plain": [
       "<Figure size 1400x600 with 1 Axes>"
      ]
     },
     "metadata": {},
     "output_type": "display_data"
    }
   ],
   "source": [
    "# initiate the plot and setting the size\n",
    "plt.figure(figsize=(14,6))\n",
    "\n",
    "# Create a histogram\n",
    "plt.hist(filtered_price, bins=180, alpha=0.5, label='frequency of a given price occuring during the year')\n",
    "\n",
    "# a hypothetical threshhol\n",
    "plt.axvline(50, color='r', linestyle='solid', linewidth=1, label='Threshhold')\n",
    "\n",
    "# Set the threshold value\n",
    "threshold = 50\n",
    "\n",
    "# Calculate the area above the threshold\n",
    "hist, bin_edges = np.histogram(filtered_price, bins=180)\n",
    "bin_width = bin_edges[1] - bin_edges[0]\n",
    "indices_above_threshold = np.where(bin_edges[:-1] > threshold)[0]\n",
    "area_above_threshold = integrate.simps(hist[indices_above_threshold], dx=bin_width)\n",
    "\n",
    "# Add the area as a text annotation\n",
    "plt.text(threshold, max(hist), f\"Area = {area_above_threshold:.2f}\", ha='left')\n",
    "\n",
    "plt.xlabel('Price - expressed in dollars')\n",
    "plt.ylabel('Frequency of occurence')\n",
    "\n",
    "plt.title('Distribution of 8760 instances of recorded hourly price')\n",
    "\n",
    "# Show the plot\n",
    "plt.legend()\n",
    "plt.show()"
   ]
  },
  {
   "cell_type": "code",
   "execution_count": 14,
   "id": "5e5e0317",
   "metadata": {},
   "outputs": [
    {
     "data": {
      "image/png": "[encoded data removed]",
      "text/plain": [
       "<Figure size 1400x600 with 1 Axes>"
      ]
     },
     "metadata": {},
     "output_type": "display_data"
    }
   ],
   "source": [
    "# initiate the plot and setting the size\n",
    "plt.figure(figsize=(14,6))\n",
    "\n",
    "# Create a histogram\n",
    "plt.hist(filtered_price, bins=180, alpha=0.5, label='Frequency of a given price occuring during the year')\n",
    "\n",
    "# a hypothetical threshhol\n",
    "plt.axvline(4, color='r', linestyle='solid', linewidth=1, label='Threshhold')\n",
    "\n",
    "# Set the threshold value\n",
    "threshold = 4\n",
    "\n",
    "# Calculate the area above the threshold\n",
    "hist, bin_edges = np.histogram(filtered_price, bins=180)\n",
    "bin_width = bin_edges[1] - bin_edges[0]\n",
    "indices_above_threshold = np.where(bin_edges[:-1] < threshold)[0]\n",
    "area_above_threshold = integrate.simps(hist[indices_above_threshold], dx=bin_width)\n",
    "\n",
    "# Add the area as a text annotation\n",
    "plt.text(threshold, max(hist), f\"Area = {area_above_threshold:.2f}\", ha='left')\n",
    "\n",
    "plt.xlabel('Price - expressed in dollars')\n",
    "plt.ylabel('Frequency of occurence')\n",
    "\n",
    "plt.title('Distribution of 8760 instances of recorded hourly price')\n",
    "\n",
    "# Show the plot\n",
    "plt.legend()\n",
    "plt.show()"
   ]
  },
  {
   "cell_type": "markdown",
   "id": "c951724d",
   "metadata": {},
   "source": [
    "There are two more issues that remain:\n",
    "\n",
    "1. The need to investigate seasons independently;\n",
    "2. the optimal size of energy storage unit.\n",
    "\n",
    "We will investigate these two issues later. But for now, I will brief touch the surface of the second question because it is an interesting intellectual challenge.\n",
    "\n",
    "The size of the battery is a function of three variables: energy consumption of the entity in question during each cycle (perhaps a 24-hr cycle), observed price fluctuations (large variance in price distribution would indicate larger storage units could yield more savings over time), the price of storage for each unit of energy they can store (and by extention of logic, useful life cycle of the unit).\n",
    "\n",
    "Careful examination of this question is worthy of a separate notebook."
   ]
  },
  {
   "cell_type": "markdown",
   "id": "44c94141",
   "metadata": {},
   "source": [
    "<hr>"
   ]
  },
  {
   "cell_type": "markdown",
   "id": "3a1575bc",
   "metadata": {},
   "source": [
    "## Target DataFrame\n",
    "\n",
    "Our target is a binary variable, representing whether prices are normal and the client should buy electricity from the grid (this state will be represented by a False statement or Zero) or whether prics are near peak level and the client should utilize local electricity storage, in order to save money (this state will be represented by a True statement or One).\n",
    "\n",
    "Of course, arriving at a connectivity threshold would be an optimization problem, requiring a scientific approach. However, for the moment, we will refrain from fine-tuning this variable and start with the simple exercise of creating the binary variable with a non-scientific (non-optimized) threshold, which we explored earlier in this notebook. For now, our threshhold is for defining \"peak price\" is $50 for each MWh of electricity."
   ]
  },
  {
   "cell_type": "markdown",
   "id": "c43aeb35",
   "metadata": {},
   "source": [
    "<hr>"
   ]
  },
  {
   "cell_type": "markdown",
   "id": "58dfe574",
   "metadata": {},
   "source": [
    "Let's start with creating a new dataframe for our target."
   ]
  },
  {
   "cell_type": "code",
   "execution_count": 15,
   "id": "709a06eb",
   "metadata": {},
   "outputs": [],
   "source": [
    "# new dataframe\n",
    "df_target=pd.DataFrame()\n",
    "\n",
    "# importing price\n",
    "df_target['Price'] = df['HOEP']\n",
    "\n",
    "# connect column represents a True or False (binary) variable\n",
    "df_target['peak'] = df_target.apply(lambda x: int(0) if int(x['Price']) < 50 else int(1), axis=1)"
   ]
  },
  {
   "cell_type": "code",
   "execution_count": 16,
   "id": "15a9fca6",
   "metadata": {},
   "outputs": [
    {
     "data": {
      "text/html": [
       "<div>\n",
       "<style scoped>\n",
       "    .dataframe tbody tr th:only-of-type {\n",
       "        vertical-align: middle;\n",
       "    }\n",
       "\n",
       "    .dataframe tbody tr th {\n",
       "        vertical-align: top;\n",
       "    }\n",
       "\n",
       "    .dataframe thead th {\n",
       "        text-align: right;\n",
       "    }\n",
       "</style>\n",
       "<table border=\"1\" class=\"dataframe\">\n",
       "  <thead>\n",
       "    <tr style=\"text-align: right;\">\n",
       "      <th></th>\n",
       "      <th>Price</th>\n",
       "      <th>peak</th>\n",
       "    </tr>\n",
       "    <tr>\n",
       "      <th>Date Time</th>\n",
       "      <th></th>\n",
       "      <th></th>\n",
       "    </tr>\n",
       "  </thead>\n",
       "  <tbody>\n",
       "    <tr>\n",
       "      <th>2021-06-16 04:00:00</th>\n",
       "      <td>0.00</td>\n",
       "      <td>0</td>\n",
       "    </tr>\n",
       "    <tr>\n",
       "      <th>2021-06-20 11:00:00</th>\n",
       "      <td>28.58</td>\n",
       "      <td>0</td>\n",
       "    </tr>\n",
       "    <tr>\n",
       "      <th>2021-08-07 03:00:00</th>\n",
       "      <td>47.82</td>\n",
       "      <td>0</td>\n",
       "    </tr>\n",
       "    <tr>\n",
       "      <th>2021-04-13 18:00:00</th>\n",
       "      <td>7.07</td>\n",
       "      <td>0</td>\n",
       "    </tr>\n",
       "    <tr>\n",
       "      <th>2021-03-06 02:00:00</th>\n",
       "      <td>34.53</td>\n",
       "      <td>0</td>\n",
       "    </tr>\n",
       "    <tr>\n",
       "      <th>2021-02-20 04:00:00</th>\n",
       "      <td>34.94</td>\n",
       "      <td>0</td>\n",
       "    </tr>\n",
       "    <tr>\n",
       "      <th>2021-10-23 21:00:00</th>\n",
       "      <td>45.43</td>\n",
       "      <td>0</td>\n",
       "    </tr>\n",
       "    <tr>\n",
       "      <th>2021-05-18 16:00:00</th>\n",
       "      <td>20.11</td>\n",
       "      <td>0</td>\n",
       "    </tr>\n",
       "    <tr>\n",
       "      <th>2021-03-27 15:00:00</th>\n",
       "      <td>11.13</td>\n",
       "      <td>0</td>\n",
       "    </tr>\n",
       "    <tr>\n",
       "      <th>2021-11-23 18:00:00</th>\n",
       "      <td>52.57</td>\n",
       "      <td>1</td>\n",
       "    </tr>\n",
       "    <tr>\n",
       "      <th>2021-12-03 18:00:00</th>\n",
       "      <td>72.10</td>\n",
       "      <td>1</td>\n",
       "    </tr>\n",
       "    <tr>\n",
       "      <th>2021-05-22 13:00:00</th>\n",
       "      <td>24.39</td>\n",
       "      <td>0</td>\n",
       "    </tr>\n",
       "    <tr>\n",
       "      <th>2021-10-21 06:00:00</th>\n",
       "      <td>29.42</td>\n",
       "      <td>0</td>\n",
       "    </tr>\n",
       "    <tr>\n",
       "      <th>2021-09-10 05:00:00</th>\n",
       "      <td>16.74</td>\n",
       "      <td>0</td>\n",
       "    </tr>\n",
       "    <tr>\n",
       "      <th>2021-10-08 12:00:00</th>\n",
       "      <td>56.05</td>\n",
       "      <td>1</td>\n",
       "    </tr>\n",
       "    <tr>\n",
       "      <th>2021-01-03 09:00:00</th>\n",
       "      <td>13.65</td>\n",
       "      <td>0</td>\n",
       "    </tr>\n",
       "    <tr>\n",
       "      <th>2021-08-10 19:00:00</th>\n",
       "      <td>58.75</td>\n",
       "      <td>1</td>\n",
       "    </tr>\n",
       "  </tbody>\n",
       "</table>\n",
       "</div>"
      ],
      "text/plain": [
       "                     Price  peak\n",
       "Date Time                       \n",
       "2021-06-16 04:00:00   0.00     0\n",
       "2021-06-20 11:00:00  28.58     0\n",
       "2021-08-07 03:00:00  47.82     0\n",
       "2021-04-13 18:00:00   7.07     0\n",
       "2021-03-06 02:00:00  34.53     0\n",
       "2021-02-20 04:00:00  34.94     0\n",
       "2021-10-23 21:00:00  45.43     0\n",
       "2021-05-18 16:00:00  20.11     0\n",
       "2021-03-27 15:00:00  11.13     0\n",
       "2021-11-23 18:00:00  52.57     1\n",
       "2021-12-03 18:00:00  72.10     1\n",
       "2021-05-22 13:00:00  24.39     0\n",
       "2021-10-21 06:00:00  29.42     0\n",
       "2021-09-10 05:00:00  16.74     0\n",
       "2021-10-08 12:00:00  56.05     1\n",
       "2021-01-03 09:00:00  13.65     0\n",
       "2021-08-10 19:00:00  58.75     1"
      ]
     },
     "execution_count": 16,
     "metadata": {},
     "output_type": "execute_result"
    }
   ],
   "source": [
    "# sanity check\n",
    "df_target.sample(17,random_state=31)"
   ]
  },
  {
   "cell_type": "markdown",
   "id": "cb17d6cf",
   "metadata": {},
   "source": [
    "Looks good. We can move on."
   ]
  },
  {
   "cell_type": "code",
   "execution_count": 17,
   "id": "f3ecbb58",
   "metadata": {},
   "outputs": [
    {
     "data": {
      "text/plain": [
       "838"
      ]
     },
     "execution_count": 17,
     "metadata": {},
     "output_type": "execute_result"
    }
   ],
   "source": [
    "# total instances of peak price happening\n",
    "df_target['peak'].sum()"
   ]
  },
  {
   "cell_type": "code",
   "execution_count": 18,
   "id": "d2d652fa",
   "metadata": {},
   "outputs": [
    {
     "data": {
      "text/plain": [
       "9.5662100456621"
      ]
     },
     "execution_count": 18,
     "metadata": {},
     "output_type": "execute_result"
    }
   ],
   "source": [
    "# percentage of peak occurances overal\n",
    "df_target['peak'].sum()/8760 * 100"
   ]
  },
  {
   "cell_type": "markdown",
   "id": "34175fc9",
   "metadata": {},
   "source": [
    "Very cool.\n",
    "\n",
    "Let's get our hands dirty with some serious machine learning stuff!"
   ]
  },
  {
   "cell_type": "markdown",
   "id": "29f09fcc",
   "metadata": {},
   "source": [
    "## Features DateFrame"
   ]
  },
  {
   "cell_type": "code",
   "execution_count": 19,
   "id": "f8b9797d",
   "metadata": {},
   "outputs": [
    {
     "data": {
      "text/plain": [
       "Index(['2021 Demand', 'Annual Surplus', 'Output/Cap', 'Market Surplus'], dtype='object')"
      ]
     },
     "execution_count": 19,
     "metadata": {},
     "output_type": "execute_result"
    }
   ],
   "source": [
    "new_features_df.columns"
   ]
  },
  {
   "cell_type": "code",
   "execution_count": 20,
   "id": "ccb3ab5b",
   "metadata": {},
   "outputs": [],
   "source": [
    "features_df = pd.DataFrame()\n",
    "\n",
    "# selecting the best three features\n",
    "features_df = new_features_df[['2021 Demand','Market Surplus','Output/Cap']]"
   ]
  },
  {
   "cell_type": "code",
   "execution_count": 21,
   "id": "d77fc221",
   "metadata": {},
   "outputs": [
    {
     "data": {
      "text/plain": [
       "<Axes: >"
      ]
     },
     "execution_count": 21,
     "metadata": {},
     "output_type": "execute_result"
    },
    {
     "data": {
      "image/png": "[encoded data removed]",
      "text/plain": [
       "<Figure size 640x480 with 2 Axes>"
      ]
     },
     "metadata": {},
     "output_type": "display_data"
    }
   ],
   "source": [
    "sns.heatmap(features_df.corr(),annot=True)"
   ]
  },
  {
   "cell_type": "markdown",
   "id": "491fe413",
   "metadata": {},
   "source": [
    "The strong correlation between <i> Output/Capacity Ratio</i> and <i> \"2021 Demand\" </i> is one of the weak points of our data modelling. But we soldier on!"
   ]
  },
  {
   "cell_type": "code",
   "execution_count": 22,
   "id": "8a525c82",
   "metadata": {},
   "outputs": [],
   "source": [
    "from sklearn.model_selection import train_test_split"
   ]
  },
  {
   "cell_type": "code",
   "execution_count": 23,
   "id": "3c2a62d1",
   "metadata": {},
   "outputs": [
    {
     "data": {
      "text/plain": [
       "Index(['Price', 'peak'], dtype='object')"
      ]
     },
     "execution_count": 23,
     "metadata": {},
     "output_type": "execute_result"
    }
   ],
   "source": [
    "df_target.columns"
   ]
  },
  {
   "cell_type": "code",
   "execution_count": 24,
   "id": "25f0c9be",
   "metadata": {},
   "outputs": [],
   "source": [
    "# Splitting the data\n",
    "X_train, X_test, y_train, y_test = train_test_split(features_df, df_target['peak'], test_size=0.3, random_state=1)"
   ]
  },
  {
   "cell_type": "code",
   "execution_count": 25,
   "id": "a8ba2c47",
   "metadata": {},
   "outputs": [
    {
     "data": {
      "text/plain": [
       "600"
      ]
     },
     "execution_count": 25,
     "metadata": {},
     "output_type": "execute_result"
    }
   ],
   "source": [
    "y_train.sum()"
   ]
  },
  {
   "cell_type": "code",
   "execution_count": 26,
   "id": "1f97eaaf",
   "metadata": {},
   "outputs": [
    {
     "data": {
      "text/plain": [
       "238"
      ]
     },
     "execution_count": 26,
     "metadata": {},
     "output_type": "execute_result"
    }
   ],
   "source": [
    "y_test.sum()"
   ]
  },
  {
   "cell_type": "code",
   "execution_count": 27,
   "id": "b532e60c",
   "metadata": {},
   "outputs": [
    {
     "data": {
      "text/plain": [
       "6132"
      ]
     },
     "execution_count": 27,
     "metadata": {},
     "output_type": "execute_result"
    }
   ],
   "source": [
    "len(y_train)"
   ]
  },
  {
   "cell_type": "markdown",
   "id": "2f3c3970",
   "metadata": {},
   "source": [
    "# Logistic Regression"
   ]
  },
  {
   "cell_type": "code",
   "execution_count": 28,
   "id": "22252a27",
   "metadata": {},
   "outputs": [],
   "source": [
    "# importing the package\n",
    "from sklearn.linear_model import LogisticRegression\n",
    "\n",
    "# importing the package\n",
    "from sklearn.preprocessing import StandardScaler"
   ]
  },
  {
   "cell_type": "code",
   "execution_count": 29,
   "id": "3ee07175",
   "metadata": {},
   "outputs": [],
   "source": [
    "scaler = StandardScaler()\n",
    "X_train_scaled = scaler.fit_transform(X_train)\n",
    "X_test_scaled = scaler.fit_transform(X_test)"
   ]
  },
  {
   "cell_type": "code",
   "execution_count": 30,
   "id": "fa32cd47",
   "metadata": {},
   "outputs": [
    {
     "name": "stdout",
     "output_type": "stream",
     "text": [
      "The TRAIN classification accuracy is:  0.923679060665362\n",
      "The TEST classification accuracy is:  0.9292237442922374\n"
     ]
    }
   ],
   "source": [
    "# Fitting the linear model\n",
    "LR_model = LogisticRegression(C=0.1, solver='lbfgs', max_iter=10000, random_state=42)\n",
    "LR_model.fit(X_train_scaled, y_train)\n",
    "\n",
    "print(f\"The TRAIN classification accuracy is:  {LR_model.score(X_train_scaled,y_train)}\")\n",
    "print(f\"The TEST classification accuracy is:  {LR_model.score(X_test_scaled,y_test)}\")"
   ]
  },
  {
   "cell_type": "markdown",
   "id": "31ce2ba8",
   "metadata": {},
   "source": [
    "In order to evaluate this performance, we need to look at the confusion matrix.\n",
    "\n",
    "In binary classification, there are four possible outcomes to making a prediction:\n",
    "\n",
    "1. **True Positive (TP)**: Correctly predict that $x$ belongs to class 1 (Peak Price)\n",
    "2. **False Positive (FP)**: Incorrectly predict that $x$  belongs to class 1 (Peak Price)\n",
    "3. **True Negative (TN)**: Correctly predict $x$'s membership in class 0 (Normal Price)\n",
    "4. **False Negative (FN)**: Incorrectly predict $x$'s membership in class 0 (Normal Price)\n",
    "\n",
    "If we put these outcomes in a matrix, we arrive at what is known as a confusion matrix:\n",
    "\n",
    "|     |  Predicted Class 0  |   Predicted Class 1  | \n",
    "| --------- |:---:|:---:|\n",
    "|True Class 0|**TN** | **FP** | \n",
    "|True Class 1|**FN** |**TP** | \n"
   ]
  },
  {
   "cell_type": "code",
   "execution_count": 31,
   "id": "55ded50d",
   "metadata": {},
   "outputs": [],
   "source": [
    "# importing useful packages\n",
    "from sklearn.metrics import confusion_matrix, classification_report"
   ]
  },
  {
   "cell_type": "code",
   "execution_count": 32,
   "id": "4dbe2ac0",
   "metadata": {},
   "outputs": [
    {
     "name": "stderr",
     "output_type": "stream",
     "text": [
      "/home/behroox/anaconda3/envs/ML_experiment/lib/python3.8/site-packages/sklearn/base.py:457: UserWarning: X has feature names, but LogisticRegression was fitted without feature names\n",
      "  warnings.warn(\n"
     ]
    },
    {
     "data": {
      "text/plain": [
       "array([[2390,    0],\n",
       "       [ 238,    0]])"
      ]
     },
     "execution_count": 32,
     "metadata": {},
     "output_type": "execute_result"
    }
   ],
   "source": [
    "y_pred = LR_model.predict(X_test)\n",
    "confusion_matrix(y_test, y_pred)"
   ]
  },
  {
   "cell_type": "code",
   "execution_count": 33,
   "id": "33b2a5aa",
   "metadata": {},
   "outputs": [
    {
     "data": {
      "text/plain": [
       "238"
      ]
     },
     "execution_count": 33,
     "metadata": {},
     "output_type": "execute_result"
    }
   ],
   "source": [
    "y_test.sum()"
   ]
  },
  {
   "cell_type": "code",
   "execution_count": 34,
   "id": "40039bd7",
   "metadata": {},
   "outputs": [
    {
     "data": {
      "text/plain": [
       "0"
      ]
     },
     "execution_count": 34,
     "metadata": {},
     "output_type": "execute_result"
    }
   ],
   "source": [
    "y_pred.sum()"
   ]
  },
  {
   "cell_type": "code",
   "execution_count": 35,
   "id": "23befb52-4876-4820-a0d5-517ff0d6cf7c",
   "metadata": {},
   "outputs": [
    {
     "data": {
      "text/plain": [
       "600"
      ]
     },
     "execution_count": 35,
     "metadata": {},
     "output_type": "execute_result"
    }
   ],
   "source": [
    "y_train.sum()"
   ]
  },
  {
   "cell_type": "code",
   "execution_count": 36,
   "id": "bea9380a",
   "metadata": {},
   "outputs": [
    {
     "data": {
      "text/plain": [
       "Date Time\n",
       "2021-05-01 03:00:00    0\n",
       "Name: peak, dtype: int64"
      ]
     },
     "execution_count": 36,
     "metadata": {},
     "output_type": "execute_result"
    }
   ],
   "source": [
    "y_train.sample()"
   ]
  },
  {
   "cell_type": "markdown",
   "id": "176f7b9a-d583-45d8-970f-e131889caa60",
   "metadata": {},
   "source": [
    "<hr>"
   ]
  },
  {
   "cell_type": "markdown",
   "id": "a251c308",
   "metadata": {},
   "source": [
    "Right! This is not good! <br> Our model has totally failed at predicting peak prices! Let's investigate."
   ]
  },
  {
   "cell_type": "code",
   "execution_count": 37,
   "id": "a7eb6c15-6675-4b48-93a5-ecce1b8a82e6",
   "metadata": {},
   "outputs": [
    {
     "name": "stderr",
     "output_type": "stream",
     "text": [
      "/home/behroox/anaconda3/envs/ML_experiment/lib/python3.8/site-packages/sklearn/base.py:457: UserWarning: X has feature names, but LogisticRegression was fitted without feature names\n",
      "  warnings.warn(\n"
     ]
    },
    {
     "data": {
      "text/html": [
       "<div>\n",
       "<style scoped>\n",
       "    .dataframe tbody tr th:only-of-type {\n",
       "        vertical-align: middle;\n",
       "    }\n",
       "\n",
       "    .dataframe tbody tr th {\n",
       "        vertical-align: top;\n",
       "    }\n",
       "\n",
       "    .dataframe thead th {\n",
       "        text-align: right;\n",
       "    }\n",
       "</style>\n",
       "<table border=\"1\" class=\"dataframe\">\n",
       "  <thead>\n",
       "    <tr style=\"text-align: right;\">\n",
       "      <th></th>\n",
       "      <th>Predicted Non-peak</th>\n",
       "      <th>Predicted Peak</th>\n",
       "    </tr>\n",
       "  </thead>\n",
       "  <tbody>\n",
       "    <tr>\n",
       "      <th>True Non-Peak</th>\n",
       "      <td>2390</td>\n",
       "      <td>0</td>\n",
       "    </tr>\n",
       "    <tr>\n",
       "      <th>True Peak Price</th>\n",
       "      <td>238</td>\n",
       "      <td>0</td>\n",
       "    </tr>\n",
       "  </tbody>\n",
       "</table>\n",
       "</div>"
      ],
      "text/plain": [
       "                 Predicted Non-peak  Predicted Peak\n",
       "True Non-Peak                  2390               0\n",
       "True Peak Price                 238               0"
      ]
     },
     "metadata": {},
     "output_type": "display_data"
    }
   ],
   "source": [
    "# Get class predictions\n",
    "y_pred = LR_model.predict(X_test)\n",
    "\n",
    "# Generate confusion matrix\n",
    "cf_matrix = confusion_matrix(y_test, y_pred)\n",
    "\n",
    "# label rows and columns\n",
    "cf_df = pd.DataFrame(\n",
    "    cf_matrix, \n",
    "    columns=[\"Predicted Non-peak\", \"Predicted Peak\"],\n",
    "    index=[\"True Non-Peak\", \"True Peak Price\"]\n",
    ")\n",
    "\n",
    "display(cf_df)"
   ]
  },
  {
   "cell_type": "markdown",
   "id": "f94cdd22-e66b-4382-bafc-d9ea4eeb1e84",
   "metadata": {},
   "source": [
    "One way of dealing with this problem, is attempting to configure the Logistic Regression so that it would address the imbalanced databy adjusting \"weights\" associated with the classed. Let's try this."
   ]
  },
  {
   "cell_type": "code",
   "execution_count": 38,
   "id": "e0e5a047-ec29-40ed-b7e2-7017286e06f6",
   "metadata": {},
   "outputs": [
    {
     "data": {
      "text/html": [
       "<style>#sk-container-id-1 {color: black;}#sk-container-id-1 pre{padding: 0;}#sk-container-id-1 div.sk-toggleable {background-color: white;}#sk-container-id-1 label.sk-toggleable__label {cursor: pointer;display: block;width: 100%;margin-bottom: 0;padding: 0.3em;box-sizing: border-box;text-align: center;}#sk-container-id-1 label.sk-toggleable__label-arrow:before {content: \"▸\";float: left;margin-right: 0.25em;color: #696969;}#sk-container-id-1 label.sk-toggleable__label-arrow:hover:before {color: black;}#sk-container-id-1 div.sk-estimator:hover label.sk-toggleable__label-arrow:before {color: black;}#sk-container-id-1 div.sk-toggleable__content {max-height: 0;max-width: 0;overflow: hidden;text-align: left;background-color: #f0f8ff;}#sk-container-id-1 div.sk-toggleable__content pre {margin: 0.2em;color: black;border-radius: 0.25em;background-color: #f0f8ff;}#sk-container-id-1 input.sk-toggleable__control:checked~div.sk-toggleable__content {max-height: 200px;max-width: 100%;overflow: auto;}#sk-container-id-1 input.sk-toggleable__control:checked~label.sk-toggleable__label-arrow:before {content: \"▾\";}#sk-container-id-1 div.sk-estimator input.sk-toggleable__control:checked~label.sk-toggleable__label {background-color: #d4ebff;}#sk-container-id-1 div.sk-label input.sk-toggleable__control:checked~label.sk-toggleable__label {background-color: #d4ebff;}#sk-container-id-1 input.sk-hidden--visually {border: 0;clip: rect(1px 1px 1px 1px);clip: rect(1px, 1px, 1px, 1px);height: 1px;margin: -1px;overflow: hidden;padding: 0;position: absolute;width: 1px;}#sk-container-id-1 div.sk-estimator {font-family: monospace;background-color: #f0f8ff;border: 1px dotted black;border-radius: 0.25em;box-sizing: border-box;margin-bottom: 0.5em;}#sk-container-id-1 div.sk-estimator:hover {background-color: #d4ebff;}#sk-container-id-1 div.sk-parallel-item::after {content: \"\";width: 100%;border-bottom: 1px solid gray;flex-grow: 1;}#sk-container-id-1 div.sk-label:hover label.sk-toggleable__label {background-color: #d4ebff;}#sk-container-id-1 div.sk-serial::before {content: \"\";position: absolute;border-left: 1px solid gray;box-sizing: border-box;top: 0;bottom: 0;left: 50%;z-index: 0;}#sk-container-id-1 div.sk-serial {display: flex;flex-direction: column;align-items: center;background-color: white;padding-right: 0.2em;padding-left: 0.2em;position: relative;}#sk-container-id-1 div.sk-item {position: relative;z-index: 1;}#sk-container-id-1 div.sk-parallel {display: flex;align-items: stretch;justify-content: center;background-color: white;position: relative;}#sk-container-id-1 div.sk-item::before, #sk-container-id-1 div.sk-parallel-item::before {content: \"\";position: absolute;border-left: 1px solid gray;box-sizing: border-box;top: 0;bottom: 0;left: 50%;z-index: -1;}#sk-container-id-1 div.sk-parallel-item {display: flex;flex-direction: column;z-index: 1;position: relative;background-color: white;}#sk-container-id-1 div.sk-parallel-item:first-child::after {align-self: flex-end;width: 50%;}#sk-container-id-1 div.sk-parallel-item:last-child::after {align-self: flex-start;width: 50%;}#sk-container-id-1 div.sk-parallel-item:only-child::after {width: 0;}#sk-container-id-1 div.sk-dashed-wrapped {border: 1px dashed gray;margin: 0 0.4em 0.5em 0.4em;box-sizing: border-box;padding-bottom: 0.4em;background-color: white;}#sk-container-id-1 div.sk-label label {font-family: monospace;font-weight: bold;display: inline-block;line-height: 1.2em;}#sk-container-id-1 div.sk-label-container {text-align: center;}#sk-container-id-1 div.sk-container {/* jupyter's `normalize.less` sets `[hidden] { display: none; }` but bootstrap.min.css set `[hidden] { display: none !important; }` so we also need the `!important` here to be able to override the default hidden behavior on the sphinx rendered scikit-learn.org. See: https://github.com/scikit-learn/scikit-learn/issues/21755 */display: inline-block !important;position: relative;}#sk-container-id-1 div.sk-text-repr-fallback {display: none;}</style><div id=\"sk-container-id-1\" class=\"sk-top-container\"><div class=\"sk-text-repr-fallback\"><pre>LogisticRegression(C=0.1, class_weight=&#x27;balanced&#x27;, max_iter=1000,\n",
       "                   random_state=42)</pre><b>In a Jupyter environment, please rerun this cell to show the HTML representation or trust the notebook. <br />On GitHub, the HTML representation is unable to render, please try loading this page with nbviewer.org.</b></div><div class=\"sk-container\" hidden><div class=\"sk-item\"><div class=\"sk-estimator sk-toggleable\"><input class=\"sk-toggleable__control sk-hidden--visually\" id=\"sk-estimator-id-1\" type=\"checkbox\" checked><label for=\"sk-estimator-id-1\" class=\"sk-toggleable__label sk-toggleable__label-arrow\">LogisticRegression</label><div class=\"sk-toggleable__content\"><pre>LogisticRegression(C=0.1, class_weight=&#x27;balanced&#x27;, max_iter=1000,\n",
       "                   random_state=42)</pre></div></div></div></div></div>"
      ],
      "text/plain": [
       "LogisticRegression(C=0.1, class_weight='balanced', max_iter=1000,\n",
       "                   random_state=42)"
      ]
     },
     "execution_count": 38,
     "metadata": {},
     "output_type": "execute_result"
    }
   ],
   "source": [
    "# Fitting the linear model\n",
    "LR_model = LogisticRegression(C=0.1, max_iter=1000, class_weight='balanced', random_state=42)\n",
    "LR_model.fit(X_train_scaled, y_train)"
   ]
  },
  {
   "cell_type": "code",
   "execution_count": 39,
   "id": "39d4519c-6e7e-4d78-83c7-47f0db796739",
   "metadata": {},
   "outputs": [
    {
     "name": "stdout",
     "output_type": "stream",
     "text": [
      "The TRAIN classification accuracy is:  0.8251793868232224\n",
      "The TEST classification accuracy is:  0.8318112633181126\n"
     ]
    }
   ],
   "source": [
    "print(f\"The TRAIN classification accuracy is:  {LR_model.score(X_train_scaled,y_train)}\")\n",
    "print(f\"The TEST classification accuracy is:  {LR_model.score(X_test_scaled,y_test)}\")"
   ]
  },
  {
   "cell_type": "code",
   "execution_count": 40,
   "id": "ad974e51-7a96-402b-8879-84e24a38acb1",
   "metadata": {},
   "outputs": [
    {
     "name": "stderr",
     "output_type": "stream",
     "text": [
      "/home/behroox/anaconda3/envs/ML_experiment/lib/python3.8/site-packages/sklearn/base.py:457: UserWarning: X has feature names, but LogisticRegression was fitted without feature names\n",
      "  warnings.warn(\n"
     ]
    },
    {
     "data": {
      "text/html": [
       "<div>\n",
       "<style scoped>\n",
       "    .dataframe tbody tr th:only-of-type {\n",
       "        vertical-align: middle;\n",
       "    }\n",
       "\n",
       "    .dataframe tbody tr th {\n",
       "        vertical-align: top;\n",
       "    }\n",
       "\n",
       "    .dataframe thead th {\n",
       "        text-align: right;\n",
       "    }\n",
       "</style>\n",
       "<table border=\"1\" class=\"dataframe\">\n",
       "  <thead>\n",
       "    <tr style=\"text-align: right;\">\n",
       "      <th></th>\n",
       "      <th>Predicted Non-peak</th>\n",
       "      <th>Predicted Peak</th>\n",
       "    </tr>\n",
       "  </thead>\n",
       "  <tbody>\n",
       "    <tr>\n",
       "      <th>True Non-Peak</th>\n",
       "      <td>2390</td>\n",
       "      <td>0</td>\n",
       "    </tr>\n",
       "    <tr>\n",
       "      <th>True Peak Price</th>\n",
       "      <td>238</td>\n",
       "      <td>0</td>\n",
       "    </tr>\n",
       "  </tbody>\n",
       "</table>\n",
       "</div>"
      ],
      "text/plain": [
       "                 Predicted Non-peak  Predicted Peak\n",
       "True Non-Peak                  2390               0\n",
       "True Peak Price                 238               0"
      ]
     },
     "metadata": {},
     "output_type": "display_data"
    }
   ],
   "source": [
    "# Get class predictions\n",
    "y_pred = LR_model.predict(X_test)\n",
    "\n",
    "# Generate confusion matrix\n",
    "cf_matrix = confusion_matrix(y_test, y_pred)\n",
    "\n",
    "# label rows and columns\n",
    "cf_df = pd.DataFrame(\n",
    "    cf_matrix, \n",
    "    columns=[\"Predicted Non-peak\", \"Predicted Peak\"],\n",
    "    index=[\"True Non-Peak\", \"True Peak Price\"]\n",
    ")\n",
    "\n",
    "display(cf_df)"
   ]
  },
  {
   "cell_type": "markdown",
   "id": "97985a50-3ecf-4d7e-9d91-508738a104ea",
   "metadata": {},
   "source": [
    "Right; that didn't help.\n",
    "\n",
    "Let's move on to another approach: synthetic upsampling."
   ]
  },
  {
   "cell_type": "markdown",
   "id": "3cd03b45-4c7b-4e1f-b23a-3f0aea4c750f",
   "metadata": {},
   "source": [
    "<hr>"
   ]
  },
  {
   "cell_type": "markdown",
   "id": "9badc861",
   "metadata": {},
   "source": [
    "## Upsampling"
   ]
  },
  {
   "cell_type": "markdown",
   "id": "964b83b5",
   "metadata": {},
   "source": [
    "Our data suffers from a serious problem: our two classes are severly out of balance! Meaning, we have a lot more \"False\" statements in our target (peak price) and barely 10% of \"True\" statements. We will look into addressing this issue."
   ]
  },
  {
   "cell_type": "code",
   "execution_count": 41,
   "id": "546b26d0",
   "metadata": {},
   "outputs": [],
   "source": [
    "# upsample the credit card example\n",
    "from sklearn.utils import resample"
   ]
  },
  {
   "cell_type": "code",
   "execution_count": 42,
   "id": "18772127",
   "metadata": {},
   "outputs": [],
   "source": [
    "df_target.reset_index(inplace=True)"
   ]
  },
  {
   "cell_type": "code",
   "execution_count": 43,
   "id": "43f8d084",
   "metadata": {},
   "outputs": [
    {
     "name": "stdout",
     "output_type": "stream",
     "text": [
      "Number of class 1 examples before resampling: 600\n"
     ]
    }
   ],
   "source": [
    "X_train, X_test, y_train, y_test = train_test_split(features_df, df_target['peak'], test_size = 0.3, random_state=1)\n",
    "\n",
    "# Upsample\n",
    "print('Number of class 1 examples before resampling:', X_train[y_train == 1].shape[0])"
   ]
  },
  {
   "cell_type": "markdown",
   "id": "ca136e8a-97bc-4a2c-acd6-ae25fb4cf75b",
   "metadata": {},
   "source": [
    "Cool.\n",
    "\n",
    "So, of the 8760 data points that we had, there were a total of 838 instances of 'peak price' occuring. Naturally, once we split the data into Train, Test, and Predict sub-groups, we will be dealing with a smaller group of the class of interest (peak price). \n",
    "\n",
    "But crucially, it is the proportion that matters most. Hence the need to resample, in order to address the under representation of the class which we are interested in predicting."
   ]
  },
  {
   "cell_type": "markdown",
   "id": "9ee274e3-f875-434b-8c0b-d447dbba7498",
   "metadata": {},
   "source": [
    "## Resample"
   ]
  },
  {
   "cell_type": "code",
   "execution_count": 44,
   "id": "a364ae8d",
   "metadata": {},
   "outputs": [
    {
     "name": "stdout",
     "output_type": "stream",
     "text": [
      "Number of class 1 examples after: 5532\n"
     ]
    }
   ],
   "source": [
    "X_upsampled, y_upsampled = resample(X_train[y_train == 1], \n",
    "                                    y_train[y_train == 1], \n",
    "                                    replace=True, \n",
    "                                    # this line aims to truly balance the classes, by getting the number of class 0\n",
    "                                    # and repeating the resampling process until class 1 counts gets on par with class 0\n",
    "                                    n_samples=X_train[y_train == 0].shape[0], \n",
    "                                    random_state=123)\n",
    "\n",
    "print('Number of class 1 examples after:', X_upsampled.shape[0])\n",
    "\n",
    "# Combine upsample with original data\n",
    "X_train_bal = np.vstack((X_train[y_train == 0], X_upsampled))\n",
    "y_train_bal = np.hstack((y_train[y_train == 0], y_upsampled))"
   ]
  },
  {
   "cell_type": "code",
   "execution_count": 45,
   "id": "f6b70691",
   "metadata": {},
   "outputs": [
    {
     "data": {
      "text/plain": [
       "11064"
      ]
     },
     "execution_count": 45,
     "metadata": {},
     "output_type": "execute_result"
    }
   ],
   "source": [
    "len(X_train_bal)"
   ]
  },
  {
   "cell_type": "code",
   "execution_count": 46,
   "id": "134acb3a",
   "metadata": {},
   "outputs": [
    {
     "data": {
      "text/plain": [
       "11064"
      ]
     },
     "execution_count": 46,
     "metadata": {},
     "output_type": "execute_result"
    }
   ],
   "source": [
    "len(y_train_bal)"
   ]
  },
  {
   "cell_type": "code",
   "execution_count": 47,
   "id": "0f4db560",
   "metadata": {},
   "outputs": [
    {
     "data": {
      "text/plain": [
       "5532"
      ]
     },
     "execution_count": 47,
     "metadata": {},
     "output_type": "execute_result"
    }
   ],
   "source": [
    "y_upsampled.sum()"
   ]
  },
  {
   "cell_type": "markdown",
   "id": "7cfb20c0",
   "metadata": {},
   "source": [
    "Very cool. We can move on, now that we have addressed the unbalanced target dataset."
   ]
  },
  {
   "cell_type": "code",
   "execution_count": 48,
   "id": "8857e0f4",
   "metadata": {},
   "outputs": [],
   "source": [
    "X_test = X_test.values"
   ]
  },
  {
   "cell_type": "code",
   "execution_count": 49,
   "id": "32aaa453-588e-4200-8af0-d515a2fe5956",
   "metadata": {},
   "outputs": [],
   "source": [
    "# on the upsampled data\n",
    "Logistic_Reg_balanced = LogisticRegression(C=0.1, random_state=42)\n",
    "Logistic_Reg_balanced.fit(X_train_bal, y_train_bal)\n",
    "\n",
    "# evaluate on the original test set - NO UPSAMPLING\n",
    "y_pred_bal = Logistic_Reg_balanced.predict(X_test) "
   ]
  },
  {
   "cell_type": "code",
   "execution_count": 50,
   "id": "23be90ed-3c68-4d7e-8b8d-b11f7713cf20",
   "metadata": {},
   "outputs": [
    {
     "name": "stdout",
     "output_type": "stream",
     "text": [
      "The TRAIN classification accuracy is:  0.5357142857142857\n",
      "The TEST classification accuracy is:  0.5254946727549468\n"
     ]
    }
   ],
   "source": [
    "print(f\"The TRAIN classification accuracy is:  {Logistic_Reg_balanced.score(X_train_scaled,y_train)}\")\n",
    "print(f\"The TEST classification accuracy is:  {Logistic_Reg_balanced.score(X_test_scaled,y_test)}\")"
   ]
  },
  {
   "cell_type": "code",
   "execution_count": 51,
   "id": "bf666620-ad77-41c6-b434-3e4777f9e5e5",
   "metadata": {},
   "outputs": [
    {
     "data": {
      "text/html": [
       "<div>\n",
       "<style scoped>\n",
       "    .dataframe tbody tr th:only-of-type {\n",
       "        vertical-align: middle;\n",
       "    }\n",
       "\n",
       "    .dataframe tbody tr th {\n",
       "        vertical-align: top;\n",
       "    }\n",
       "\n",
       "    .dataframe thead th {\n",
       "        text-align: right;\n",
       "    }\n",
       "</style>\n",
       "<table border=\"1\" class=\"dataframe\">\n",
       "  <thead>\n",
       "    <tr style=\"text-align: right;\">\n",
       "      <th></th>\n",
       "      <th>Predicted Non-peak</th>\n",
       "      <th>Predicted Peak</th>\n",
       "    </tr>\n",
       "  </thead>\n",
       "  <tbody>\n",
       "    <tr>\n",
       "      <th>True Non-Peak</th>\n",
       "      <td>1379</td>\n",
       "      <td>1011</td>\n",
       "    </tr>\n",
       "    <tr>\n",
       "      <th>True Peak Price</th>\n",
       "      <td>50</td>\n",
       "      <td>188</td>\n",
       "    </tr>\n",
       "  </tbody>\n",
       "</table>\n",
       "</div>"
      ],
      "text/plain": [
       "                 Predicted Non-peak  Predicted Peak\n",
       "True Non-Peak                  1379            1011\n",
       "True Peak Price                  50             188"
      ]
     },
     "metadata": {},
     "output_type": "display_data"
    }
   ],
   "source": [
    "# Get class predictions\n",
    "y_pred = Logistic_Reg_balanced.predict(X_test)\n",
    "\n",
    "# Generate confusion matrix\n",
    "cf_matrix = confusion_matrix(y_test, y_pred)\n",
    "\n",
    "# label rows and columns\n",
    "cf_df = pd.DataFrame(\n",
    "    cf_matrix, \n",
    "    columns=[\"Predicted Non-peak\", \"Predicted Peak\"],\n",
    "    index=[\"True Non-Peak\", \"True Peak Price\"]\n",
    ")\n",
    "\n",
    "display(cf_df)"
   ]
  },
  {
   "cell_type": "markdown",
   "id": "4dd4ec24-3fdb-4884-8ce9-e3072f76904b",
   "metadata": {},
   "source": [
    "This is a marked improvement!\n",
    "\n",
    "True Positives (TP) in this case (after up-sampling) are now 188 instances. Previously they were ZERO. There are over a thousand instances of False Positives (FP). But this is not concerning, because false positives in this case do not cost us anything. The only remaining issue, is the False Negative (a total of 50) here, which unfortunately is going to be costly in our business case.\n",
    "\n",
    "Next, we can move on to HyperParameter Optimization."
   ]
  },
  {
   "cell_type": "markdown",
   "id": "b013424b-ccd7-4ba6-a1cf-d03454d06ce6",
   "metadata": {},
   "source": [
    "<hr>"
   ]
  },
  {
   "cell_type": "markdown",
   "id": "958691e4-f81d-49e9-80a3-9d360b0c8f3b",
   "metadata": {},
   "source": [
    "## Hyper-parameter optimization\n",
    "\n",
    "For this step, we need further split our data: about 20 percent for testing, and 80% for hyper-parameter optimization. This 80% (the remainder) will be further split into two chunks: 70% training, and 30% validation."
   ]
  },
  {
   "cell_type": "code",
   "execution_count": 53,
   "id": "14e08316-2b41-44b5-ac26-c0443b357f29",
   "metadata": {},
   "outputs": [],
   "source": [
    "# Taking a chuck for our 20% test set\n",
    "X_remainder, X_test, y_remainder, y_test = train_test_split(features_df, df_target['peak'], test_size = 0.2,random_state=1)"
   ]
  },
  {
   "cell_type": "code",
   "execution_count": 54,
   "id": "1b4def04-3e58-49b1-9681-909e483632c6",
   "metadata": {},
   "outputs": [],
   "source": [
    "# Splitting the remainder in two chunks\n",
    "X_train, X_validation, y_train, y_validation = train_test_split(X_remainder, y_remainder, test_size = 0.3, random_state=1)"
   ]
  },
  {
   "cell_type": "code",
   "execution_count": 55,
   "id": "383363bf-2dfc-46d3-8395-afe365df50c9",
   "metadata": {},
   "outputs": [
    {
     "name": "stdout",
     "output_type": "stream",
     "text": [
      "Shape of test set: (1752, 3)\n",
      "Shape of validation set: (2103, 3)\n",
      "Shape of train set: (4905, 3)\n"
     ]
    }
   ],
   "source": [
    "print(f'Shape of test set: {X_test.shape}')\n",
    "print(f'Shape of validation set: {X_validation.shape}')\n",
    "print(f'Shape of train set: {X_train.shape}')"
   ]
  },
  {
   "cell_type": "code",
   "execution_count": 56,
   "id": "bbb118b6-18d9-47b8-8fc6-13ddc94ecab6",
   "metadata": {},
   "outputs": [],
   "source": [
    "scaler = StandardScaler()\n",
    "X_train_scaled = scaler.fit_transform(X_train)\n",
    "X_validation_scaled = scaler.fit_transform(X_validation)\n",
    "X_test_scaled = scaler.fit_transform(X_test)"
   ]
  },
  {
   "cell_type": "code",
   "execution_count": 57,
   "id": "968b83c4-a69b-4d3b-bdb2-ba393ece6957",
   "metadata": {},
   "outputs": [
    {
     "data": {
      "text/plain": [
       "0.10128388017118402"
      ]
     },
     "execution_count": 57,
     "metadata": {},
     "output_type": "execute_result"
    }
   ],
   "source": [
    "y_validation.mean()"
   ]
  },
  {
   "cell_type": "markdown",
   "id": "d8ef53f4-0a2f-4fa2-a191-cbcc0228d837",
   "metadata": {},
   "source": [
    "Now we are going use the \"resample\" utility from SKLearn to Up-Sample our data, for better training."
   ]
  },
  {
   "cell_type": "code",
   "execution_count": 58,
   "id": "fa8be403-449a-4292-82e1-ac739a36c19a",
   "metadata": {},
   "outputs": [],
   "source": [
    "X_test = X_test.values"
   ]
  },
  {
   "cell_type": "code",
   "execution_count": 59,
   "id": "1400480c-42a2-4d99-9b4f-fd021635d89a",
   "metadata": {},
   "outputs": [
    {
     "name": "stdout",
     "output_type": "stream",
     "text": [
      "Number of class 1 examples after: 4450\n"
     ]
    }
   ],
   "source": [
    "X_upsampled, y_upsampled = resample(X_train[y_train == 1], \n",
    "                                    y_train[y_train == 1], \n",
    "                                    replace=True, \n",
    "                                    # this line aims to truly balance the classes, by getting the number of class 0\n",
    "                                    # and repeating the resampling process until class 1 counts gets on par with class 0\n",
    "                                    n_samples=X_train[y_train == 0].shape[0], \n",
    "                                    random_state=123)\n",
    "\n",
    "print('Number of class 1 examples after:', X_upsampled.shape[0])\n",
    "\n",
    "# Combine upsample with original data\n",
    "X_train_bal = np.vstack((X_train[y_train == 0], X_upsampled))\n",
    "y_train_bal = np.hstack((y_train[y_train == 0], y_upsampled))"
   ]
  },
  {
   "cell_type": "code",
   "execution_count": 60,
   "id": "bf48163d-3497-433e-8b8f-9acb4c969657",
   "metadata": {},
   "outputs": [
    {
     "data": {
      "text/plain": [
       "8900"
      ]
     },
     "execution_count": 60,
     "metadata": {},
     "output_type": "execute_result"
    }
   ],
   "source": [
    "len(y_train_bal)"
   ]
  },
  {
   "cell_type": "code",
   "execution_count": 61,
   "id": "eb4b2839-848b-4a03-babb-4d2402fccf13",
   "metadata": {},
   "outputs": [
    {
     "data": {
      "text/plain": [
       "4450"
      ]
     },
     "execution_count": 61,
     "metadata": {},
     "output_type": "execute_result"
    }
   ],
   "source": [
    "y_upsampled.sum()"
   ]
  },
  {
   "cell_type": "code",
   "execution_count": 62,
   "id": "0ecb69ff-d0af-4563-aa50-23c1762590be",
   "metadata": {},
   "outputs": [],
   "source": [
    "# on the upsampled data\n",
    "Logistic_Reg_balanced = LogisticRegression(C=0.1, random_state=42)\n",
    "Logistic_Reg_balanced.fit(X_train_bal, y_train_bal)\n",
    "\n",
    "# evaluate on the original test set - NO UPSAMPLING\n",
    "y_pred_bal = Logistic_Reg_balanced.predict(X_test) "
   ]
  },
  {
   "cell_type": "code",
   "execution_count": 63,
   "id": "d5a82d71-7a25-49f5-9ab9-24d7aeb352e6",
   "metadata": {},
   "outputs": [],
   "source": [
    "validation_scores = []\n",
    "train_scores = []\n",
    "\n",
    "# this variable is the key variable in Logistic Regression performance, and we seek to find an optimum point\n",
    "C_range = np.array([.00000001,.0000001,.000001,.00001,.0001,.001,0.1,\\\n",
    "                1,10,100,1000,10000,100000,1000000,10000000,100000000,1000000000])\n",
    "\n",
    "# this loop iterates through different C values\n",
    "for c in C_range:\n",
    "    my_logreg = LogisticRegression(C=c, random_state=1)\n",
    "    my_logreg.fit(X_train_bal, y_train_bal)\n",
    "    \n",
    "    # train on traning set\n",
    "    train_scores.append(my_logreg.score(X_train_bal, y_train_bal))\n",
    "\n",
    "    # score on validation set\n",
    "    validation_scores.append(my_logreg.score(X_validation_scaled, y_validation))\n",
    "    "
   ]
  },
  {
   "cell_type": "code",
   "execution_count": 64,
   "id": "bc095f40-962e-4655-9b3b-ef349081158a",
   "metadata": {},
   "outputs": [
    {
     "data": {
      "image/png": "[encoded data removed]",
      "text/plain": [
       "<Figure size 1000x600 with 1 Axes>"
      ]
     },
     "metadata": {},
     "output_type": "display_data"
    }
   ],
   "source": [
    "# initiating the plot\n",
    "plt.figure(figsize=(10, 6))\n",
    "plt.plot(C_range, train_scores,label=\"Train Score\",marker='.')\n",
    "plt.plot(C_range, validation_scores,label=\"Validation Scores\",marker='.')\n",
    "plt.xscale('log')\n",
    "plt.xlabel('C')\n",
    "plt.ylabel('Accuracy')\n",
    "plt.title('HyperParameter Optimization for Logistic Regression')\n",
    "plt.legend()\n",
    "plt.show();"
   ]
  },
  {
   "cell_type": "code",
   "execution_count": 65,
   "id": "cc265cb1-9fb0-44a3-b9ce-734ac392884d",
   "metadata": {},
   "outputs": [
    {
     "data": {
      "text/html": [
       "<div>\n",
       "<style scoped>\n",
       "    .dataframe tbody tr th:only-of-type {\n",
       "        vertical-align: middle;\n",
       "    }\n",
       "\n",
       "    .dataframe tbody tr th {\n",
       "        vertical-align: top;\n",
       "    }\n",
       "\n",
       "    .dataframe thead th {\n",
       "        text-align: right;\n",
       "    }\n",
       "</style>\n",
       "<table border=\"1\" class=\"dataframe\">\n",
       "  <thead>\n",
       "    <tr style=\"text-align: right;\">\n",
       "      <th></th>\n",
       "      <th>Predicted Non-peak</th>\n",
       "      <th>Predicted Peak</th>\n",
       "    </tr>\n",
       "  </thead>\n",
       "  <tbody>\n",
       "    <tr>\n",
       "      <th>True Non-Peak</th>\n",
       "      <td>933</td>\n",
       "      <td>649</td>\n",
       "    </tr>\n",
       "    <tr>\n",
       "      <th>True Peak Price</th>\n",
       "      <td>35</td>\n",
       "      <td>135</td>\n",
       "    </tr>\n",
       "  </tbody>\n",
       "</table>\n",
       "</div>"
      ],
      "text/plain": [
       "                 Predicted Non-peak  Predicted Peak\n",
       "True Non-Peak                   933             649\n",
       "True Peak Price                  35             135"
      ]
     },
     "metadata": {},
     "output_type": "display_data"
    }
   ],
   "source": [
    "# Get class predictions\n",
    "y_pred = Logistic_Reg_balanced.predict(X_test)\n",
    "\n",
    "# Generate confusion matrix\n",
    "cf_matrix = confusion_matrix(y_test, y_pred)\n",
    "\n",
    "# label rows and columns\n",
    "cf_df = pd.DataFrame(\n",
    "    cf_matrix, \n",
    "    columns=[\"Predicted Non-peak\", \"Predicted Peak\"],\n",
    "    index=[\"True Non-Peak\", \"True Peak Price\"]\n",
    ")\n",
    "\n",
    "display(cf_df)"
   ]
  },
  {
   "cell_type": "markdown",
   "id": "5d8308f0-dcbc-48ef-8bbf-25d9fa6ed65f",
   "metadata": {},
   "source": [
    "Right! So Hyperparameter optimization has not improved our predictive capability. \n",
    "\n",
    "<hr>\n",
    "\n",
    "We know that Logistic Regression is not the best tool at our disposal. So, instead of spending more time optimizing this method, we are going to move on to Decision Trees, and Random Forests, hoping to achieve much bettwe results!\n",
    "\n",
    "Next Notebook will be notebook 05, titled: Decision Trees.\n",
    "\n",
    "<hr>\n",
    "\n",
    "End of notebook Four."
   ]
  },
  {
   "cell_type": "code",
   "execution_count": null,
   "id": "a46dc4ae-bb6d-4fc0-b309-ccce3f411f33",
   "metadata": {},
   "outputs": [],
   "source": []
  },
  {
   "cell_type": "code",
   "execution_count": null,
   "id": "162f519a-545b-4038-94a1-28a25fe0d0fd",
   "metadata": {},
   "outputs": [],
   "source": []
  },
  {
   "cell_type": "code",
   "execution_count": null,
   "id": "5f5cd637",
   "metadata": {},
   "outputs": [],
   "source": []
  }
 ],
 "metadata": {
  "kernelspec": {
   "display_name": "ML_experiment",
   "language": "python",
   "name": "ml_experiment"
  },
  "language_info": {
   "codemirror_mode": {
    "name": "ipython",
    "version": 3
   },
   "file_extension": ".py",
   "mimetype": "text/x-python",
   "name": "python",
   "nbconvert_exporter": "python",
   "pygments_lexer": "ipython3",
   "version": "3.8.18"
  }
 },
 "nbformat": 4,
 "nbformat_minor": 5
}
